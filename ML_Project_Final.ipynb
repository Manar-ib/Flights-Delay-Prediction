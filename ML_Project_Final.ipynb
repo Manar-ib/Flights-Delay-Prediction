{
 "cells": [
  {
   "cell_type": "markdown",
   "metadata": {},
   "source": [
    "# Flight Delay Prediction "
   ]
  },
  {
   "cell_type": "code",
   "execution_count": 34,
   "metadata": {},
   "outputs": [
    {
     "name": "stdout",
     "output_type": "stream",
     "text": [
      "The number of rows in the data set is 450017.\n",
      "The number of features is 12.\n"
     ]
    },
    {
     "data": {
      "text/html": [
       "<div>\n",
       "<style>\n",
       "    .dataframe thead tr:only-child th {\n",
       "        text-align: right;\n",
       "    }\n",
       "\n",
       "    .dataframe thead th {\n",
       "        text-align: left;\n",
       "    }\n",
       "\n",
       "    .dataframe tbody tr th {\n",
       "        vertical-align: top;\n",
       "    }\n",
       "</style>\n",
       "<table border=\"1\" class=\"dataframe\">\n",
       "  <thead>\n",
       "    <tr style=\"text-align: right;\">\n",
       "      <th></th>\n",
       "      <th>YEAR</th>\n",
       "      <th>QUARTER</th>\n",
       "      <th>MONTH</th>\n",
       "      <th>DAY_OF_MONTH</th>\n",
       "      <th>DAY_OF_WEEK</th>\n",
       "      <th>AIRLINE_ID</th>\n",
       "      <th>FL_NUM</th>\n",
       "      <th>ORIGIN_AIRPORT_ID</th>\n",
       "      <th>DEST_AIRPORT_ID</th>\n",
       "      <th>SCHED_DEP_TIME</th>\n",
       "      <th>SCHED_ARR_TIME</th>\n",
       "      <th>DELAY</th>\n",
       "    </tr>\n",
       "  </thead>\n",
       "  <tbody>\n",
       "    <tr>\n",
       "      <th>0</th>\n",
       "      <td>2017</td>\n",
       "      <td>1</td>\n",
       "      <td>1</td>\n",
       "      <td>7</td>\n",
       "      <td>6</td>\n",
       "      <td>19805</td>\n",
       "      <td>1766</td>\n",
       "      <td>11298</td>\n",
       "      <td>12889</td>\n",
       "      <td>1055</td>\n",
       "      <td>1154</td>\n",
       "      <td>0.0</td>\n",
       "    </tr>\n",
       "    <tr>\n",
       "      <th>1</th>\n",
       "      <td>2017</td>\n",
       "      <td>1</td>\n",
       "      <td>1</td>\n",
       "      <td>8</td>\n",
       "      <td>7</td>\n",
       "      <td>19805</td>\n",
       "      <td>1766</td>\n",
       "      <td>11298</td>\n",
       "      <td>12889</td>\n",
       "      <td>1055</td>\n",
       "      <td>1154</td>\n",
       "      <td>0.0</td>\n",
       "    </tr>\n",
       "    <tr>\n",
       "      <th>2</th>\n",
       "      <td>2017</td>\n",
       "      <td>1</td>\n",
       "      <td>1</td>\n",
       "      <td>1</td>\n",
       "      <td>7</td>\n",
       "      <td>19805</td>\n",
       "      <td>1766</td>\n",
       "      <td>13930</td>\n",
       "      <td>11298</td>\n",
       "      <td>710</td>\n",
       "      <td>948</td>\n",
       "      <td>0.0</td>\n",
       "    </tr>\n",
       "    <tr>\n",
       "      <th>3</th>\n",
       "      <td>2017</td>\n",
       "      <td>1</td>\n",
       "      <td>1</td>\n",
       "      <td>2</td>\n",
       "      <td>1</td>\n",
       "      <td>19805</td>\n",
       "      <td>1766</td>\n",
       "      <td>13930</td>\n",
       "      <td>11298</td>\n",
       "      <td>710</td>\n",
       "      <td>948</td>\n",
       "      <td>0.0</td>\n",
       "    </tr>\n",
       "    <tr>\n",
       "      <th>4</th>\n",
       "      <td>2017</td>\n",
       "      <td>1</td>\n",
       "      <td>1</td>\n",
       "      <td>3</td>\n",
       "      <td>2</td>\n",
       "      <td>19805</td>\n",
       "      <td>1766</td>\n",
       "      <td>13930</td>\n",
       "      <td>11298</td>\n",
       "      <td>710</td>\n",
       "      <td>948</td>\n",
       "      <td>0.0</td>\n",
       "    </tr>\n",
       "  </tbody>\n",
       "</table>\n",
       "</div>"
      ],
      "text/plain": [
       "   YEAR  QUARTER  MONTH  DAY_OF_MONTH  DAY_OF_WEEK  AIRLINE_ID  FL_NUM  \\\n",
       "0  2017        1      1             7            6       19805    1766   \n",
       "1  2017        1      1             8            7       19805    1766   \n",
       "2  2017        1      1             1            7       19805    1766   \n",
       "3  2017        1      1             2            1       19805    1766   \n",
       "4  2017        1      1             3            2       19805    1766   \n",
       "\n",
       "   ORIGIN_AIRPORT_ID  DEST_AIRPORT_ID  SCHED_DEP_TIME  SCHED_ARR_TIME  DELAY  \n",
       "0              11298            12889            1055            1154    0.0  \n",
       "1              11298            12889            1055            1154    0.0  \n",
       "2              13930            11298             710             948    0.0  \n",
       "3              13930            11298             710             948    0.0  \n",
       "4              13930            11298             710             948    0.0  "
      ]
     },
     "execution_count": 34,
     "metadata": {},
     "output_type": "execute_result"
    }
   ],
   "source": [
    "from sys import stdin\n",
    "import numpy as np # linear algebra\n",
    "import pandas as pd\n",
    "from sklearn.linear_model import LinearRegression\n",
    "import matplotlib.pyplot as plt\n",
    "from sklearn.cross_validation import train_test_split\n",
    "from sklearn import metrics\n",
    "from numpy import exp,array,random,dot\n",
    "from sklearn.metrics import confusion_matrix\n",
    "from sklearn.metrics import classification_report\n",
    "from sklearn.metrics import accuracy_score\n",
    "\n",
    "# Load the data\n",
    "data = pd.read_csv(\"FlightDelays.csv\")\n",
    "\n",
    "print(\"The number of rows in the data set is {}.\".format(len(data)))\n",
    "print(\"The number of features is {}.\".format(len(data.columns)))\n",
    "\n",
    "data.head()"
   ]
  },
  {
   "cell_type": "markdown",
   "metadata": {},
   "source": [
    "Data Preprocessing:"
   ]
  },
  {
   "cell_type": "code",
   "execution_count": 35,
   "metadata": {},
   "outputs": [
    {
     "data": {
      "text/plain": [
       "YEAR                    0\n",
       "QUARTER                 0\n",
       "MONTH                   0\n",
       "DAY_OF_MONTH            0\n",
       "DAY_OF_WEEK             0\n",
       "AIRLINE_ID              0\n",
       "FL_NUM                  0\n",
       "ORIGIN_AIRPORT_ID       0\n",
       "DEST_AIRPORT_ID         0\n",
       "SCHED_DEP_TIME          0\n",
       "SCHED_ARR_TIME          0\n",
       "DELAY                8541\n",
       "dtype: int64"
      ]
     },
     "execution_count": 35,
     "metadata": {},
     "output_type": "execute_result"
    }
   ],
   "source": [
    "# Finding Null Values\n",
    "data.isnull().sum()"
   ]
  },
  {
   "cell_type": "code",
   "execution_count": 36,
   "metadata": {},
   "outputs": [
    {
     "data": {
      "text/plain": [
       "YEAR                 0\n",
       "QUARTER              0\n",
       "MONTH                0\n",
       "DAY_OF_MONTH         0\n",
       "DAY_OF_WEEK          0\n",
       "AIRLINE_ID           0\n",
       "FL_NUM               0\n",
       "ORIGIN_AIRPORT_ID    0\n",
       "DEST_AIRPORT_ID      0\n",
       "SCHED_DEP_TIME       0\n",
       "SCHED_ARR_TIME       0\n",
       "DELAY                0\n",
       "dtype: int64"
      ]
     },
     "execution_count": 36,
     "metadata": {},
     "output_type": "execute_result"
    }
   ],
   "source": [
    "new_data = data.dropna(axis=0)#Delete the rows containing missing data\n",
    "new_data.isnull().sum() #Check to make sure there are no more NaNs"
   ]
  },
  {
   "cell_type": "code",
   "execution_count": 37,
   "metadata": {},
   "outputs": [
    {
     "name": "stdout",
     "output_type": "stream",
     "text": [
      "The number of rows in the new data set is 441476.\n"
     ]
    }
   ],
   "source": [
    "print(\"The number of rows in the new data set is {}.\".format(len(new_data)))"
   ]
  },
  {
   "cell_type": "code",
   "execution_count": 38,
   "metadata": {
    "collapsed": true
   },
   "outputs": [],
   "source": [
    "#subset the flight that delayed\n",
    "delay_flight=new_data[new_data.DELAY==1]\n",
    "#print(delay_flight)"
   ]
  },
  {
   "cell_type": "code",
   "execution_count": 39,
   "metadata": {},
   "outputs": [
    {
     "name": "stdout",
     "output_type": "stream",
     "text": [
      "ORIGIN_AIRPORT_ID\n",
      "10397    6176.0\n",
      "12892    5453.0\n",
      "13930    4202.0\n",
      "11292    4179.0\n",
      "14771    3831.0\n",
      "Name: DELAY, dtype: float64\n"
     ]
    }
   ],
   "source": [
    "#exploring most five origin airport delay \n",
    "Top5origin_Airport_delay=delay_flight.groupby('ORIGIN_AIRPORT_ID').DELAY.sum().nlargest(5)\n",
    "print(Top5origin_Airport_delay)"
   ]
  },
  {
   "cell_type": "code",
   "execution_count": 40,
   "metadata": {},
   "outputs": [
    {
     "name": "stdout",
     "output_type": "stream",
     "text": [
      "DEST_AIRPORT_ID\n",
      "10397    5289.0\n",
      "12892    4341.0\n",
      "14771    4083.0\n",
      "11292    3563.0\n",
      "13930    3536.0\n",
      "Name: DELAY, dtype: float64\n"
     ]
    }
   ],
   "source": [
    "#exploring most five destenation airport delay \n",
    "Top5dest_Airport_delay=delay_flight.groupby('DEST_AIRPORT_ID').DELAY.sum().nlargest(5)\n",
    "print(Top5dest_Airport_delay)"
   ]
  },
  {
   "cell_type": "code",
   "execution_count": 41,
   "metadata": {},
   "outputs": [
    {
     "data": {
      "text/html": [
       "<div>\n",
       "<style>\n",
       "    .dataframe thead tr:only-child th {\n",
       "        text-align: right;\n",
       "    }\n",
       "\n",
       "    .dataframe thead th {\n",
       "        text-align: left;\n",
       "    }\n",
       "\n",
       "    .dataframe tbody tr th {\n",
       "        vertical-align: top;\n",
       "    }\n",
       "</style>\n",
       "<table border=\"1\" class=\"dataframe\">\n",
       "  <thead>\n",
       "    <tr style=\"text-align: right;\">\n",
       "      <th></th>\n",
       "      <th>YEAR</th>\n",
       "      <th>QUARTER</th>\n",
       "      <th>MONTH</th>\n",
       "      <th>DAY_OF_MONTH</th>\n",
       "      <th>DAY_OF_WEEK</th>\n",
       "      <th>AIRLINE_ID</th>\n",
       "      <th>FL_NUM</th>\n",
       "      <th>ORIGIN_AIRPORT_ID</th>\n",
       "      <th>DEST_AIRPORT_ID</th>\n",
       "      <th>SCHED_DEP_TIME</th>\n",
       "      <th>SCHED_ARR_TIME</th>\n",
       "      <th>DELAY</th>\n",
       "    </tr>\n",
       "  </thead>\n",
       "  <tbody>\n",
       "    <tr>\n",
       "      <th>2</th>\n",
       "      <td>2017</td>\n",
       "      <td>1</td>\n",
       "      <td>1</td>\n",
       "      <td>1</td>\n",
       "      <td>7</td>\n",
       "      <td>19805</td>\n",
       "      <td>1766</td>\n",
       "      <td>13930</td>\n",
       "      <td>11298</td>\n",
       "      <td>710</td>\n",
       "      <td>948</td>\n",
       "      <td>0.0</td>\n",
       "    </tr>\n",
       "    <tr>\n",
       "      <th>3</th>\n",
       "      <td>2017</td>\n",
       "      <td>1</td>\n",
       "      <td>1</td>\n",
       "      <td>2</td>\n",
       "      <td>1</td>\n",
       "      <td>19805</td>\n",
       "      <td>1766</td>\n",
       "      <td>13930</td>\n",
       "      <td>11298</td>\n",
       "      <td>710</td>\n",
       "      <td>948</td>\n",
       "      <td>0.0</td>\n",
       "    </tr>\n",
       "    <tr>\n",
       "      <th>4</th>\n",
       "      <td>2017</td>\n",
       "      <td>1</td>\n",
       "      <td>1</td>\n",
       "      <td>3</td>\n",
       "      <td>2</td>\n",
       "      <td>19805</td>\n",
       "      <td>1766</td>\n",
       "      <td>13930</td>\n",
       "      <td>11298</td>\n",
       "      <td>710</td>\n",
       "      <td>948</td>\n",
       "      <td>0.0</td>\n",
       "    </tr>\n",
       "    <tr>\n",
       "      <th>5</th>\n",
       "      <td>2017</td>\n",
       "      <td>1</td>\n",
       "      <td>1</td>\n",
       "      <td>4</td>\n",
       "      <td>3</td>\n",
       "      <td>19805</td>\n",
       "      <td>1766</td>\n",
       "      <td>13930</td>\n",
       "      <td>11298</td>\n",
       "      <td>710</td>\n",
       "      <td>948</td>\n",
       "      <td>0.0</td>\n",
       "    </tr>\n",
       "    <tr>\n",
       "      <th>6</th>\n",
       "      <td>2017</td>\n",
       "      <td>1</td>\n",
       "      <td>1</td>\n",
       "      <td>5</td>\n",
       "      <td>4</td>\n",
       "      <td>19805</td>\n",
       "      <td>1766</td>\n",
       "      <td>13930</td>\n",
       "      <td>11298</td>\n",
       "      <td>710</td>\n",
       "      <td>948</td>\n",
       "      <td>0.0</td>\n",
       "    </tr>\n",
       "  </tbody>\n",
       "</table>\n",
       "</div>"
      ],
      "text/plain": [
       "   YEAR  QUARTER  MONTH  DAY_OF_MONTH  DAY_OF_WEEK  AIRLINE_ID  FL_NUM  \\\n",
       "2  2017        1      1             1            7       19805    1766   \n",
       "3  2017        1      1             2            1       19805    1766   \n",
       "4  2017        1      1             3            2       19805    1766   \n",
       "5  2017        1      1             4            3       19805    1766   \n",
       "6  2017        1      1             5            4       19805    1766   \n",
       "\n",
       "   ORIGIN_AIRPORT_ID  DEST_AIRPORT_ID  SCHED_DEP_TIME  SCHED_ARR_TIME  DELAY  \n",
       "2              13930            11298             710             948    0.0  \n",
       "3              13930            11298             710             948    0.0  \n",
       "4              13930            11298             710             948    0.0  \n",
       "5              13930            11298             710             948    0.0  \n",
       "6              13930            11298             710             948    0.0  "
      ]
     },
     "execution_count": 41,
     "metadata": {},
     "output_type": "execute_result"
    }
   ],
   "source": [
    "#cleaning data keeping the Top five origin airport delay \n",
    "Top5Origin_airport=new_data.loc[new_data['ORIGIN_AIRPORT_ID'].isin(['10397', '12892', '13930','11292','14771'])] \n",
    "Top5Origin_airport.head()"
   ]
  },
  {
   "cell_type": "code",
   "execution_count": 42,
   "metadata": {},
   "outputs": [
    {
     "data": {
      "text/html": [
       "<div>\n",
       "<style>\n",
       "    .dataframe thead tr:only-child th {\n",
       "        text-align: right;\n",
       "    }\n",
       "\n",
       "    .dataframe thead th {\n",
       "        text-align: left;\n",
       "    }\n",
       "\n",
       "    .dataframe tbody tr th {\n",
       "        vertical-align: top;\n",
       "    }\n",
       "</style>\n",
       "<table border=\"1\" class=\"dataframe\">\n",
       "  <thead>\n",
       "    <tr style=\"text-align: right;\">\n",
       "      <th></th>\n",
       "      <th>YEAR</th>\n",
       "      <th>QUARTER</th>\n",
       "      <th>MONTH</th>\n",
       "      <th>DAY_OF_MONTH</th>\n",
       "      <th>DAY_OF_WEEK</th>\n",
       "      <th>AIRLINE_ID</th>\n",
       "      <th>FL_NUM</th>\n",
       "      <th>ORIGIN_AIRPORT_ID</th>\n",
       "      <th>DEST_AIRPORT_ID</th>\n",
       "      <th>SCHED_DEP_TIME</th>\n",
       "      <th>SCHED_ARR_TIME</th>\n",
       "      <th>DELAY</th>\n",
       "    </tr>\n",
       "  </thead>\n",
       "  <tbody>\n",
       "    <tr>\n",
       "      <th>5395</th>\n",
       "      <td>2017</td>\n",
       "      <td>1</td>\n",
       "      <td>1</td>\n",
       "      <td>1</td>\n",
       "      <td>7</td>\n",
       "      <td>19805</td>\n",
       "      <td>2503</td>\n",
       "      <td>12892</td>\n",
       "      <td>13930</td>\n",
       "      <td>1125</td>\n",
       "      <td>1736</td>\n",
       "      <td>1.0</td>\n",
       "    </tr>\n",
       "    <tr>\n",
       "      <th>5396</th>\n",
       "      <td>2017</td>\n",
       "      <td>1</td>\n",
       "      <td>1</td>\n",
       "      <td>2</td>\n",
       "      <td>1</td>\n",
       "      <td>19805</td>\n",
       "      <td>2503</td>\n",
       "      <td>12892</td>\n",
       "      <td>13930</td>\n",
       "      <td>1125</td>\n",
       "      <td>1736</td>\n",
       "      <td>1.0</td>\n",
       "    </tr>\n",
       "    <tr>\n",
       "      <th>5397</th>\n",
       "      <td>2017</td>\n",
       "      <td>1</td>\n",
       "      <td>1</td>\n",
       "      <td>3</td>\n",
       "      <td>2</td>\n",
       "      <td>19805</td>\n",
       "      <td>2503</td>\n",
       "      <td>12892</td>\n",
       "      <td>13930</td>\n",
       "      <td>1125</td>\n",
       "      <td>1736</td>\n",
       "      <td>1.0</td>\n",
       "    </tr>\n",
       "    <tr>\n",
       "      <th>5398</th>\n",
       "      <td>2017</td>\n",
       "      <td>1</td>\n",
       "      <td>1</td>\n",
       "      <td>4</td>\n",
       "      <td>3</td>\n",
       "      <td>19805</td>\n",
       "      <td>2503</td>\n",
       "      <td>12892</td>\n",
       "      <td>13930</td>\n",
       "      <td>1125</td>\n",
       "      <td>1736</td>\n",
       "      <td>0.0</td>\n",
       "    </tr>\n",
       "    <tr>\n",
       "      <th>5399</th>\n",
       "      <td>2017</td>\n",
       "      <td>1</td>\n",
       "      <td>1</td>\n",
       "      <td>5</td>\n",
       "      <td>4</td>\n",
       "      <td>19805</td>\n",
       "      <td>2503</td>\n",
       "      <td>12892</td>\n",
       "      <td>13930</td>\n",
       "      <td>1125</td>\n",
       "      <td>1736</td>\n",
       "      <td>1.0</td>\n",
       "    </tr>\n",
       "  </tbody>\n",
       "</table>\n",
       "</div>"
      ],
      "text/plain": [
       "      YEAR  QUARTER  MONTH  DAY_OF_MONTH  DAY_OF_WEEK  AIRLINE_ID  FL_NUM  \\\n",
       "5395  2017        1      1             1            7       19805    2503   \n",
       "5396  2017        1      1             2            1       19805    2503   \n",
       "5397  2017        1      1             3            2       19805    2503   \n",
       "5398  2017        1      1             4            3       19805    2503   \n",
       "5399  2017        1      1             5            4       19805    2503   \n",
       "\n",
       "      ORIGIN_AIRPORT_ID  DEST_AIRPORT_ID  SCHED_DEP_TIME  SCHED_ARR_TIME  \\\n",
       "5395              12892            13930            1125            1736   \n",
       "5396              12892            13930            1125            1736   \n",
       "5397              12892            13930            1125            1736   \n",
       "5398              12892            13930            1125            1736   \n",
       "5399              12892            13930            1125            1736   \n",
       "\n",
       "      DELAY  \n",
       "5395    1.0  \n",
       "5396    1.0  \n",
       "5397    1.0  \n",
       "5398    0.0  \n",
       "5399    1.0  "
      ]
     },
     "execution_count": 42,
     "metadata": {},
     "output_type": "execute_result"
    }
   ],
   "source": [
    "#cleaning data keeping the Top five dest airport delay \n",
    "clean_data=Top5Origin_airport.loc[new_data['DEST_AIRPORT_ID'].isin(['10397', '12892', '13930','11292','14771'])] \n",
    "clean_data.head()"
   ]
  },
  {
   "cell_type": "code",
   "execution_count": 43,
   "metadata": {
    "collapsed": true
   },
   "outputs": [],
   "source": [
    "# Setting the train set,test set, and validation set\n",
    "x= clean_data.iloc[:,0:11]\n",
    "y= clean_data['DELAY']\n",
    "\n",
    "x_train,x_test,y_train,y_test = train_test_split(x,y,test_size=.2, random_state = 1)\n",
    "x_train,x_val,y_train,y_val = train_test_split(x_train,y_train,test_size=.25, random_state = 1)"
   ]
  },
  {
   "cell_type": "code",
   "execution_count": 44,
   "metadata": {},
   "outputs": [
    {
     "data": {
      "text/plain": [
       "(6828, 11)"
      ]
     },
     "execution_count": 44,
     "metadata": {},
     "output_type": "execute_result"
    }
   ],
   "source": [
    "x_train.shape"
   ]
  },
  {
   "cell_type": "code",
   "execution_count": 45,
   "metadata": {},
   "outputs": [
    {
     "data": {
      "text/plain": [
       "(2277, 11)"
      ]
     },
     "execution_count": 45,
     "metadata": {},
     "output_type": "execute_result"
    }
   ],
   "source": [
    "x_test.shape"
   ]
  },
  {
   "cell_type": "code",
   "execution_count": 46,
   "metadata": {},
   "outputs": [
    {
     "data": {
      "text/plain": [
       "(2276, 11)"
      ]
     },
     "execution_count": 46,
     "metadata": {},
     "output_type": "execute_result"
    }
   ],
   "source": [
    "x_val.shape"
   ]
  },
  {
   "cell_type": "markdown",
   "metadata": {},
   "source": [
    "# Artificial Neural Network:"
   ]
  },
  {
   "cell_type": "markdown",
   "metadata": {},
   "source": [
    "Building the Model:"
   ]
  },
  {
   "cell_type": "code",
   "execution_count": 49,
   "metadata": {},
   "outputs": [
    {
     "name": "stdout",
     "output_type": "stream",
     "text": [
      "Random starting synaptic weights: \n",
      "[[-0.16595599]\n",
      " [ 0.44064899]\n",
      " [-0.99977125]\n",
      " [-0.39533485]\n",
      " [-0.70648822]\n",
      " [-0.81532281]\n",
      " [-0.62747958]\n",
      " [-0.30887855]\n",
      " [-0.20646505]\n",
      " [ 0.07763347]\n",
      " [-0.16161097]]\n"
     ]
    }
   ],
   "source": [
    "class NeuralNetwork():\n",
    "    def __init__(self):\n",
    "        # seed the random number generator, so it generates the same \n",
    "        random.seed(1)\n",
    "        \n",
    "        # We Model a single neuron, with 11 input and one output connection\n",
    "        self.synaptic_weights = 2 * random.random((11,1)) -1\n",
    "        \n",
    "    # The sigmod function, which take the wieghted sum and normalized it between 0 and 1    \n",
    "    def __sigmoid(self,x):\n",
    "        return 1/(1 + exp(-x))\n",
    "    \n",
    "    # The dervative of the sigmoid function, it indicates how confident we are about the wieght\n",
    "    def __sigmoid_derivative(self,x):\n",
    "        return x*(1-x)\n",
    "    \n",
    "    # we train the neural network through a process of trail and error.\n",
    "    # Adjasting the synaptic weights each time.\n",
    "    def train(self,training_set_inputs, training_set_outputs,number_of_training_iterations):\n",
    "        for iteration in range(number_of_training_iterations):\n",
    "            #Pass the training set through our neural network (a single neuran).\n",
    "            output = self.think(training_set_inputs)\n",
    "     \n",
    "            #Calculate the error (The diffrence between the desired output and the predicted output )\n",
    "            error = training_set_outputs - output\n",
    "           \n",
    "            # Multiply the error by the input and again by the gradient of the Sigmoid curve.\n",
    "            # This means less Confident weight are adjusted more.\n",
    "            # This means inputs,which are zero, do not cause changes to the weights.\n",
    "            Adjustment = dot(training_set_inputs.T, error * self.__sigmoid_derivative(output))\n",
    "            \n",
    "            #Adjust the weights.\n",
    "            self.synaptic_weights += Adjustment\n",
    "            \n",
    "    #The neural network thinks.\n",
    "    def think(self,inputs):\n",
    "        # Pass inputs through our neural network (our single neuron).\n",
    "        return self.__sigmoid(dot(inputs, self.synaptic_weights))\n",
    "            \n",
    "            \n",
    "if __name__ == \"__main__\":\n",
    "    \n",
    "    #I ntialise a single neuron neural network.\n",
    "    neural_network = NeuralNetwork()\n",
    "    \n",
    "    print(\"Random starting synaptic weights: \")\n",
    "    print(neural_network.synaptic_weights)"
   ]
  },
  {
   "cell_type": "markdown",
   "metadata": {},
   "source": [
    "Train the Model:"
   ]
  },
  {
   "cell_type": "code",
   "execution_count": 51,
   "metadata": {},
   "outputs": [
    {
     "name": "stderr",
     "output_type": "stream",
     "text": [
      "/Users/halhamdan/anaconda3/lib/python3.6/site-packages/ipykernel_launcher.py:11: RuntimeWarning: overflow encountered in exp\n",
      "  # This is added back by InteractiveShellApp.init_path()\n"
     ]
    },
    {
     "name": "stdout",
     "output_type": "stream",
     "text": [
      "New synaptic wieghts after training:\n",
      "[[-0.16595599]\n",
      " [ 0.44064899]\n",
      " [-0.99977125]\n",
      " [-0.39533485]\n",
      " [-0.70648822]\n",
      " [-0.81532281]\n",
      " [-0.62747958]\n",
      " [-0.30887855]\n",
      " [-0.20646505]\n",
      " [ 0.07763347]\n",
      " [-0.16161097]]\n"
     ]
    }
   ],
   "source": [
    "    training_set_inputs = x_train.values.reshape(-1,11)\n",
    "    training_set_outputs = y_train.values.reshape(-1,1)\n",
    "\n",
    "   \n",
    "    # Train the neural network using a training set\n",
    "    # Do it 10,000 time and make small adjusments each time.\n",
    "    neural_network.train(training_set_inputs, training_set_outputs, 10000)\n",
    "    \n",
    "    print(\"New synaptic wieghts after training:\")\n",
    "    print(neural_network.synaptic_weights) "
   ]
  },
  {
   "cell_type": "markdown",
   "metadata": {},
   "source": [
    "Validate the Model: "
   ]
  },
  {
   "cell_type": "code",
   "execution_count": 53,
   "metadata": {},
   "outputs": [
    {
     "name": "stdout",
     "output_type": "stream",
     "text": [
      "The Confusing Matrix:\n",
      "[[1633    0]\n",
      " [ 643    0]]\n",
      "             precision    recall  f1-score   support\n",
      "\n",
      "    class 0       0.72      1.00      0.84      1633\n",
      "    class 1       0.00      0.00      0.00       643\n",
      "\n",
      "avg / total       0.51      0.72      0.60      2276\n",
      "\n",
      "accuracy is 0.717486818981\n"
     ]
    },
    {
     "name": "stderr",
     "output_type": "stream",
     "text": [
      "/Users/halhamdan/anaconda3/lib/python3.6/site-packages/ipykernel_launcher.py:11: RuntimeWarning: overflow encountered in exp\n",
      "  # This is added back by InteractiveShellApp.init_path()\n",
      "/Users/halhamdan/anaconda3/lib/python3.6/site-packages/sklearn/metrics/classification.py:1135: UndefinedMetricWarning: Precision and F-score are ill-defined and being set to 0.0 in labels with no predicted samples.\n",
      "  'precision', 'predicted', average, warn_for)\n"
     ]
    }
   ],
   "source": [
    "\n",
    "# Test the neural network with a the validation data set\n",
    "y_pred = neural_network.think(x_val)\n",
    "    \n",
    "print(\"The Confusing Matrix:\")\n",
    "print(confusion_matrix(y_val,y_pred))\n",
    "print(classification_report(y_val, y_pred, target_names=['class 0', 'class 1']))      \n",
    "print('accuracy is',accuracy_score(y_pred,y_val))"
   ]
  },
  {
   "cell_type": "markdown",
   "metadata": {},
   "source": [
    "Testing the Model:"
   ]
  },
  {
   "cell_type": "code",
   "execution_count": 54,
   "metadata": {},
   "outputs": [
    {
     "name": "stdout",
     "output_type": "stream",
     "text": [
      "The Confusing Matrix:\n",
      "[[1583    0]\n",
      " [ 694    0]]\n",
      "             precision    recall  f1-score   support\n",
      "\n",
      "    class 0       0.70      1.00      0.82      1583\n",
      "    class 1       0.00      0.00      0.00       694\n",
      "\n",
      "avg / total       0.48      0.70      0.57      2277\n",
      "\n",
      "accuracy is 0.695212999561\n"
     ]
    },
    {
     "name": "stderr",
     "output_type": "stream",
     "text": [
      "/Users/halhamdan/anaconda3/lib/python3.6/site-packages/ipykernel_launcher.py:11: RuntimeWarning: overflow encountered in exp\n",
      "  # This is added back by InteractiveShellApp.init_path()\n",
      "/Users/halhamdan/anaconda3/lib/python3.6/site-packages/sklearn/metrics/classification.py:1135: UndefinedMetricWarning: Precision and F-score are ill-defined and being set to 0.0 in labels with no predicted samples.\n",
      "  'precision', 'predicted', average, warn_for)\n"
     ]
    }
   ],
   "source": [
    "# Test the neural network with a new set\n",
    "y_pred = neural_network.think(x_test)\n",
    "    \n",
    "print(\"The Confusing Matrix:\")\n",
    "print(confusion_matrix(y_test,y_pred))\n",
    "print(classification_report(y_test, y_pred, target_names=['class 0', 'class 1']))      \n",
    "print('accuracy is',accuracy_score(y_pred,y_test))"
   ]
  },
  {
   "cell_type": "markdown",
   "metadata": {
    "collapsed": true
   },
   "source": [
    "# Logestic Regression:"
   ]
  },
  {
   "cell_type": "code",
   "execution_count": 61,
   "metadata": {
    "collapsed": true
   },
   "outputs": [],
   "source": [
    "from sklearn.linear_model import LogisticRegression as lg\n",
    "\n",
    "from sklearn.metrics import classification_report\n",
    "model=lg()\n",
    "model.fit(x_train,y_train)\n",
    "y_pred=model.predict(x_test)\n",
    "acc=metrics.accuracy_score(y_test,y_pred)"
   ]
  },
  {
   "cell_type": "code",
   "execution_count": 62,
   "metadata": {},
   "outputs": [
    {
     "name": "stdout",
     "output_type": "stream",
     "text": [
      "0.6952129995608256\n",
      "True:  [ 1.  1.  0.  1.  1.  0.  0.  0.  0.  1.  0.  0.  0.  0.  0.  0.  0.  0.\n",
      "  1.  0.  0.  0.  0.  0.  1.]\n",
      "Pred:  [ 0.  0.  0.  0.  0.  0.  0.  0.  0.  0.  0.  0.  0.  0.  0.  0.  0.  0.\n",
      "  0.  0.  0.  0.  0.  0.  0.]\n"
     ]
    }
   ],
   "source": [
    "null_acc=max(y_test.mean(),1-y_test.mean())\n",
    "print(null_acc)\n",
    "print(\"True: \",y_test.values[0:25])\n",
    "print(\"Pred: \",y_pred[0:25])"
   ]
  },
  {
   "cell_type": "code",
   "execution_count": 63,
   "metadata": {},
   "outputs": [
    {
     "data": {
      "text/plain": [
       "array([[1493,  582],\n",
       "       [  90,  112]])"
      ]
     },
     "execution_count": 63,
     "metadata": {},
     "output_type": "execute_result"
    }
   ],
   "source": [
    "confusion_matrix=metrics.confusion_matrix(y_pred,y_test)\n",
    "confusion_matrix"
   ]
  },
  {
   "cell_type": "code",
   "execution_count": 64,
   "metadata": {},
   "outputs": [
    {
     "name": "stdout",
     "output_type": "stream",
     "text": [
      "TP:  112 TN:  1493 FP:  582 FN:  90\n"
     ]
    }
   ],
   "source": [
    "TP=confusion_matrix[1,1]\n",
    "TN=confusion_matrix[0,0]\n",
    "FP=confusion_matrix[0,1]\n",
    "FN=confusion_matrix[1,0]\n",
    "print(\"TP: \",TP ,\"TN: \",TN ,\"FP: \",FP ,\"FN: \",FN)"
   ]
  },
  {
   "cell_type": "code",
   "execution_count": 65,
   "metadata": {},
   "outputs": [
    {
     "name": "stdout",
     "output_type": "stream",
     "text": [
      "TP:  112 TN:  1493 FP:  582 FN:  90\n",
      "Accuracy:  70.487483531 vs 70.487483531\n",
      "Miss-classification Rate:  29.512516469\n",
      "TPR:  55.4455445545\n",
      "TNR:  71.9518072289\n",
      "FPR:  28.0481927711\n",
      "FNR:  44.5544554455\n",
      "Precision:  0.161383285303\n",
      "             precision    recall  f1-score   support\n",
      "\n",
      "    class 0       0.72      0.94      0.82      1583\n",
      "    Class 1       0.55      0.16      0.25       694\n",
      "\n",
      "avg / total       0.67      0.70      0.64      2277\n",
      "\n"
     ]
    }
   ],
   "source": [
    "Accuracy=(TP+TN)/float(TP+TN+FP+FN)\n",
    "Miss_classification_rate=(FP+FN)/float(TP+TN+FP+FN)\n",
    "TPR=TP/float(TP+FN)\n",
    "TNR=TN/float(TN+FP)\n",
    "FPR=FP/float(TN+FP)\n",
    "FNR=FN/float(TP+FN)\n",
    "Precision=TP/float(TP+FP)\n",
    "print(\"TP: \",TP ,\"TN: \",TN ,\"FP: \",FP ,\"FN: \",FN)\n",
    "print(\"Accuracy: \", Accuracy*100,\"vs\",acc*100)\n",
    "print(\"Miss-classification Rate: \", Miss_classification_rate*100)\n",
    "print(\"TPR: \",TPR*100)\n",
    "print(\"TNR: \",TNR*100)\n",
    "print(\"FPR: \",FPR*100)\n",
    "print(\"FNR: \",FNR*100)\n",
    "print(\"Precision: \", Precision)\n",
    "\n",
    "print(classification_report(y_test, y_pred, target_names=['class 0', 'Class 1'] ))"
   ]
  },
  {
   "cell_type": "code",
   "execution_count": 66,
   "metadata": {
    "collapsed": true
   },
   "outputs": [],
   "source": [
    "import pandas as pd\n",
    "import numpy as np\n",
    "from sklearn import preprocessing\n",
    "import matplotlib.pyplot as plt \n",
    "plt.rc(\"font\", size=14)\n",
    "from sklearn.linear_model import LogisticRegression\n",
    "from sklearn.cross_validation import train_test_split\n",
    "import seaborn as sns\n",
    "sns.set(style=\"white\")\n",
    "sns.set(style=\"whitegrid\", color_codes=True)"
   ]
  },
  {
   "cell_type": "code",
   "execution_count": 69,
   "metadata": {},
   "outputs": [
    {
     "name": "stdout",
     "output_type": "stream",
     "text": [
      "(11381, 12)\n",
      "['YEAR', 'QUARTER', 'MONTH', 'DAY_OF_MONTH', 'DAY_OF_WEEK', 'AIRLINE_ID', 'FL_NUM', 'ORIGIN_AIRPORT_ID', 'DEST_AIRPORT_ID', 'SCHED_DEP_TIME', 'SCHED_ARR_TIME', 'DELAY']\n"
     ]
    }
   ],
   "source": [
    "print(clean_data.shape)\n",
    "print(list(clean_data.columns))"
   ]
  },
  {
   "cell_type": "code",
   "execution_count": 70,
   "metadata": {},
   "outputs": [
    {
     "data": {
      "image/png": "[encoded data removed]",
      "text/plain": [
       "<matplotlib.figure.Figure at 0x1a10a28390>"
      ]
     },
     "metadata": {},
     "output_type": "display_data"
    }
   ],
   "source": [
    "sns.countplot(y=\"ORIGIN_AIRPORT_ID\", data=clean_data)\n",
    "plt.show()"
   ]
  },
  {
   "cell_type": "code",
   "execution_count": null,
   "metadata": {
    "collapsed": true
   },
   "outputs": [],
   "source": []
  }
 ],
 "metadata": {
  "kernelspec": {
   "display_name": "Python 3",
   "language": "python",
   "name": "python3"
  },
  "language_info": {
   "codemirror_mode": {
    "name": "ipython",
    "version": 3
   },
   "file_extension": ".py",
   "mimetype": "text/x-python",
   "name": "python",
   "nbconvert_exporter": "python",
   "pygments_lexer": "ipython3",
   "version": "3.6.3"
  }
 },
 "nbformat": 4,
 "nbformat_minor": 2
}
