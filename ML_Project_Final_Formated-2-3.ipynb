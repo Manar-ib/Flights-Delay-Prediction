{
 "cells": [
  {
   "cell_type": "markdown",
   "metadata": {},
   "source": [
    "# Flight Delay Prediction "
   ]
  },
  {
   "cell_type": "markdown",
   "metadata": {},
   "source": [
    "Importing Libraries"
   ]
  },
  {
   "cell_type": "code",
   "execution_count": 123,
   "metadata": {
    "collapsed": true
   },
   "outputs": [],
   "source": [
    "from sys import stdin\n",
    "import numpy as np # linear algebra\n",
    "from numpy import exp,array,random,dot\n",
    "import matplotlib.pyplot as plt\n",
    "import pandas as pd\n",
    "from sklearn import metrics\n",
    "from sklearn.linear_model import LinearRegression\n",
    "from sklearn.cross_validation import train_test_split\n",
    "from sklearn.metrics import confusion_matrix\n",
    "from sklearn.metrics import classification_report\n",
    "from sklearn.metrics import accuracy_score\n",
    "import seaborn as sns\n",
    "from sklearn.metrics import roc_auc_score\n",
    "from sklearn.metrics import roc_curve"
   ]
  },
  {
   "cell_type": "markdown",
   "metadata": {},
   "source": [
    "Load the data"
   ]
  },
  {
   "cell_type": "code",
   "execution_count": 124,
   "metadata": {},
   "outputs": [
    {
     "name": "stdout",
     "output_type": "stream",
     "text": [
      "The number of rows in the data set is 23988.\n",
      "The number of features is 12.\n"
     ]
    },
    {
     "data": {
      "text/html": [
       "<div>\n",
       "<style>\n",
       "    .dataframe thead tr:only-child th {\n",
       "        text-align: right;\n",
       "    }\n",
       "\n",
       "    .dataframe thead th {\n",
       "        text-align: left;\n",
       "    }\n",
       "\n",
       "    .dataframe tbody tr th {\n",
       "        vertical-align: top;\n",
       "    }\n",
       "</style>\n",
       "<table border=\"1\" class=\"dataframe\">\n",
       "  <thead>\n",
       "    <tr style=\"text-align: right;\">\n",
       "      <th></th>\n",
       "      <th>YEAR</th>\n",
       "      <th>QUARTER</th>\n",
       "      <th>MONTH</th>\n",
       "      <th>DAY_OF_MONTH</th>\n",
       "      <th>DAY_OF_WEEK</th>\n",
       "      <th>AIRLINE_ID</th>\n",
       "      <th>FL_NUM</th>\n",
       "      <th>ORIGIN_AIRPORT_ID</th>\n",
       "      <th>DEST_AIRPORT_ID</th>\n",
       "      <th>SCHED_DEP_TIME</th>\n",
       "      <th>SCHED_ARR_TIME</th>\n",
       "      <th>DELAY</th>\n",
       "    </tr>\n",
       "  </thead>\n",
       "  <tbody>\n",
       "    <tr>\n",
       "      <th>0</th>\n",
       "      <td>2017</td>\n",
       "      <td>1</td>\n",
       "      <td>1</td>\n",
       "      <td>7</td>\n",
       "      <td>6</td>\n",
       "      <td>19805</td>\n",
       "      <td>1766</td>\n",
       "      <td>11298</td>\n",
       "      <td>12889</td>\n",
       "      <td>1055</td>\n",
       "      <td>1154</td>\n",
       "      <td>0.0</td>\n",
       "    </tr>\n",
       "    <tr>\n",
       "      <th>1</th>\n",
       "      <td>2017</td>\n",
       "      <td>1</td>\n",
       "      <td>1</td>\n",
       "      <td>8</td>\n",
       "      <td>7</td>\n",
       "      <td>19805</td>\n",
       "      <td>1766</td>\n",
       "      <td>11298</td>\n",
       "      <td>12889</td>\n",
       "      <td>1055</td>\n",
       "      <td>1154</td>\n",
       "      <td>0.0</td>\n",
       "    </tr>\n",
       "    <tr>\n",
       "      <th>2</th>\n",
       "      <td>2017</td>\n",
       "      <td>1</td>\n",
       "      <td>1</td>\n",
       "      <td>1</td>\n",
       "      <td>7</td>\n",
       "      <td>19805</td>\n",
       "      <td>1766</td>\n",
       "      <td>13930</td>\n",
       "      <td>11298</td>\n",
       "      <td>710</td>\n",
       "      <td>948</td>\n",
       "      <td>0.0</td>\n",
       "    </tr>\n",
       "    <tr>\n",
       "      <th>3</th>\n",
       "      <td>2017</td>\n",
       "      <td>1</td>\n",
       "      <td>1</td>\n",
       "      <td>2</td>\n",
       "      <td>1</td>\n",
       "      <td>19805</td>\n",
       "      <td>1766</td>\n",
       "      <td>13930</td>\n",
       "      <td>11298</td>\n",
       "      <td>710</td>\n",
       "      <td>948</td>\n",
       "      <td>0.0</td>\n",
       "    </tr>\n",
       "    <tr>\n",
       "      <th>4</th>\n",
       "      <td>2017</td>\n",
       "      <td>1</td>\n",
       "      <td>1</td>\n",
       "      <td>3</td>\n",
       "      <td>2</td>\n",
       "      <td>19805</td>\n",
       "      <td>1766</td>\n",
       "      <td>13930</td>\n",
       "      <td>11298</td>\n",
       "      <td>710</td>\n",
       "      <td>948</td>\n",
       "      <td>0.0</td>\n",
       "    </tr>\n",
       "  </tbody>\n",
       "</table>\n",
       "</div>"
      ],
      "text/plain": [
       "   YEAR  QUARTER  MONTH  DAY_OF_MONTH  DAY_OF_WEEK  AIRLINE_ID  FL_NUM  \\\n",
       "0  2017        1      1             7            6       19805    1766   \n",
       "1  2017        1      1             8            7       19805    1766   \n",
       "2  2017        1      1             1            7       19805    1766   \n",
       "3  2017        1      1             2            1       19805    1766   \n",
       "4  2017        1      1             3            2       19805    1766   \n",
       "\n",
       "   ORIGIN_AIRPORT_ID  DEST_AIRPORT_ID  SCHED_DEP_TIME  SCHED_ARR_TIME  DELAY  \n",
       "0              11298            12889            1055            1154    0.0  \n",
       "1              11298            12889            1055            1154    0.0  \n",
       "2              13930            11298             710             948    0.0  \n",
       "3              13930            11298             710             948    0.0  \n",
       "4              13930            11298             710             948    0.0  "
      ]
     },
     "execution_count": 124,
     "metadata": {},
     "output_type": "execute_result"
    }
   ],
   "source": [
    "data = pd.read_csv(\"FlightDelay1.csv\")\n",
    "\n",
    "print(\"The number of rows in the data set is {}.\".format(len(data)))\n",
    "print(\"The number of features is {}.\".format(len(data.columns)))\n",
    "\n",
    "data.head()"
   ]
  },
  {
   "cell_type": "markdown",
   "metadata": {},
   "source": [
    "# Data Preprocessing:"
   ]
  },
  {
   "cell_type": "markdown",
   "metadata": {},
   "source": [
    "Step1: Removing Null Values:"
   ]
  },
  {
   "cell_type": "code",
   "execution_count": 125,
   "metadata": {},
   "outputs": [
    {
     "data": {
      "text/plain": [
       "YEAR                   0\n",
       "QUARTER                0\n",
       "MONTH                  0\n",
       "DAY_OF_MONTH           0\n",
       "DAY_OF_WEEK            0\n",
       "AIRLINE_ID             0\n",
       "FL_NUM                 0\n",
       "ORIGIN_AIRPORT_ID      0\n",
       "DEST_AIRPORT_ID        0\n",
       "SCHED_DEP_TIME         0\n",
       "SCHED_ARR_TIME         0\n",
       "DELAY                462\n",
       "dtype: int64"
      ]
     },
     "execution_count": 125,
     "metadata": {},
     "output_type": "execute_result"
    }
   ],
   "source": [
    "# Finding Null Values\n",
    "data.isnull().sum()"
   ]
  },
  {
   "cell_type": "code",
   "execution_count": 126,
   "metadata": {},
   "outputs": [
    {
     "data": {
      "text/plain": [
       "YEAR                 0\n",
       "QUARTER              0\n",
       "MONTH                0\n",
       "DAY_OF_MONTH         0\n",
       "DAY_OF_WEEK          0\n",
       "AIRLINE_ID           0\n",
       "FL_NUM               0\n",
       "ORIGIN_AIRPORT_ID    0\n",
       "DEST_AIRPORT_ID      0\n",
       "SCHED_DEP_TIME       0\n",
       "SCHED_ARR_TIME       0\n",
       "DELAY                0\n",
       "dtype: int64"
      ]
     },
     "execution_count": 126,
     "metadata": {},
     "output_type": "execute_result"
    }
   ],
   "source": [
    "new_data = data.dropna(axis=0)#Delete the rows containing missing data\n",
    "new_data.isnull().sum() #Check to make sure there are no more NaNs"
   ]
  },
  {
   "cell_type": "code",
   "execution_count": 127,
   "metadata": {},
   "outputs": [
    {
     "name": "stdout",
     "output_type": "stream",
     "text": [
      "The number of rows in the new data set is 23526.\n"
     ]
    }
   ],
   "source": [
    "print(\"The number of rows in the new data set is {}.\".format(len(new_data)))"
   ]
  },
  {
   "cell_type": "markdown",
   "metadata": {},
   "source": [
    "Step 2: Picking the Top 5 Orgin & Destaination Airports in delays :"
   ]
  },
  {
   "cell_type": "code",
   "execution_count": 128,
   "metadata": {
    "collapsed": true
   },
   "outputs": [],
   "source": [
    "# Subset the flight that delayed\n",
    "delay_flight=new_data[new_data.DELAY==1]"
   ]
  },
  {
   "cell_type": "code",
   "execution_count": 129,
   "metadata": {},
   "outputs": [
    {
     "name": "stdout",
     "output_type": "stream",
     "text": [
      "ORIGIN_AIRPORT_ID\n",
      "12892    395.0\n",
      "14771    328.0\n",
      "11298    327.0\n",
      "11292    293.0\n",
      "10397    278.0\n",
      "Name: DELAY, dtype: float64\n"
     ]
    }
   ],
   "source": [
    "# Exploring the Top five origin airport delay \n",
    "Top5origin_Airport_delay=delay_flight.groupby('ORIGIN_AIRPORT_ID').DELAY.sum().nlargest(5)\n",
    "print(Top5origin_Airport_delay)"
   ]
  },
  {
   "cell_type": "code",
   "execution_count": 130,
   "metadata": {},
   "outputs": [
    {
     "name": "stdout",
     "output_type": "stream",
     "text": [
      "DEST_AIRPORT_ID\n",
      "14771    339.0\n",
      "12892    263.0\n",
      "10397    240.0\n",
      "13930    239.0\n",
      "11298    195.0\n",
      "Name: DELAY, dtype: float64\n"
     ]
    }
   ],
   "source": [
    "# Exploring Top five destenation airport delay \n",
    "Top5dest_Airport_delay=delay_flight.groupby('DEST_AIRPORT_ID').DELAY.sum().nlargest(5)\n",
    "print(Top5dest_Airport_delay)"
   ]
  },
  {
   "cell_type": "code",
   "execution_count": 131,
   "metadata": {},
   "outputs": [
    {
     "data": {
      "text/html": [
       "<div>\n",
       "<style>\n",
       "    .dataframe thead tr:only-child th {\n",
       "        text-align: right;\n",
       "    }\n",
       "\n",
       "    .dataframe thead th {\n",
       "        text-align: left;\n",
       "    }\n",
       "\n",
       "    .dataframe tbody tr th {\n",
       "        vertical-align: top;\n",
       "    }\n",
       "</style>\n",
       "<table border=\"1\" class=\"dataframe\">\n",
       "  <thead>\n",
       "    <tr style=\"text-align: right;\">\n",
       "      <th></th>\n",
       "      <th>YEAR</th>\n",
       "      <th>QUARTER</th>\n",
       "      <th>MONTH</th>\n",
       "      <th>DAY_OF_MONTH</th>\n",
       "      <th>DAY_OF_WEEK</th>\n",
       "      <th>AIRLINE_ID</th>\n",
       "      <th>FL_NUM</th>\n",
       "      <th>ORIGIN_AIRPORT_ID</th>\n",
       "      <th>DEST_AIRPORT_ID</th>\n",
       "      <th>SCHED_DEP_TIME</th>\n",
       "      <th>SCHED_ARR_TIME</th>\n",
       "      <th>DELAY</th>\n",
       "    </tr>\n",
       "  </thead>\n",
       "  <tbody>\n",
       "    <tr>\n",
       "      <th>0</th>\n",
       "      <td>2017</td>\n",
       "      <td>1</td>\n",
       "      <td>1</td>\n",
       "      <td>7</td>\n",
       "      <td>6</td>\n",
       "      <td>19805</td>\n",
       "      <td>1766</td>\n",
       "      <td>11298</td>\n",
       "      <td>12889</td>\n",
       "      <td>1055</td>\n",
       "      <td>1154</td>\n",
       "      <td>0.0</td>\n",
       "    </tr>\n",
       "    <tr>\n",
       "      <th>1</th>\n",
       "      <td>2017</td>\n",
       "      <td>1</td>\n",
       "      <td>1</td>\n",
       "      <td>8</td>\n",
       "      <td>7</td>\n",
       "      <td>19805</td>\n",
       "      <td>1766</td>\n",
       "      <td>11298</td>\n",
       "      <td>12889</td>\n",
       "      <td>1055</td>\n",
       "      <td>1154</td>\n",
       "      <td>0.0</td>\n",
       "    </tr>\n",
       "    <tr>\n",
       "      <th>2</th>\n",
       "      <td>2017</td>\n",
       "      <td>1</td>\n",
       "      <td>1</td>\n",
       "      <td>1</td>\n",
       "      <td>7</td>\n",
       "      <td>19805</td>\n",
       "      <td>1766</td>\n",
       "      <td>13930</td>\n",
       "      <td>11298</td>\n",
       "      <td>710</td>\n",
       "      <td>948</td>\n",
       "      <td>0.0</td>\n",
       "    </tr>\n",
       "    <tr>\n",
       "      <th>3</th>\n",
       "      <td>2017</td>\n",
       "      <td>1</td>\n",
       "      <td>1</td>\n",
       "      <td>2</td>\n",
       "      <td>1</td>\n",
       "      <td>19805</td>\n",
       "      <td>1766</td>\n",
       "      <td>13930</td>\n",
       "      <td>11298</td>\n",
       "      <td>710</td>\n",
       "      <td>948</td>\n",
       "      <td>0.0</td>\n",
       "    </tr>\n",
       "    <tr>\n",
       "      <th>4</th>\n",
       "      <td>2017</td>\n",
       "      <td>1</td>\n",
       "      <td>1</td>\n",
       "      <td>3</td>\n",
       "      <td>2</td>\n",
       "      <td>19805</td>\n",
       "      <td>1766</td>\n",
       "      <td>13930</td>\n",
       "      <td>11298</td>\n",
       "      <td>710</td>\n",
       "      <td>948</td>\n",
       "      <td>0.0</td>\n",
       "    </tr>\n",
       "  </tbody>\n",
       "</table>\n",
       "</div>"
      ],
      "text/plain": [
       "   YEAR  QUARTER  MONTH  DAY_OF_MONTH  DAY_OF_WEEK  AIRLINE_ID  FL_NUM  \\\n",
       "0  2017        1      1             7            6       19805    1766   \n",
       "1  2017        1      1             8            7       19805    1766   \n",
       "2  2017        1      1             1            7       19805    1766   \n",
       "3  2017        1      1             2            1       19805    1766   \n",
       "4  2017        1      1             3            2       19805    1766   \n",
       "\n",
       "   ORIGIN_AIRPORT_ID  DEST_AIRPORT_ID  SCHED_DEP_TIME  SCHED_ARR_TIME  DELAY  \n",
       "0              11298            12889            1055            1154    0.0  \n",
       "1              11298            12889            1055            1154    0.0  \n",
       "2              13930            11298             710             948    0.0  \n",
       "3              13930            11298             710             948    0.0  \n",
       "4              13930            11298             710             948    0.0  "
      ]
     },
     "execution_count": 131,
     "metadata": {},
     "output_type": "execute_result"
    }
   ],
   "source": [
    "# Cleaning data keeping the Top five origin airport delay \n",
    "Top5Origin_airport=new_data.loc[new_data['ORIGIN_AIRPORT_ID'].isin(['10397', '12892', '13930','11298','14771'])] \n",
    "Top5Origin_airport.head()"
   ]
  },
  {
   "cell_type": "code",
   "execution_count": 132,
   "metadata": {},
   "outputs": [
    {
     "data": {
      "text/html": [
       "<div>\n",
       "<style>\n",
       "    .dataframe thead tr:only-child th {\n",
       "        text-align: right;\n",
       "    }\n",
       "\n",
       "    .dataframe thead th {\n",
       "        text-align: left;\n",
       "    }\n",
       "\n",
       "    .dataframe tbody tr th {\n",
       "        vertical-align: top;\n",
       "    }\n",
       "</style>\n",
       "<table border=\"1\" class=\"dataframe\">\n",
       "  <thead>\n",
       "    <tr style=\"text-align: right;\">\n",
       "      <th></th>\n",
       "      <th>YEAR</th>\n",
       "      <th>QUARTER</th>\n",
       "      <th>MONTH</th>\n",
       "      <th>DAY_OF_MONTH</th>\n",
       "      <th>DAY_OF_WEEK</th>\n",
       "      <th>AIRLINE_ID</th>\n",
       "      <th>FL_NUM</th>\n",
       "      <th>ORIGIN_AIRPORT_ID</th>\n",
       "      <th>DEST_AIRPORT_ID</th>\n",
       "      <th>SCHED_DEP_TIME</th>\n",
       "      <th>SCHED_ARR_TIME</th>\n",
       "      <th>DELAY</th>\n",
       "    </tr>\n",
       "  </thead>\n",
       "  <tbody>\n",
       "    <tr>\n",
       "      <th>358</th>\n",
       "      <td>2017</td>\n",
       "      <td>1</td>\n",
       "      <td>1</td>\n",
       "      <td>9</td>\n",
       "      <td>1</td>\n",
       "      <td>19805</td>\n",
       "      <td>1776</td>\n",
       "      <td>11298</td>\n",
       "      <td>11292</td>\n",
       "      <td>910</td>\n",
       "      <td>1018</td>\n",
       "      <td>1.0</td>\n",
       "    </tr>\n",
       "    <tr>\n",
       "      <th>359</th>\n",
       "      <td>2017</td>\n",
       "      <td>1</td>\n",
       "      <td>1</td>\n",
       "      <td>10</td>\n",
       "      <td>2</td>\n",
       "      <td>19805</td>\n",
       "      <td>1776</td>\n",
       "      <td>11298</td>\n",
       "      <td>11292</td>\n",
       "      <td>910</td>\n",
       "      <td>1018</td>\n",
       "      <td>0.0</td>\n",
       "    </tr>\n",
       "    <tr>\n",
       "      <th>360</th>\n",
       "      <td>2017</td>\n",
       "      <td>1</td>\n",
       "      <td>1</td>\n",
       "      <td>11</td>\n",
       "      <td>3</td>\n",
       "      <td>19805</td>\n",
       "      <td>1776</td>\n",
       "      <td>11298</td>\n",
       "      <td>11292</td>\n",
       "      <td>910</td>\n",
       "      <td>1018</td>\n",
       "      <td>0.0</td>\n",
       "    </tr>\n",
       "    <tr>\n",
       "      <th>361</th>\n",
       "      <td>2017</td>\n",
       "      <td>1</td>\n",
       "      <td>1</td>\n",
       "      <td>12</td>\n",
       "      <td>4</td>\n",
       "      <td>19805</td>\n",
       "      <td>1776</td>\n",
       "      <td>11298</td>\n",
       "      <td>11292</td>\n",
       "      <td>910</td>\n",
       "      <td>1018</td>\n",
       "      <td>0.0</td>\n",
       "    </tr>\n",
       "    <tr>\n",
       "      <th>362</th>\n",
       "      <td>2017</td>\n",
       "      <td>1</td>\n",
       "      <td>1</td>\n",
       "      <td>13</td>\n",
       "      <td>5</td>\n",
       "      <td>19805</td>\n",
       "      <td>1776</td>\n",
       "      <td>11298</td>\n",
       "      <td>11292</td>\n",
       "      <td>910</td>\n",
       "      <td>1018</td>\n",
       "      <td>0.0</td>\n",
       "    </tr>\n",
       "  </tbody>\n",
       "</table>\n",
       "</div>"
      ],
      "text/plain": [
       "     YEAR  QUARTER  MONTH  DAY_OF_MONTH  DAY_OF_WEEK  AIRLINE_ID  FL_NUM  \\\n",
       "358  2017        1      1             9            1       19805    1776   \n",
       "359  2017        1      1            10            2       19805    1776   \n",
       "360  2017        1      1            11            3       19805    1776   \n",
       "361  2017        1      1            12            4       19805    1776   \n",
       "362  2017        1      1            13            5       19805    1776   \n",
       "\n",
       "     ORIGIN_AIRPORT_ID  DEST_AIRPORT_ID  SCHED_DEP_TIME  SCHED_ARR_TIME  DELAY  \n",
       "358              11298            11292             910            1018    1.0  \n",
       "359              11298            11292             910            1018    0.0  \n",
       "360              11298            11292             910            1018    0.0  \n",
       "361              11298            11292             910            1018    0.0  \n",
       "362              11298            11292             910            1018    0.0  "
      ]
     },
     "execution_count": 132,
     "metadata": {},
     "output_type": "execute_result"
    }
   ],
   "source": [
    "# Cleaning data keeping the Top five dest airport delay \n",
    "clean_data=Top5Origin_airport.loc[new_data['DEST_AIRPORT_ID'].isin(['10397', '12892', '13930','11292','14771'])] \n",
    "clean_data.head()"
   ]
  },
  {
   "cell_type": "markdown",
   "metadata": {},
   "source": [
    "Step 3: Converting all categorical variables into dummy variables:"
   ]
  },
  {
   "cell_type": "code",
   "execution_count": 133,
   "metadata": {},
   "outputs": [
    {
     "data": {
      "text/html": [
       "<div>\n",
       "<style>\n",
       "    .dataframe thead tr:only-child th {\n",
       "        text-align: right;\n",
       "    }\n",
       "\n",
       "    .dataframe thead th {\n",
       "        text-align: left;\n",
       "    }\n",
       "\n",
       "    .dataframe tbody tr th {\n",
       "        vertical-align: top;\n",
       "    }\n",
       "</style>\n",
       "<table border=\"1\" class=\"dataframe\">\n",
       "  <thead>\n",
       "    <tr style=\"text-align: right;\">\n",
       "      <th></th>\n",
       "      <th>YEAR</th>\n",
       "      <th>QUARTER</th>\n",
       "      <th>MONTH</th>\n",
       "      <th>DAY_OF_MONTH</th>\n",
       "      <th>DAY_OF_WEEK</th>\n",
       "      <th>FL_NUM</th>\n",
       "      <th>SCHED_DEP_TIME</th>\n",
       "      <th>SCHED_ARR_TIME</th>\n",
       "      <th>DELAY</th>\n",
       "      <th>AIRLINE_ID_19790</th>\n",
       "      <th>...</th>\n",
       "      <th>AIRLINE_ID_20304</th>\n",
       "      <th>AIRLINE_ID_21171</th>\n",
       "      <th>ORIGIN_AIRPORT_ID_11298</th>\n",
       "      <th>ORIGIN_AIRPORT_ID_12892</th>\n",
       "      <th>ORIGIN_AIRPORT_ID_13930</th>\n",
       "      <th>ORIGIN_AIRPORT_ID_14771</th>\n",
       "      <th>DEST_AIRPORT_ID_11292</th>\n",
       "      <th>DEST_AIRPORT_ID_12892</th>\n",
       "      <th>DEST_AIRPORT_ID_13930</th>\n",
       "      <th>DEST_AIRPORT_ID_14771</th>\n",
       "    </tr>\n",
       "  </thead>\n",
       "  <tbody>\n",
       "    <tr>\n",
       "      <th>358</th>\n",
       "      <td>2017</td>\n",
       "      <td>1</td>\n",
       "      <td>1</td>\n",
       "      <td>9</td>\n",
       "      <td>1</td>\n",
       "      <td>1776</td>\n",
       "      <td>910</td>\n",
       "      <td>1018</td>\n",
       "      <td>1.0</td>\n",
       "      <td>0</td>\n",
       "      <td>...</td>\n",
       "      <td>0</td>\n",
       "      <td>0</td>\n",
       "      <td>1</td>\n",
       "      <td>0</td>\n",
       "      <td>0</td>\n",
       "      <td>0</td>\n",
       "      <td>1</td>\n",
       "      <td>0</td>\n",
       "      <td>0</td>\n",
       "      <td>0</td>\n",
       "    </tr>\n",
       "    <tr>\n",
       "      <th>359</th>\n",
       "      <td>2017</td>\n",
       "      <td>1</td>\n",
       "      <td>1</td>\n",
       "      <td>10</td>\n",
       "      <td>2</td>\n",
       "      <td>1776</td>\n",
       "      <td>910</td>\n",
       "      <td>1018</td>\n",
       "      <td>0.0</td>\n",
       "      <td>0</td>\n",
       "      <td>...</td>\n",
       "      <td>0</td>\n",
       "      <td>0</td>\n",
       "      <td>1</td>\n",
       "      <td>0</td>\n",
       "      <td>0</td>\n",
       "      <td>0</td>\n",
       "      <td>1</td>\n",
       "      <td>0</td>\n",
       "      <td>0</td>\n",
       "      <td>0</td>\n",
       "    </tr>\n",
       "    <tr>\n",
       "      <th>360</th>\n",
       "      <td>2017</td>\n",
       "      <td>1</td>\n",
       "      <td>1</td>\n",
       "      <td>11</td>\n",
       "      <td>3</td>\n",
       "      <td>1776</td>\n",
       "      <td>910</td>\n",
       "      <td>1018</td>\n",
       "      <td>0.0</td>\n",
       "      <td>0</td>\n",
       "      <td>...</td>\n",
       "      <td>0</td>\n",
       "      <td>0</td>\n",
       "      <td>1</td>\n",
       "      <td>0</td>\n",
       "      <td>0</td>\n",
       "      <td>0</td>\n",
       "      <td>1</td>\n",
       "      <td>0</td>\n",
       "      <td>0</td>\n",
       "      <td>0</td>\n",
       "    </tr>\n",
       "    <tr>\n",
       "      <th>361</th>\n",
       "      <td>2017</td>\n",
       "      <td>1</td>\n",
       "      <td>1</td>\n",
       "      <td>12</td>\n",
       "      <td>4</td>\n",
       "      <td>1776</td>\n",
       "      <td>910</td>\n",
       "      <td>1018</td>\n",
       "      <td>0.0</td>\n",
       "      <td>0</td>\n",
       "      <td>...</td>\n",
       "      <td>0</td>\n",
       "      <td>0</td>\n",
       "      <td>1</td>\n",
       "      <td>0</td>\n",
       "      <td>0</td>\n",
       "      <td>0</td>\n",
       "      <td>1</td>\n",
       "      <td>0</td>\n",
       "      <td>0</td>\n",
       "      <td>0</td>\n",
       "    </tr>\n",
       "    <tr>\n",
       "      <th>362</th>\n",
       "      <td>2017</td>\n",
       "      <td>1</td>\n",
       "      <td>1</td>\n",
       "      <td>13</td>\n",
       "      <td>5</td>\n",
       "      <td>1776</td>\n",
       "      <td>910</td>\n",
       "      <td>1018</td>\n",
       "      <td>0.0</td>\n",
       "      <td>0</td>\n",
       "      <td>...</td>\n",
       "      <td>0</td>\n",
       "      <td>0</td>\n",
       "      <td>1</td>\n",
       "      <td>0</td>\n",
       "      <td>0</td>\n",
       "      <td>0</td>\n",
       "      <td>1</td>\n",
       "      <td>0</td>\n",
       "      <td>0</td>\n",
       "      <td>0</td>\n",
       "    </tr>\n",
       "  </tbody>\n",
       "</table>\n",
       "<p>5 rows × 21 columns</p>\n",
       "</div>"
      ],
      "text/plain": [
       "     YEAR  QUARTER  MONTH  DAY_OF_MONTH  DAY_OF_WEEK  FL_NUM  SCHED_DEP_TIME  \\\n",
       "358  2017        1      1             9            1    1776             910   \n",
       "359  2017        1      1            10            2    1776             910   \n",
       "360  2017        1      1            11            3    1776             910   \n",
       "361  2017        1      1            12            4    1776             910   \n",
       "362  2017        1      1            13            5    1776             910   \n",
       "\n",
       "     SCHED_ARR_TIME  DELAY  AIRLINE_ID_19790          ...            \\\n",
       "358            1018    1.0                 0          ...             \n",
       "359            1018    0.0                 0          ...             \n",
       "360            1018    0.0                 0          ...             \n",
       "361            1018    0.0                 0          ...             \n",
       "362            1018    0.0                 0          ...             \n",
       "\n",
       "     AIRLINE_ID_20304  AIRLINE_ID_21171  ORIGIN_AIRPORT_ID_11298  \\\n",
       "358                 0                 0                        1   \n",
       "359                 0                 0                        1   \n",
       "360                 0                 0                        1   \n",
       "361                 0                 0                        1   \n",
       "362                 0                 0                        1   \n",
       "\n",
       "     ORIGIN_AIRPORT_ID_12892  ORIGIN_AIRPORT_ID_13930  \\\n",
       "358                        0                        0   \n",
       "359                        0                        0   \n",
       "360                        0                        0   \n",
       "361                        0                        0   \n",
       "362                        0                        0   \n",
       "\n",
       "     ORIGIN_AIRPORT_ID_14771  DEST_AIRPORT_ID_11292  DEST_AIRPORT_ID_12892  \\\n",
       "358                        0                      1                      0   \n",
       "359                        0                      1                      0   \n",
       "360                        0                      1                      0   \n",
       "361                        0                      1                      0   \n",
       "362                        0                      1                      0   \n",
       "\n",
       "     DEST_AIRPORT_ID_13930  DEST_AIRPORT_ID_14771  \n",
       "358                      0                      0  \n",
       "359                      0                      0  \n",
       "360                      0                      0  \n",
       "361                      0                      0  \n",
       "362                      0                      0  \n",
       "\n",
       "[5 rows x 21 columns]"
      ]
     },
     "execution_count": 133,
     "metadata": {},
     "output_type": "execute_result"
    }
   ],
   "source": [
    "dummy_data = pd.get_dummies(clean_data, columns=['AIRLINE_ID', 'ORIGIN_AIRPORT_ID', 'DEST_AIRPORT_ID'], drop_first=True)\n",
    "dummy_data.head()"
   ]
  },
  {
   "cell_type": "code",
   "execution_count": 134,
   "metadata": {
    "collapsed": true
   },
   "outputs": [],
   "source": [
    "data_final_vars=dummy_data.columns.values.tolist()\n",
    "y=['DELAY']\n",
    "X=[i for i in data_final_vars if i not in y]"
   ]
  },
  {
   "cell_type": "markdown",
   "metadata": {},
   "source": [
    "# Explority Data Analysis:"
   ]
  },
  {
   "cell_type": "code",
   "execution_count": 135,
   "metadata": {},
   "outputs": [
    {
     "data": {
      "text/plain": [
       "0.0    930\n",
       "1.0    255\n",
       "Name: DELAY, dtype: int64"
      ]
     },
     "execution_count": 135,
     "metadata": {},
     "output_type": "execute_result"
    }
   ],
   "source": [
    "clean_data['DELAY'].value_counts()"
   ]
  },
  {
   "cell_type": "code",
   "execution_count": 136,
   "metadata": {},
   "outputs": [
    {
     "data": {
      "image/png": "[encoded data removed]",
      "text/plain": [
       "<matplotlib.figure.Figure at 0x1c189c2f60>"
      ]
     },
     "metadata": {},
     "output_type": "display_data"
    },
    {
     "data": {
      "text/plain": [
       "<matplotlib.figure.Figure at 0x1c189c2f98>"
      ]
     },
     "metadata": {},
     "output_type": "display_data"
    }
   ],
   "source": [
    "sns.countplot(x='DELAY',data=clean_data, palette='hls')\n",
    "plt.show()\n",
    "plt.savefig('count_plot')"
   ]
  },
  {
   "cell_type": "markdown",
   "metadata": {},
   "source": [
    "There are 18352 no's and 5174 yes's in the outcome variables.\n",
    "Let's get a sense of the numbers across the two classes"
   ]
  },
  {
   "cell_type": "code",
   "execution_count": 137,
   "metadata": {},
   "outputs": [
    {
     "data": {
      "text/html": [
       "<div>\n",
       "<style>\n",
       "    .dataframe thead tr:only-child th {\n",
       "        text-align: right;\n",
       "    }\n",
       "\n",
       "    .dataframe thead th {\n",
       "        text-align: left;\n",
       "    }\n",
       "\n",
       "    .dataframe tbody tr th {\n",
       "        vertical-align: top;\n",
       "    }\n",
       "</style>\n",
       "<table border=\"1\" class=\"dataframe\">\n",
       "  <thead>\n",
       "    <tr style=\"text-align: right;\">\n",
       "      <th></th>\n",
       "      <th>YEAR</th>\n",
       "      <th>QUARTER</th>\n",
       "      <th>MONTH</th>\n",
       "      <th>DAY_OF_MONTH</th>\n",
       "      <th>DAY_OF_WEEK</th>\n",
       "      <th>AIRLINE_ID</th>\n",
       "      <th>FL_NUM</th>\n",
       "      <th>ORIGIN_AIRPORT_ID</th>\n",
       "      <th>DEST_AIRPORT_ID</th>\n",
       "      <th>SCHED_DEP_TIME</th>\n",
       "      <th>SCHED_ARR_TIME</th>\n",
       "    </tr>\n",
       "    <tr>\n",
       "      <th>DELAY</th>\n",
       "      <th></th>\n",
       "      <th></th>\n",
       "      <th></th>\n",
       "      <th></th>\n",
       "      <th></th>\n",
       "      <th></th>\n",
       "      <th></th>\n",
       "      <th></th>\n",
       "      <th></th>\n",
       "      <th></th>\n",
       "      <th></th>\n",
       "    </tr>\n",
       "  </thead>\n",
       "  <tbody>\n",
       "    <tr>\n",
       "      <th>0.0</th>\n",
       "      <td>2017.0</td>\n",
       "      <td>2.520430</td>\n",
       "      <td>7.150538</td>\n",
       "      <td>14.284946</td>\n",
       "      <td>4.251613</td>\n",
       "      <td>20577.072043</td>\n",
       "      <td>1817.549462</td>\n",
       "      <td>13288.704301</td>\n",
       "      <td>13087.759140</td>\n",
       "      <td>1347.805376</td>\n",
       "      <td>1499.276344</td>\n",
       "    </tr>\n",
       "    <tr>\n",
       "      <th>1.0</th>\n",
       "      <td>2017.0</td>\n",
       "      <td>2.247059</td>\n",
       "      <td>6.176471</td>\n",
       "      <td>14.705882</td>\n",
       "      <td>4.062745</td>\n",
       "      <td>20448.337255</td>\n",
       "      <td>1894.917647</td>\n",
       "      <td>13249.039216</td>\n",
       "      <td>13079.031373</td>\n",
       "      <td>1469.400000</td>\n",
       "      <td>1650.219608</td>\n",
       "    </tr>\n",
       "  </tbody>\n",
       "</table>\n",
       "</div>"
      ],
      "text/plain": [
       "         YEAR   QUARTER     MONTH  DAY_OF_MONTH  DAY_OF_WEEK    AIRLINE_ID  \\\n",
       "DELAY                                                                        \n",
       "0.0    2017.0  2.520430  7.150538     14.284946     4.251613  20577.072043   \n",
       "1.0    2017.0  2.247059  6.176471     14.705882     4.062745  20448.337255   \n",
       "\n",
       "            FL_NUM  ORIGIN_AIRPORT_ID  DEST_AIRPORT_ID  SCHED_DEP_TIME  \\\n",
       "DELAY                                                                    \n",
       "0.0    1817.549462       13288.704301     13087.759140     1347.805376   \n",
       "1.0    1894.917647       13249.039216     13079.031373     1469.400000   \n",
       "\n",
       "       SCHED_ARR_TIME  \n",
       "DELAY                  \n",
       "0.0       1499.276344  \n",
       "1.0       1650.219608  "
      ]
     },
     "execution_count": 137,
     "metadata": {},
     "output_type": "execute_result"
    }
   ],
   "source": [
    "clean_data.groupby('DELAY').mean()"
   ]
  },
  {
   "cell_type": "markdown",
   "metadata": {},
   "source": [
    "# Visualizations"
   ]
  },
  {
   "cell_type": "code",
   "execution_count": 138,
   "metadata": {},
   "outputs": [
    {
     "data": {
      "image/png": "[encoded data removed]",
      "text/plain": [
       "<matplotlib.figure.Figure at 0x1c170b02e8>"
      ]
     },
     "metadata": {},
     "output_type": "display_data"
    }
   ],
   "source": [
    "%matplotlib inline\n",
    "pd.crosstab(clean_data.ORIGIN_AIRPORT_ID,clean_data.DELAY).plot(kind='bar')\n",
    "plt.title('Delay Frequency for Origin_Airport')\n",
    "plt.xlabel('Origin_Airport')\n",
    "plt.ylabel('Frequency of Delay')\n",
    "plt.savefig('Delay_fre_Origin_Airport')"
   ]
  },
  {
   "cell_type": "code",
   "execution_count": 139,
   "metadata": {},
   "outputs": [
    {
     "data": {
      "image/png": "[encoded data removed]",
      "text/plain": [
       "<matplotlib.figure.Figure at 0x1a0ce9efd0>"
      ]
     },
     "metadata": {},
     "output_type": "display_data"
    }
   ],
   "source": [
    "%matplotlib inline\n",
    "pd.crosstab(clean_data.AIRLINE_ID,clean_data.DELAY).plot(kind='bar')\n",
    "plt.title('Delay Frequency for Airlines')\n",
    "plt.xlabel('Airlines')\n",
    "plt.ylabel('Frequency of Delay')\n",
    "plt.savefig('Delay_fre_Airlines')"
   ]
  },
  {
   "cell_type": "code",
   "execution_count": 140,
   "metadata": {},
   "outputs": [
    {
     "data": {
      "image/png": "[encoded data removed]",
      "text/plain": [
       "<matplotlib.figure.Figure at 0x1c16edc710>"
      ]
     },
     "metadata": {},
     "output_type": "display_data"
    }
   ],
   "source": [
    "data[['DAY_OF_WEEK','DELAY']].groupby(['DAY_OF_WEEK']).count().plot()\n",
    "plt.show()"
   ]
  },
  {
   "cell_type": "code",
   "execution_count": 141,
   "metadata": {},
   "outputs": [
    {
     "data": {
      "image/png": "[encoded data removed]",
      "text/plain": [
       "<matplotlib.figure.Figure at 0x1c16b3cf28>"
      ]
     },
     "metadata": {},
     "output_type": "display_data"
    }
   ],
   "source": [
    "data[['DAY_OF_MONTH','DELAY']].groupby(['DAY_OF_MONTH']).count().plot()\n",
    "plt.show()"
   ]
  },
  {
   "cell_type": "code",
   "execution_count": 142,
   "metadata": {},
   "outputs": [
    {
     "data": {
      "text/html": [
       "<div>\n",
       "<style>\n",
       "    .dataframe thead tr:only-child th {\n",
       "        text-align: right;\n",
       "    }\n",
       "\n",
       "    .dataframe thead th {\n",
       "        text-align: left;\n",
       "    }\n",
       "\n",
       "    .dataframe tbody tr th {\n",
       "        vertical-align: top;\n",
       "    }\n",
       "</style>\n",
       "<table border=\"1\" class=\"dataframe\">\n",
       "  <thead>\n",
       "    <tr style=\"text-align: right;\">\n",
       "      <th></th>\n",
       "      <th>Code</th>\n",
       "      <th>Description</th>\n",
       "    </tr>\n",
       "  </thead>\n",
       "  <tbody>\n",
       "    <tr>\n",
       "      <th>0</th>\n",
       "      <td>19031</td>\n",
       "      <td>Mackey International Inc.: MAC</td>\n",
       "    </tr>\n",
       "    <tr>\n",
       "      <th>1</th>\n",
       "      <td>19032</td>\n",
       "      <td>Munz Northern Airlines Inc.: XY</td>\n",
       "    </tr>\n",
       "    <tr>\n",
       "      <th>2</th>\n",
       "      <td>19033</td>\n",
       "      <td>Cochise Airlines Inc.: COC</td>\n",
       "    </tr>\n",
       "    <tr>\n",
       "      <th>3</th>\n",
       "      <td>19034</td>\n",
       "      <td>Golden Gate Airlines Inc.: GSA</td>\n",
       "    </tr>\n",
       "    <tr>\n",
       "      <th>4</th>\n",
       "      <td>19035</td>\n",
       "      <td>Aeromech Inc.: RZZ</td>\n",
       "    </tr>\n",
       "  </tbody>\n",
       "</table>\n",
       "</div>"
      ],
      "text/plain": [
       "    Code                      Description\n",
       "0  19031   Mackey International Inc.: MAC\n",
       "1  19032  Munz Northern Airlines Inc.: XY\n",
       "2  19033       Cochise Airlines Inc.: COC\n",
       "3  19034   Golden Gate Airlines Inc.: GSA\n",
       "4  19035               Aeromech Inc.: RZZ"
      ]
     },
     "execution_count": 142,
     "metadata": {},
     "output_type": "execute_result"
    }
   ],
   "source": [
    "#Read the Airline Code Description CSV file for full names of the Airlines\n",
    "Airline_key = pd.read_csv('Airlines.csv')\n",
    "Airline_key.head()"
   ]
  },
  {
   "cell_type": "code",
   "execution_count": 143,
   "metadata": {},
   "outputs": [
    {
     "data": {
      "text/html": [
       "<div>\n",
       "<style>\n",
       "    .dataframe thead tr:only-child th {\n",
       "        text-align: right;\n",
       "    }\n",
       "\n",
       "    .dataframe thead th {\n",
       "        text-align: left;\n",
       "    }\n",
       "\n",
       "    .dataframe tbody tr th {\n",
       "        vertical-align: top;\n",
       "    }\n",
       "</style>\n",
       "<table border=\"1\" class=\"dataframe\">\n",
       "  <thead>\n",
       "    <tr style=\"text-align: right;\">\n",
       "      <th></th>\n",
       "      <th>AIRLINE_ID</th>\n",
       "      <th>Description</th>\n",
       "    </tr>\n",
       "  </thead>\n",
       "  <tbody>\n",
       "    <tr>\n",
       "      <th>0</th>\n",
       "      <td>19031</td>\n",
       "      <td>Mackey International Inc.: MAC</td>\n",
       "    </tr>\n",
       "    <tr>\n",
       "      <th>1</th>\n",
       "      <td>19032</td>\n",
       "      <td>Munz Northern Airlines Inc.: XY</td>\n",
       "    </tr>\n",
       "    <tr>\n",
       "      <th>2</th>\n",
       "      <td>19033</td>\n",
       "      <td>Cochise Airlines Inc.: COC</td>\n",
       "    </tr>\n",
       "    <tr>\n",
       "      <th>3</th>\n",
       "      <td>19034</td>\n",
       "      <td>Golden Gate Airlines Inc.: GSA</td>\n",
       "    </tr>\n",
       "    <tr>\n",
       "      <th>4</th>\n",
       "      <td>19035</td>\n",
       "      <td>Aeromech Inc.: RZZ</td>\n",
       "    </tr>\n",
       "  </tbody>\n",
       "</table>\n",
       "</div>"
      ],
      "text/plain": [
       "   AIRLINE_ID                      Description\n",
       "0       19031   Mackey International Inc.: MAC\n",
       "1       19032  Munz Northern Airlines Inc.: XY\n",
       "2       19033       Cochise Airlines Inc.: COC\n",
       "3       19034   Golden Gate Airlines Inc.: GSA\n",
       "4       19035               Aeromech Inc.: RZZ"
      ]
     },
     "execution_count": 143,
     "metadata": {},
     "output_type": "execute_result"
    }
   ],
   "source": [
    "Airline_key.rename(columns={'Code': 'AIRLINE_ID'}, inplace=True)\n",
    "Airline_key.head()"
   ]
  },
  {
   "cell_type": "code",
   "execution_count": 144,
   "metadata": {},
   "outputs": [
    {
     "data": {
      "text/html": [
       "<div>\n",
       "<style>\n",
       "    .dataframe thead tr:only-child th {\n",
       "        text-align: right;\n",
       "    }\n",
       "\n",
       "    .dataframe thead th {\n",
       "        text-align: left;\n",
       "    }\n",
       "\n",
       "    .dataframe tbody tr th {\n",
       "        vertical-align: top;\n",
       "    }\n",
       "</style>\n",
       "<table border=\"1\" class=\"dataframe\">\n",
       "  <thead>\n",
       "    <tr style=\"text-align: right;\">\n",
       "      <th></th>\n",
       "      <th>YEAR</th>\n",
       "      <th>QUARTER</th>\n",
       "      <th>MONTH</th>\n",
       "      <th>DAY_OF_MONTH</th>\n",
       "      <th>DAY_OF_WEEK</th>\n",
       "      <th>FL_NUM</th>\n",
       "      <th>ORIGIN_AIRPORT_ID</th>\n",
       "      <th>DEST_AIRPORT_ID</th>\n",
       "      <th>SCHED_DEP_TIME</th>\n",
       "      <th>SCHED_ARR_TIME</th>\n",
       "      <th>DELAY</th>\n",
       "      <th>Description</th>\n",
       "    </tr>\n",
       "    <tr>\n",
       "      <th>AIRLINE_ID</th>\n",
       "      <th></th>\n",
       "      <th></th>\n",
       "      <th></th>\n",
       "      <th></th>\n",
       "      <th></th>\n",
       "      <th></th>\n",
       "      <th></th>\n",
       "      <th></th>\n",
       "      <th></th>\n",
       "      <th></th>\n",
       "      <th></th>\n",
       "      <th></th>\n",
       "    </tr>\n",
       "  </thead>\n",
       "  <tbody>\n",
       "    <tr>\n",
       "      <th>19805</th>\n",
       "      <td>2017</td>\n",
       "      <td>1</td>\n",
       "      <td>1</td>\n",
       "      <td>9</td>\n",
       "      <td>1</td>\n",
       "      <td>1776</td>\n",
       "      <td>11298</td>\n",
       "      <td>11292</td>\n",
       "      <td>910</td>\n",
       "      <td>1018</td>\n",
       "      <td>1.0</td>\n",
       "      <td>American Airlines Inc.: AA</td>\n",
       "    </tr>\n",
       "    <tr>\n",
       "      <th>19805</th>\n",
       "      <td>2017</td>\n",
       "      <td>1</td>\n",
       "      <td>1</td>\n",
       "      <td>10</td>\n",
       "      <td>2</td>\n",
       "      <td>1776</td>\n",
       "      <td>11298</td>\n",
       "      <td>11292</td>\n",
       "      <td>910</td>\n",
       "      <td>1018</td>\n",
       "      <td>0.0</td>\n",
       "      <td>American Airlines Inc.: AA</td>\n",
       "    </tr>\n",
       "    <tr>\n",
       "      <th>19805</th>\n",
       "      <td>2017</td>\n",
       "      <td>1</td>\n",
       "      <td>1</td>\n",
       "      <td>11</td>\n",
       "      <td>3</td>\n",
       "      <td>1776</td>\n",
       "      <td>11298</td>\n",
       "      <td>11292</td>\n",
       "      <td>910</td>\n",
       "      <td>1018</td>\n",
       "      <td>0.0</td>\n",
       "      <td>American Airlines Inc.: AA</td>\n",
       "    </tr>\n",
       "    <tr>\n",
       "      <th>19805</th>\n",
       "      <td>2017</td>\n",
       "      <td>1</td>\n",
       "      <td>1</td>\n",
       "      <td>12</td>\n",
       "      <td>4</td>\n",
       "      <td>1776</td>\n",
       "      <td>11298</td>\n",
       "      <td>11292</td>\n",
       "      <td>910</td>\n",
       "      <td>1018</td>\n",
       "      <td>0.0</td>\n",
       "      <td>American Airlines Inc.: AA</td>\n",
       "    </tr>\n",
       "    <tr>\n",
       "      <th>19805</th>\n",
       "      <td>2017</td>\n",
       "      <td>1</td>\n",
       "      <td>1</td>\n",
       "      <td>13</td>\n",
       "      <td>5</td>\n",
       "      <td>1776</td>\n",
       "      <td>11298</td>\n",
       "      <td>11292</td>\n",
       "      <td>910</td>\n",
       "      <td>1018</td>\n",
       "      <td>0.0</td>\n",
       "      <td>American Airlines Inc.: AA</td>\n",
       "    </tr>\n",
       "  </tbody>\n",
       "</table>\n",
       "</div>"
      ],
      "text/plain": [
       "            YEAR  QUARTER  MONTH  DAY_OF_MONTH  DAY_OF_WEEK  FL_NUM  \\\n",
       "AIRLINE_ID                                                            \n",
       "19805       2017        1      1             9            1    1776   \n",
       "19805       2017        1      1            10            2    1776   \n",
       "19805       2017        1      1            11            3    1776   \n",
       "19805       2017        1      1            12            4    1776   \n",
       "19805       2017        1      1            13            5    1776   \n",
       "\n",
       "            ORIGIN_AIRPORT_ID  DEST_AIRPORT_ID  SCHED_DEP_TIME  \\\n",
       "AIRLINE_ID                                                       \n",
       "19805                   11298            11292             910   \n",
       "19805                   11298            11292             910   \n",
       "19805                   11298            11292             910   \n",
       "19805                   11298            11292             910   \n",
       "19805                   11298            11292             910   \n",
       "\n",
       "            SCHED_ARR_TIME  DELAY                 Description  \n",
       "AIRLINE_ID                                                     \n",
       "19805                 1018    1.0  American Airlines Inc.: AA  \n",
       "19805                 1018    0.0  American Airlines Inc.: AA  \n",
       "19805                 1018    0.0  American Airlines Inc.: AA  \n",
       "19805                 1018    0.0  American Airlines Inc.: AA  \n",
       "19805                 1018    0.0  American Airlines Inc.: AA  "
      ]
     },
     "execution_count": 144,
     "metadata": {},
     "output_type": "execute_result"
    }
   ],
   "source": [
    "merged = pd.merge (clean_data, Airline_key, on ='AIRLINE_ID', how = 'inner')\n",
    "merged.set_index ('AIRLINE_ID', inplace=True)\n",
    "merged.head()"
   ]
  },
  {
   "cell_type": "code",
   "execution_count": 145,
   "metadata": {},
   "outputs": [
    {
     "data": {
      "image/png": "[encoded data removed]",
      "text/plain": [
       "<matplotlib.figure.Figure at 0x1c18003978>"
      ]
     },
     "metadata": {},
     "output_type": "display_data"
    }
   ],
   "source": [
    "plt.figure(figsize=(15, 2))\n",
    "g = sns.violinplot(x=\"Description\", y=\"DELAY\", data=merged,palette=\"coolwarm\")\n",
    "g.set_ylabel('Delay')\n",
    "g.set_xlabel('')\n",
    "label = g.set_xticklabels(g.get_xticklabels(), rotation=90)\n",
    "plt.show()"
   ]
  },
  {
   "cell_type": "markdown",
   "metadata": {},
   "source": [
    "# Feature Selection"
   ]
  },
  {
   "cell_type": "code",
   "execution_count": 146,
   "metadata": {},
   "outputs": [
    {
     "data": {
      "text/plain": [
       "array(['YEAR', 'QUARTER', 'MONTH', 'DAY_OF_MONTH', 'DAY_OF_WEEK', 'FL_NUM',\n",
       "       'SCHED_DEP_TIME', 'SCHED_ARR_TIME', 'DELAY', 'AIRLINE_ID_19790',\n",
       "       'AIRLINE_ID_19805', 'AIRLINE_ID_20304', 'AIRLINE_ID_21171',\n",
       "       'ORIGIN_AIRPORT_ID_11298', 'ORIGIN_AIRPORT_ID_12892',\n",
       "       'ORIGIN_AIRPORT_ID_13930', 'ORIGIN_AIRPORT_ID_14771',\n",
       "       'DEST_AIRPORT_ID_11292', 'DEST_AIRPORT_ID_12892',\n",
       "       'DEST_AIRPORT_ID_13930', 'DEST_AIRPORT_ID_14771'], dtype=object)"
      ]
     },
     "execution_count": 146,
     "metadata": {},
     "output_type": "execute_result"
    }
   ],
   "source": [
    "dummy_data.columns.values"
   ]
  },
  {
   "cell_type": "code",
   "execution_count": 147,
   "metadata": {},
   "outputs": [
    {
     "name": "stdout",
     "output_type": "stream",
     "text": [
      "[ True  True  True  True  True False False  True  True  True  True  True\n",
      "  True  True  True  True  True  True  True  True]\n",
      "[1 1 1 1 1 3 2 1 1 1 1 1 1 1 1 1 1 1 1 1]\n"
     ]
    },
    {
     "name": "stderr",
     "output_type": "stream",
     "text": [
      "/Users/Manar/anaconda3/lib/python3.6/site-packages/sklearn/utils/validation.py:578: DataConversionWarning: A column-vector y was passed when a 1d array was expected. Please change the shape of y to (n_samples, ), for example using ravel().\n",
      "  y = column_or_1d(y, warn=True)\n"
     ]
    }
   ],
   "source": [
    "from sklearn import datasets\n",
    "from sklearn.feature_selection import RFE\n",
    "from sklearn.linear_model import LogisticRegression\n",
    "\n",
    "logreg = LogisticRegression()\n",
    "\n",
    "rfe = RFE(logreg, 18)\n",
    "rfe = rfe.fit(dummy_data[X], dummy_data[y] )\n",
    "print(rfe.support_)\n",
    "print(rfe.ranking_)"
   ]
  },
  {
   "cell_type": "markdown",
   "metadata": {},
   "source": [
    "The Recursive Feature Elimination (RFE) has helped us select the following features:"
   ]
  },
  {
   "cell_type": "code",
   "execution_count": 148,
   "metadata": {
    "collapsed": true
   },
   "outputs": [],
   "source": [
    "cols=[\"YEAR\", \"QUARTER\", \"MONTH\", \"DAY_OF_MONTH\", \"DAY_OF_WEEK\", \"SCHED_ARR_TIME\", \"AIRLINE_ID_19790\", \n",
    "      \"AIRLINE_ID_19805\", \"AIRLINE_ID_20304\", \"AIRLINE_ID_21171\", \"ORIGIN_AIRPORT_ID_11298\", \"ORIGIN_AIRPORT_ID_12892\",\n",
    "      \"ORIGIN_AIRPORT_ID_13930\",\n",
    "      \"ORIGIN_AIRPORT_ID_14771\", \"DEST_AIRPORT_ID_11292\", \n",
    "      \"DEST_AIRPORT_ID_12892\", \"DEST_AIRPORT_ID_13930\", \"DEST_AIRPORT_ID_14771\"] \n",
    "x =dummy_data[cols]\n",
    "y =dummy_data['DELAY']"
   ]
  },
  {
   "cell_type": "code",
   "execution_count": 149,
   "metadata": {},
   "outputs": [
    {
     "name": "stdout",
     "output_type": "stream",
     "text": [
      "Optimization terminated successfully.\n",
      "         Current function value: 0.478164\n",
      "         Iterations 6\n",
      "                           Logit Regression Results                           \n",
      "==============================================================================\n",
      "Dep. Variable:                  DELAY   No. Observations:                 1185\n",
      "Model:                          Logit   Df Residuals:                     1167\n",
      "Method:                           MLE   Df Model:                           17\n",
      "Date:                Sun, 18 Mar 2018   Pseudo R-squ.:                 0.08178\n",
      "Time:                        22:06:16   Log-Likelihood:                -566.62\n",
      "converged:                       True   LL-Null:                       -617.09\n",
      "                                        LLR p-value:                 5.973e-14\n",
      "===========================================================================================\n",
      "                              coef    std err          z      P>|z|      [0.025      0.975]\n",
      "-------------------------------------------------------------------------------------------\n",
      "YEAR                       -0.0001      0.000     -0.287      0.774      -0.001       0.001\n",
      "QUARTER                    -0.1867      0.511     -0.365      0.715      -1.189       0.815\n",
      "MONTH                      -0.1149      0.175     -0.656      0.512      -0.458       0.228\n",
      "DAY_OF_MONTH                0.0081      0.012      0.674      0.501      -0.015       0.031\n",
      "DAY_OF_WEEK                -0.0644      0.038     -1.699      0.089      -0.139       0.010\n",
      "SCHED_ARR_TIME              0.0007      0.000      4.558      0.000       0.000       0.001\n",
      "AIRLINE_ID_19790           -2.1027      0.500     -4.206      0.000      -3.082      -1.123\n",
      "AIRLINE_ID_19805           -1.7307      0.534     -3.240      0.001      -2.778      -0.684\n",
      "AIRLINE_ID_20304           -0.8894      0.537     -1.658      0.097      -1.941       0.162\n",
      "AIRLINE_ID_21171           -2.1145      0.581     -3.640      0.000      -3.253      -0.976\n",
      "ORIGIN_AIRPORT_ID_11298    -0.3355      0.466     -0.720      0.472      -1.249       0.578\n",
      "ORIGIN_AIRPORT_ID_12892     1.0858      0.435      2.498      0.012       0.234       1.938\n",
      "ORIGIN_AIRPORT_ID_13930     0.4106      0.489      0.840      0.401      -0.548       1.369\n",
      "ORIGIN_AIRPORT_ID_14771     0.9054      0.441      2.052      0.040       0.040       1.770\n",
      "DEST_AIRPORT_ID_11292       0.2930      0.368      0.795      0.426      -0.429       1.015\n",
      "DEST_AIRPORT_ID_12892       0.2933      0.406      0.723      0.470      -0.502       1.088\n",
      "DEST_AIRPORT_ID_13930       0.2384      0.405      0.589      0.556      -0.555       1.032\n",
      "DEST_AIRPORT_ID_14771       0.6313      0.388      1.628      0.104      -0.129       1.391\n",
      "===========================================================================================\n"
     ]
    }
   ],
   "source": [
    "import statsmodels.api as sm\n",
    "\n",
    "logit_model=sm.Logit(y,x)\n",
    "result=logit_model.fit()\n",
    "print(result.summary())"
   ]
  },
  {
   "cell_type": "markdown",
   "metadata": {},
   "source": [
    "# Spilliting the data into training and testing :"
   ]
  },
  {
   "cell_type": "code",
   "execution_count": 150,
   "metadata": {},
   "outputs": [
    {
     "name": "stdout",
     "output_type": "stream",
     "text": [
      "(829, 18)\n",
      "(356, 18)\n",
      "(829,)\n",
      "(356,)\n"
     ]
    }
   ],
   "source": [
    "x_train, x_test, y_train, y_test = train_test_split(x, y, test_size=0.3, random_state=0)\n",
    "print(x_train.shape)\n",
    "print(x_test.shape)\n",
    "print(y_train.shape)\n",
    "print(y_test.shape)"
   ]
  },
  {
   "cell_type": "markdown",
   "metadata": {},
   "source": [
    "# Logistic Regression:"
   ]
  },
  {
   "cell_type": "markdown",
   "metadata": {},
   "source": [
    "Building the Model:"
   ]
  },
  {
   "cell_type": "code",
   "execution_count": 151,
   "metadata": {},
   "outputs": [
    {
     "data": {
      "text/plain": [
       "LogisticRegression(C=1.0, class_weight=None, dual=False, fit_intercept=True,\n",
       "          intercept_scaling=1, max_iter=100, multi_class='ovr', n_jobs=1,\n",
       "          penalty='l2', random_state=None, solver='liblinear', tol=0.0001,\n",
       "          verbose=0, warm_start=False)"
      ]
     },
     "execution_count": 151,
     "metadata": {},
     "output_type": "execute_result"
    }
   ],
   "source": [
    "logreg = LogisticRegression()\n",
    "logreg.fit(x_train, y_train)"
   ]
  },
  {
   "cell_type": "markdown",
   "metadata": {},
   "source": [
    "Cross Validation:"
   ]
  },
  {
   "cell_type": "code",
   "execution_count": 152,
   "metadata": {},
   "outputs": [
    {
     "name": "stdout",
     "output_type": "stream",
     "text": [
      "10-fold cross validation average accuracy: 0.773\n"
     ]
    }
   ],
   "source": [
    "from sklearn import model_selection\n",
    "from sklearn.model_selection import cross_val_score\n",
    "\n",
    "kfold = model_selection.KFold(n_splits=10, random_state=7)\n",
    "modelCV = LogisticRegression()\n",
    "scoring = 'accuracy'\n",
    "results = model_selection.cross_val_score(modelCV, x_train, y_train, cv=kfold, scoring=scoring)\n",
    "print(\"10-fold cross validation average accuracy: %.3f\" % (results.mean()))"
   ]
  },
  {
   "cell_type": "markdown",
   "metadata": {},
   "source": [
    "Testing the Model:"
   ]
  },
  {
   "cell_type": "code",
   "execution_count": 153,
   "metadata": {
    "collapsed": true
   },
   "outputs": [],
   "source": [
    "y_pred = logreg.predict(x_test)"
   ]
  },
  {
   "cell_type": "markdown",
   "metadata": {},
   "source": [
    "Summary of the predictions made by the classifier:"
   ]
  },
  {
   "cell_type": "code",
   "execution_count": 154,
   "metadata": {},
   "outputs": [
    {
     "name": "stdout",
     "output_type": "stream",
     "text": [
      "The Confusing Matrix:\n",
      "[[282   5]\n",
      " [ 64   5]]\n"
     ]
    }
   ],
   "source": [
    "# Confusion Matrix:\n",
    "print(\"The Confusing Matrix:\")\n",
    "confusion_matrix = confusion_matrix(y_test, y_pred)\n",
    "print(confusion_matrix)"
   ]
  },
  {
   "cell_type": "code",
   "execution_count": 155,
   "metadata": {},
   "outputs": [
    {
     "name": "stdout",
     "output_type": "stream",
     "text": [
      "Accuracy of logistic regression classifier on test set: 0.81\n"
     ]
    }
   ],
   "source": [
    "# Accuracy Score:\n",
    "print('Accuracy of logistic regression classifier on test set: {:.2f}'.format(logreg.score(x_test, y_test)))"
   ]
  },
  {
   "cell_type": "code",
   "execution_count": 156,
   "metadata": {},
   "outputs": [
    {
     "name": "stdout",
     "output_type": "stream",
     "text": [
      "             precision    recall  f1-score   support\n",
      "\n",
      "    class 0       0.82      0.98      0.89       287\n",
      "    class 1       0.50      0.07      0.13        69\n",
      "\n",
      "avg / total       0.75      0.81      0.74       356\n",
      "\n"
     ]
    }
   ],
   "source": [
    "# Classification Report:\n",
    "print(classification_report(y_test, y_pred, target_names=['class 0', 'class 1']))"
   ]
  },
  {
   "cell_type": "code",
   "execution_count": 157,
   "metadata": {},
   "outputs": [
    {
     "data": {
      "image/png": "[encoded data removed]",
      "text/plain": [
       "<matplotlib.figure.Figure at 0x1c1896b4a8>"
      ]
     },
     "metadata": {},
     "output_type": "display_data"
    }
   ],
   "source": [
    "plt.rc(\"font\", size=14)\n",
    "sns.set(style=\"white\")\n",
    "sns.set(style=\"whitegrid\", color_codes=True)\n",
    "\n",
    "\n",
    "logit_roc_auc = roc_auc_score(y_test, logreg.predict(x_test))\n",
    "fpr, tpr, thresholds = roc_curve(y_test, logreg.predict_proba(x_test)[:,1])\n",
    "plt.figure()\n",
    "plt.plot(fpr, tpr, label='Logistic Regression (area = %0.2f)' % logit_roc_auc)\n",
    "plt.plot([0, 1], [0, 1],'r--')\n",
    "plt.xlim([0.0, 1.0])\n",
    "plt.ylim([0.0, 1.05])\n",
    "plt.xlabel('False Positive Rate')\n",
    "plt.ylabel('True Positive Rate')\n",
    "plt.title('Receiver operating characteristic')\n",
    "plt.legend(loc=\"lower right\")\n",
    "plt.savefig('Log_ROC')\n",
    "plt.show()"
   ]
  },
  {
   "cell_type": "markdown",
   "metadata": {},
   "source": [
    "# Artificial Neural Network:"
   ]
  },
  {
   "cell_type": "markdown",
   "metadata": {},
   "source": [
    "Building the Model:"
   ]
  },
  {
   "cell_type": "code",
   "execution_count": 158,
   "metadata": {},
   "outputs": [
    {
     "name": "stdout",
     "output_type": "stream",
     "text": [
      "Random starting synaptic weights: \n",
      "[[-0.16595599]\n",
      " [ 0.44064899]\n",
      " [-0.99977125]\n",
      " [-0.39533485]\n",
      " [-0.70648822]\n",
      " [-0.81532281]\n",
      " [-0.62747958]\n",
      " [-0.30887855]\n",
      " [-0.20646505]\n",
      " [ 0.07763347]\n",
      " [-0.16161097]\n",
      " [ 0.370439  ]\n",
      " [-0.5910955 ]\n",
      " [ 0.75623487]\n",
      " [-0.94522481]\n",
      " [ 0.34093502]\n",
      " [-0.1653904 ]\n",
      " [ 0.11737966]]\n"
     ]
    }
   ],
   "source": [
    "class NeuralNetwork():\n",
    "    def __init__(self):\n",
    "        # seed the random number generator, so it generates the same \n",
    "        random.seed(1)\n",
    "        \n",
    "        # We Model a single neuron, with 18 input and one output connection\n",
    "        self.synaptic_weights = 2 * random.random((18,1)) -1\n",
    "        \n",
    "    # The sigmod function, which take the wieghted sum and normalized it between 0 and 1    \n",
    "    def __sigmoid(self,x):\n",
    "        return 1/(1 + exp(-x))\n",
    "    \n",
    "    # The dervative of the sigmoid function, it indicates how confident we are about the wieght\n",
    "    def __sigmoid_derivative(self,x):\n",
    "        return x*(1-x)\n",
    "    \n",
    "    # we train the neural network through a process of trail and error.\n",
    "    # Adjasting the synaptic weights each time.\n",
    "    def train(self,training_set_inputs, training_set_outputs,number_of_training_iterations):\n",
    "        for iteration in range(number_of_training_iterations):\n",
    "            #Pass the training set through our neural network (a single neuran).\n",
    "            output = self.think(training_set_inputs)\n",
    "     \n",
    "            #Calculate the error (The diffrence between the desired output and the predicted output )\n",
    "            error = training_set_outputs - output\n",
    "           \n",
    "            # Multiply the error by the input and again by the gradient of the Sigmoid curve.\n",
    "            # This means less Confident weight are adjusted more.\n",
    "            # This means inputs,which are zero, do not cause changes to the weights.\n",
    "            Adjustment = dot(training_set_inputs.T, error * self.__sigmoid_derivative(output))\n",
    "            \n",
    "            #Adjust the weights.\n",
    "            self.synaptic_weights += Adjustment\n",
    "            \n",
    "    #The neural network thinks.\n",
    "    def think(self,inputs):\n",
    "        # Pass inputs through our neural network (our single neuron).\n",
    "        return self.__sigmoid(dot(inputs, self.synaptic_weights))\n",
    "            \n",
    "            \n",
    "if __name__ == \"__main__\":\n",
    "    \n",
    "    #I ntialise a single neuron neural network.\n",
    "    neural_network = NeuralNetwork()\n",
    "    \n",
    "    print(\"Random starting synaptic weights: \")\n",
    "    print(neural_network.synaptic_weights)"
   ]
  },
  {
   "cell_type": "markdown",
   "metadata": {},
   "source": [
    "Train the Model:"
   ]
  },
  {
   "cell_type": "code",
   "execution_count": 159,
   "metadata": {},
   "outputs": [
    {
     "name": "stderr",
     "output_type": "stream",
     "text": [
      "/Users/Manar/anaconda3/lib/python3.6/site-packages/ipykernel_launcher.py:11: RuntimeWarning: overflow encountered in exp\n",
      "  # This is added back by InteractiveShellApp.init_path()\n"
     ]
    },
    {
     "name": "stdout",
     "output_type": "stream",
     "text": [
      "New synaptic wieghts after training:\n",
      "[[-0.16595599]\n",
      " [ 0.44064899]\n",
      " [-0.99977125]\n",
      " [-0.39533485]\n",
      " [-0.70648822]\n",
      " [-0.81532281]\n",
      " [-0.62747958]\n",
      " [-0.30887855]\n",
      " [-0.20646505]\n",
      " [ 0.07763347]\n",
      " [-0.16161097]\n",
      " [ 0.370439  ]\n",
      " [-0.5910955 ]\n",
      " [ 0.75623487]\n",
      " [-0.94522481]\n",
      " [ 0.34093502]\n",
      " [-0.1653904 ]\n",
      " [ 0.11737966]]\n"
     ]
    }
   ],
   "source": [
    "    training_set_inputs = x_train.values.reshape(-1,18)\n",
    "    training_set_outputs = y_train.values.reshape(-1,1)\n",
    "\n",
    "   \n",
    "    # Train the neural network using a training set\n",
    "    # Do it 10,000 time and make small adjusments each time.\n",
    "    neural_network.train(training_set_inputs, training_set_outputs, 10000)\n",
    "    print(\"New synaptic wieghts after training:\")\n",
    "    print(neural_network.synaptic_weights)"
   ]
  },
  {
   "cell_type": "markdown",
   "metadata": {},
   "source": [
    "Cross Validation:"
   ]
  },
  {
   "cell_type": "code",
   "execution_count": 160,
   "metadata": {},
   "outputs": [
    {
     "name": "stderr",
     "output_type": "stream",
     "text": [
      "/Users/Manar/anaconda3/lib/python3.6/site-packages/ipykernel_launcher.py:11: RuntimeWarning: overflow encountered in exp\n",
      "  # This is added back by InteractiveShellApp.init_path()\n"
     ]
    },
    {
     "ename": "TypeError",
     "evalue": "estimator should be an estimator implementing 'fit' method, None was passed",
     "output_type": "error",
     "traceback": [
      "\u001b[0;31m---------------------------------------------------------------------------\u001b[0m",
      "\u001b[0;31mTypeError\u001b[0m                                 Traceback (most recent call last)",
      "\u001b[0;32m<ipython-input-160-fef66287433f>\u001b[0m in \u001b[0;36m<module>\u001b[0;34m()\u001b[0m\n\u001b[1;32m      2\u001b[0m \u001b[0mmodelCV\u001b[0m \u001b[0;34m=\u001b[0m \u001b[0mneural_network\u001b[0m\u001b[0;34m.\u001b[0m\u001b[0mtrain\u001b[0m\u001b[0;34m(\u001b[0m\u001b[0mtraining_set_inputs\u001b[0m\u001b[0;34m,\u001b[0m \u001b[0mtraining_set_outputs\u001b[0m\u001b[0;34m,\u001b[0m \u001b[0;36m10000\u001b[0m\u001b[0;34m)\u001b[0m\u001b[0;34m\u001b[0m\u001b[0m\n\u001b[1;32m      3\u001b[0m \u001b[0mscoring\u001b[0m \u001b[0;34m=\u001b[0m \u001b[0;34m'accuracy'\u001b[0m\u001b[0;34m\u001b[0m\u001b[0m\n\u001b[0;32m----> 4\u001b[0;31m \u001b[0mresults\u001b[0m \u001b[0;34m=\u001b[0m \u001b[0mmodel_selection\u001b[0m\u001b[0;34m.\u001b[0m\u001b[0mcross_val_score\u001b[0m\u001b[0;34m(\u001b[0m\u001b[0mmodelCV\u001b[0m\u001b[0;34m,\u001b[0m \u001b[0mx_train\u001b[0m\u001b[0;34m,\u001b[0m \u001b[0my_train\u001b[0m\u001b[0;34m,\u001b[0m \u001b[0mcv\u001b[0m\u001b[0;34m=\u001b[0m\u001b[0mkfold\u001b[0m\u001b[0;34m,\u001b[0m \u001b[0mscoring\u001b[0m\u001b[0;34m=\u001b[0m\u001b[0mscoring\u001b[0m\u001b[0;34m)\u001b[0m\u001b[0;34m\u001b[0m\u001b[0m\n\u001b[0m\u001b[1;32m      5\u001b[0m \u001b[0mprint\u001b[0m\u001b[0;34m(\u001b[0m\u001b[0;34m\"10-fold cross validation average accuracy: %.3f\"\u001b[0m \u001b[0;34m%\u001b[0m \u001b[0;34m(\u001b[0m\u001b[0mresults\u001b[0m\u001b[0;34m.\u001b[0m\u001b[0mmean\u001b[0m\u001b[0;34m(\u001b[0m\u001b[0;34m)\u001b[0m\u001b[0;34m)\u001b[0m\u001b[0;34m)\u001b[0m\u001b[0;34m\u001b[0m\u001b[0m\n",
      "\u001b[0;32m~/anaconda3/lib/python3.6/site-packages/sklearn/model_selection/_validation.py\u001b[0m in \u001b[0;36mcross_val_score\u001b[0;34m(estimator, X, y, groups, scoring, cv, n_jobs, verbose, fit_params, pre_dispatch)\u001b[0m\n\u001b[1;32m    333\u001b[0m     \"\"\"\n\u001b[1;32m    334\u001b[0m     \u001b[0;31m# To ensure multimetric format is not supported\u001b[0m\u001b[0;34m\u001b[0m\u001b[0;34m\u001b[0m\u001b[0m\n\u001b[0;32m--> 335\u001b[0;31m     \u001b[0mscorer\u001b[0m \u001b[0;34m=\u001b[0m \u001b[0mcheck_scoring\u001b[0m\u001b[0;34m(\u001b[0m\u001b[0mestimator\u001b[0m\u001b[0;34m,\u001b[0m \u001b[0mscoring\u001b[0m\u001b[0;34m=\u001b[0m\u001b[0mscoring\u001b[0m\u001b[0;34m)\u001b[0m\u001b[0;34m\u001b[0m\u001b[0m\n\u001b[0m\u001b[1;32m    336\u001b[0m \u001b[0;34m\u001b[0m\u001b[0m\n\u001b[1;32m    337\u001b[0m     cv_results = cross_validate(estimator=estimator, X=X, y=y, groups=groups,\n",
      "\u001b[0;32m~/anaconda3/lib/python3.6/site-packages/sklearn/metrics/scorer.py\u001b[0m in \u001b[0;36mcheck_scoring\u001b[0;34m(estimator, scoring, allow_none)\u001b[0m\n\u001b[1;32m    272\u001b[0m     \u001b[0;32mif\u001b[0m \u001b[0;32mnot\u001b[0m \u001b[0mhasattr\u001b[0m\u001b[0;34m(\u001b[0m\u001b[0mestimator\u001b[0m\u001b[0;34m,\u001b[0m \u001b[0;34m'fit'\u001b[0m\u001b[0;34m)\u001b[0m\u001b[0;34m:\u001b[0m\u001b[0;34m\u001b[0m\u001b[0m\n\u001b[1;32m    273\u001b[0m         raise TypeError(\"estimator should be an estimator implementing \"\n\u001b[0;32m--> 274\u001b[0;31m                         \"'fit' method, %r was passed\" % estimator)\n\u001b[0m\u001b[1;32m    275\u001b[0m     \u001b[0;32mif\u001b[0m \u001b[0misinstance\u001b[0m\u001b[0;34m(\u001b[0m\u001b[0mscoring\u001b[0m\u001b[0;34m,\u001b[0m \u001b[0msix\u001b[0m\u001b[0;34m.\u001b[0m\u001b[0mstring_types\u001b[0m\u001b[0;34m)\u001b[0m\u001b[0;34m:\u001b[0m\u001b[0;34m\u001b[0m\u001b[0m\n\u001b[1;32m    276\u001b[0m         \u001b[0;32mreturn\u001b[0m \u001b[0mget_scorer\u001b[0m\u001b[0;34m(\u001b[0m\u001b[0mscoring\u001b[0m\u001b[0;34m)\u001b[0m\u001b[0;34m\u001b[0m\u001b[0m\n",
      "\u001b[0;31mTypeError\u001b[0m: estimator should be an estimator implementing 'fit' method, None was passed"
     ]
    }
   ],
   "source": [
    "kfold = model_selection.KFold(n_splits=10, random_state=7)\n",
    "modelCV = neural_network.train(training_set_inputs, training_set_outputs, 10000)\n",
    "scoring = 'accuracy'\n",
    "results = model_selection.cross_val_score(modelCV, x_train, y_train, cv=kfold, scoring=scoring)\n",
    "print(\"10-fold cross validation average accuracy: %.3f\" % (results.mean()))"
   ]
  },
  {
   "cell_type": "markdown",
   "metadata": {},
   "source": [
    "Testing the Model:"
   ]
  },
  {
   "cell_type": "code",
   "execution_count": null,
   "metadata": {},
   "outputs": [],
   "source": [
    "# Test the neural network with a new set\n",
    "y_pred = neural_network.think(x_test)"
   ]
  },
  {
   "cell_type": "markdown",
   "metadata": {},
   "source": [
    "Summary of the predictions made by the classifier:"
   ]
  },
  {
   "cell_type": "code",
   "execution_count": null,
   "metadata": {},
   "outputs": [],
   "source": [
    "from sklearn.metrics import confusion_matrix\n",
    "# Confusion Matrix:\n",
    "print(\"The Confusing Matrix:\")\n",
    "print(confusion_matrix(y_test, y_pred))"
   ]
  },
  {
   "cell_type": "code",
   "execution_count": null,
   "metadata": {},
   "outputs": [],
   "source": [
    "# Accuracy score\n",
    "print('The accuracy of ANN in the testing set is',accuracy_score(y_pred,y_test))"
   ]
  },
  {
   "cell_type": "code",
   "execution_count": null,
   "metadata": {},
   "outputs": [],
   "source": [
    "# Classfication Report:\n",
    "print(classification_report(y_test, y_pred,target_names=['class 0', 'Class 1']))     "
   ]
  },
  {
   "cell_type": "markdown",
   "metadata": {},
   "source": [
    "ROC:"
   ]
  },
  {
   "cell_type": "code",
   "execution_count": null,
   "metadata": {},
   "outputs": [],
   "source": [
    "plt.rc(\"font\", size=14)\n",
    "sns.set(style=\"white\")\n",
    "sns.set(style=\"whitegrid\", color_codes=True)\n",
    "\n",
    "\n",
    "ANN_roc_auc = roc_auc_score(y_test, neural_network.think(x_test))\n",
    "fpr, tpr, thresholds = roc_curve(y_test,neural_network.think(x_test))\n",
    "plt.figure()\n",
    "plt.plot(fpr, tpr, label='ANN  (area = %0.2f)' % ANN_roc_auc)\n",
    "plt.plot([0, 1], [0, 1],'r--')\n",
    "plt.xlim([0.0, 1.0])\n",
    "plt.ylim([0.0, 1.05])\n",
    "plt.xlabel('False Positive Rate')\n",
    "plt.ylabel('True Positive Rate')\n",
    "plt.title('Receiver operating characteristic')\n",
    "plt.legend(loc=\"lower right\")\n",
    "plt.savefig('ANN_ROC')\n",
    "plt.show()"
   ]
  },
  {
   "cell_type": "markdown",
   "metadata": {},
   "source": [
    "# K-Nearest Neighbour "
   ]
  },
  {
   "cell_type": "code",
   "execution_count": null,
   "metadata": {},
   "outputs": [],
   "source": [
    "from sklearn.neighbors import KNeighborsClassifier\n",
    "\n",
    "classifier = KNeighborsClassifier(n_neighbors=8)\n",
    "classifier.fit(x_train, y_train)"
   ]
  },
  {
   "cell_type": "markdown",
   "metadata": {},
   "source": [
    "Cross Validation:"
   ]
  },
  {
   "cell_type": "code",
   "execution_count": null,
   "metadata": {},
   "outputs": [],
   "source": [
    "kfold = model_selection.KFold(n_splits=10, random_state=7)\n",
    "modelCV = KNeighborsClassifier(n_neighbors=8)\n",
    "scoring = 'accuracy'\n",
    "results = model_selection.cross_val_score(modelCV, x_train, y_train, cv=kfold, scoring=scoring)\n",
    "print(\"10-fold cross validation average accuracy: %.3f\" % (results.mean()))"
   ]
  },
  {
   "cell_type": "markdown",
   "metadata": {},
   "source": [
    "Testing the Model:"
   ]
  },
  {
   "cell_type": "code",
   "execution_count": null,
   "metadata": {
    "collapsed": true
   },
   "outputs": [],
   "source": [
    "y_pred = classifier.predict(x_test)"
   ]
  },
  {
   "cell_type": "markdown",
   "metadata": {},
   "source": [
    " Summary of the predictions made by the classifier:"
   ]
  },
  {
   "cell_type": "code",
   "execution_count": null,
   "metadata": {},
   "outputs": [],
   "source": [
    "from sklearn.metrics import confusion_matrix\n",
    "# Confusion Matrix:\n",
    "print(\"The Confusing Matrix:\")\n",
    "print(confusion_matrix(y_test, y_pred))"
   ]
  },
  {
   "cell_type": "code",
   "execution_count": null,
   "metadata": {},
   "outputs": [],
   "source": [
    "# Accuracy score\n",
    "print('The accuracy of K-Nearest in the testing set is',accuracy_score(y_pred,y_test))"
   ]
  },
  {
   "cell_type": "code",
   "execution_count": null,
   "metadata": {},
   "outputs": [],
   "source": [
    "# Classfication Report:\n",
    "print(classification_report(y_test, y_pred,target_names=['class 0', 'Class 1']))"
   ]
  },
  {
   "cell_type": "markdown",
   "metadata": {},
   "source": [
    "ROC:"
   ]
  },
  {
   "cell_type": "code",
   "execution_count": null,
   "metadata": {},
   "outputs": [],
   "source": [
    "plt.rc(\"font\", size=14)\n",
    "sns.set(style=\"white\")\n",
    "sns.set(style=\"whitegrid\", color_codes=True)\n",
    "\n",
    "\n",
    "KNN_roc_auc = roc_auc_score(y_test, classifier.predict(x_test))\n",
    "fpr, tpr, thresholds = roc_curve(y_test, classifier.predict_proba(x_test)[:,1])\n",
    "plt.figure()\n",
    "plt.plot(fpr, tpr, label='KNN  (area = %0.2f)' % KNN_roc_auc)\n",
    "plt.plot([0, 1], [0, 1],'r--')\n",
    "plt.xlim([0.0, 1.0])\n",
    "plt.ylim([0.0, 1.05])\n",
    "plt.xlabel('False Positive Rate')\n",
    "plt.ylabel('True Positive Rate')\n",
    "plt.title('Receiver operating characteristic')\n",
    "plt.legend(loc=\"lower right\")\n",
    "plt.savefig('KNN_ROC')\n",
    "plt.show()"
   ]
  },
  {
   "cell_type": "markdown",
   "metadata": {
    "collapsed": true
   },
   "source": [
    "# RANDOM FOREST CLASSIFIER"
   ]
  },
  {
   "cell_type": "markdown",
   "metadata": {},
   "source": [
    "Building the Model:"
   ]
  },
  {
   "cell_type": "code",
   "execution_count": 161,
   "metadata": {
    "collapsed": true
   },
   "outputs": [],
   "source": [
    "from sklearn.ensemble import RandomForestClassifier\n",
    "\n",
    "classifier = RandomForestClassifier(n_estimators = 1000, criterion='gini', min_samples_leaf = 50, max_features='auto', oob_score=True, n_jobs=-1, random_state=50)\n",
    "calssifier = classifier.fit(x_train,y_train)"
   ]
  },
  {
   "cell_type": "markdown",
   "metadata": {},
   "source": [
    "Cross Validation:"
   ]
  },
  {
   "cell_type": "code",
   "execution_count": 162,
   "metadata": {},
   "outputs": [
    {
     "name": "stdout",
     "output_type": "stream",
     "text": [
      "10-fold cross validation average accuracy: 0.776\n"
     ]
    }
   ],
   "source": [
    "kfold = model_selection.KFold(n_splits=10, random_state=7)\n",
    "modelCV = calssifier\n",
    "scoring = 'accuracy'\n",
    "results = model_selection.cross_val_score(modelCV, x_train, y_train, cv=kfold, scoring=scoring)\n",
    "print(\"10-fold cross validation average accuracy: %.3f\" % (results.mean()))"
   ]
  },
  {
   "cell_type": "markdown",
   "metadata": {},
   "source": [
    "Testing the Model:"
   ]
  },
  {
   "cell_type": "code",
   "execution_count": 163,
   "metadata": {
    "collapsed": true
   },
   "outputs": [],
   "source": [
    "predictions = calssifier.predict(x_test)"
   ]
  },
  {
   "cell_type": "markdown",
   "metadata": {},
   "source": [
    "Summary of the predictions made by the classifier:"
   ]
  },
  {
   "cell_type": "code",
   "execution_count": 164,
   "metadata": {},
   "outputs": [
    {
     "name": "stdout",
     "output_type": "stream",
     "text": [
      "The Confusing Matrix:\n",
      "[[287   0]\n",
      " [ 69   0]]\n"
     ]
    }
   ],
   "source": [
    "from sklearn.metrics import confusion_matrix\n",
    "# Confusion Matrix:\n",
    "print(\"The Confusing Matrix:\")\n",
    "print(confusion_matrix(y_test,predictions ))"
   ]
  },
  {
   "cell_type": "code",
   "execution_count": 165,
   "metadata": {},
   "outputs": [
    {
     "name": "stdout",
     "output_type": "stream",
     "text": [
      "The accuracy of Random Forest in the testing set is 0.806179775281\n"
     ]
    }
   ],
   "source": [
    "# Accuracy score\n",
    "print('The accuracy of Random Forest in the testing set is',accuracy_score(predictions,y_test))"
   ]
  },
  {
   "cell_type": "code",
   "execution_count": 166,
   "metadata": {},
   "outputs": [
    {
     "name": "stdout",
     "output_type": "stream",
     "text": [
      "             precision    recall  f1-score   support\n",
      "\n",
      "    class 0       0.81      1.00      0.89       287\n",
      "    Class 1       0.00      0.00      0.00        69\n",
      "\n",
      "avg / total       0.65      0.81      0.72       356\n",
      "\n"
     ]
    },
    {
     "name": "stderr",
     "output_type": "stream",
     "text": [
      "/Users/Manar/anaconda3/lib/python3.6/site-packages/sklearn/metrics/classification.py:1135: UndefinedMetricWarning: Precision and F-score are ill-defined and being set to 0.0 in labels with no predicted samples.\n",
      "  'precision', 'predicted', average, warn_for)\n"
     ]
    }
   ],
   "source": [
    "# Classfication Report:\n",
    "print(classification_report(y_test, predictions,target_names=['class 0', 'Class 1']))"
   ]
  },
  {
   "cell_type": "markdown",
   "metadata": {},
   "source": [
    "ROC:"
   ]
  },
  {
   "cell_type": "code",
   "execution_count": 167,
   "metadata": {},
   "outputs": [
    {
     "data": {
      "image/png": "[encoded data removed]",
      "text/plain": [
       "<matplotlib.figure.Figure at 0x1c171008d0>"
      ]
     },
     "metadata": {},
     "output_type": "display_data"
    }
   ],
   "source": [
    "plt.rc(\"font\", size=14)\n",
    "sns.set(style=\"white\")\n",
    "sns.set(style=\"whitegrid\", color_codes=True)\n",
    "\n",
    "\n",
    "KNN_roc_auc = roc_auc_score(y_test, classifier.predict(x_test))\n",
    "fpr, tpr, thresholds = roc_curve(y_test, classifier.predict_proba(x_test)[:,1])\n",
    "plt.figure()\n",
    "plt.plot(fpr, tpr, label='Random Forest  (area = %0.2f)' % KNN_roc_auc)\n",
    "plt.plot([0, 1], [0, 1],'r--')\n",
    "plt.xlim([0.0, 1.0])\n",
    "plt.ylim([0.0, 1.05])\n",
    "plt.xlabel('False Positive Rate')\n",
    "plt.ylabel('True Positive Rate')\n",
    "plt.title('Receiver operating characteristic')\n",
    "plt.legend(loc=\"lower right\")\n",
    "plt.savefig('RF_ROC')\n",
    "plt.show()"
   ]
  },
  {
   "cell_type": "code",
   "execution_count": 168,
   "metadata": {},
   "outputs": [
    {
     "ename": "NameError",
     "evalue": "name 'pred_train' is not defined",
     "output_type": "error",
     "traceback": [
      "\u001b[0;31m---------------------------------------------------------------------------\u001b[0m",
      "\u001b[0;31mNameError\u001b[0m                                 Traceback (most recent call last)",
      "\u001b[0;32m<ipython-input-168-c2812ded703c>\u001b[0m in \u001b[0;36m<module>\u001b[0;34m()\u001b[0m\n\u001b[1;32m      3\u001b[0m \u001b[0;34m\u001b[0m\u001b[0m\n\u001b[1;32m      4\u001b[0m \u001b[0mmodel\u001b[0m \u001b[0;34m=\u001b[0m \u001b[0mExtraTreesClassifier\u001b[0m\u001b[0;34m(\u001b[0m\u001b[0;34m)\u001b[0m\u001b[0;34m\u001b[0m\u001b[0m\n\u001b[0;32m----> 5\u001b[0;31m \u001b[0mmodel\u001b[0m\u001b[0;34m.\u001b[0m\u001b[0mfit\u001b[0m\u001b[0;34m(\u001b[0m\u001b[0mpred_train\u001b[0m\u001b[0;34m,\u001b[0m\u001b[0mtar_train\u001b[0m\u001b[0;34m)\u001b[0m\u001b[0;34m\u001b[0m\u001b[0m\n\u001b[0m\u001b[1;32m      6\u001b[0m \u001b[0mprint\u001b[0m\u001b[0;34m(\u001b[0m\u001b[0mmodel\u001b[0m\u001b[0;34m.\u001b[0m\u001b[0mfeature_importances_\u001b[0m\u001b[0;34m)\u001b[0m\u001b[0;34m\u001b[0m\u001b[0m\n",
      "\u001b[0;31mNameError\u001b[0m: name 'pred_train' is not defined"
     ]
    }
   ],
   "source": [
    "from sklearn.datasets import make_classification\n",
    "from sklearn.ensemble import ExtraTreesClassifier\n",
    "\n",
    "model = ExtraTreesClassifier()\n",
    "model.fit(pred_train,tar_train)\n",
    "print(model.feature_importances_)"
   ]
  },
  {
   "cell_type": "code",
   "execution_count": null,
   "metadata": {
    "collapsed": true
   },
   "outputs": [],
   "source": []
  },
  {
   "cell_type": "code",
   "execution_count": null,
   "metadata": {
    "collapsed": true
   },
   "outputs": [],
   "source": []
  },
  {
   "cell_type": "code",
   "execution_count": null,
   "metadata": {
    "collapsed": true
   },
   "outputs": [],
   "source": []
  }
 ],
 "metadata": {
  "kernelspec": {
   "display_name": "Python 3",
   "language": "python",
   "name": "python3"
  },
  "language_info": {
   "codemirror_mode": {
    "name": "ipython",
    "version": 3
   },
   "file_extension": ".py",
   "mimetype": "text/x-python",
   "name": "python",
   "nbconvert_exporter": "python",
   "pygments_lexer": "ipython3",
   "version": "3.6.3"
  }
 },
 "nbformat": 4,
 "nbformat_minor": 2
}
