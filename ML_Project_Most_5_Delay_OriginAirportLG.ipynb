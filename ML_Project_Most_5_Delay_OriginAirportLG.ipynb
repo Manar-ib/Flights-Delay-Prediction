{
 "cells": [
  {
   "cell_type": "code",
   "execution_count": 3,
   "metadata": {},
   "outputs": [
    {
     "name": "stderr",
     "output_type": "stream",
     "text": [
      "/anaconda3/lib/python3.6/site-packages/sklearn/cross_validation.py:41: DeprecationWarning: This module was deprecated in version 0.18 in favor of the model_selection module into which all the refactored classes and functions are moved. Also note that the interface of the new CV iterators are different from that of this module. This module will be removed in 0.20.\n",
      "  \"This module will be removed in 0.20.\", DeprecationWarning)\n"
     ]
    },
    {
     "name": "stdout",
     "output_type": "stream",
     "text": [
      "The number of rows in the data set is 450017.\n",
      "The number of features is 12.\n"
     ]
    },
    {
     "data": {
      "text/html": [
       "<div>\n",
       "<style scoped>\n",
       "    .dataframe tbody tr th:only-of-type {\n",
       "        vertical-align: middle;\n",
       "    }\n",
       "\n",
       "    .dataframe tbody tr th {\n",
       "        vertical-align: top;\n",
       "    }\n",
       "\n",
       "    .dataframe thead th {\n",
       "        text-align: right;\n",
       "    }\n",
       "</style>\n",
       "<table border=\"1\" class=\"dataframe\">\n",
       "  <thead>\n",
       "    <tr style=\"text-align: right;\">\n",
       "      <th></th>\n",
       "      <th>YEAR</th>\n",
       "      <th>QUARTER</th>\n",
       "      <th>MONTH</th>\n",
       "      <th>DAY_OF_MONTH</th>\n",
       "      <th>DAY_OF_WEEK</th>\n",
       "      <th>AIRLINE_ID</th>\n",
       "      <th>FL_NUM</th>\n",
       "      <th>ORIGIN_AIRPORT_ID</th>\n",
       "      <th>DEST_AIRPORT_ID</th>\n",
       "      <th>SCHED_DEP_TIME</th>\n",
       "      <th>SCHED_ARR_TIME</th>\n",
       "      <th>DELAY</th>\n",
       "    </tr>\n",
       "  </thead>\n",
       "  <tbody>\n",
       "    <tr>\n",
       "      <th>0</th>\n",
       "      <td>2017</td>\n",
       "      <td>1</td>\n",
       "      <td>1</td>\n",
       "      <td>7</td>\n",
       "      <td>6</td>\n",
       "      <td>19805</td>\n",
       "      <td>1766</td>\n",
       "      <td>11298</td>\n",
       "      <td>12889</td>\n",
       "      <td>1055</td>\n",
       "      <td>1154</td>\n",
       "      <td>0.0</td>\n",
       "    </tr>\n",
       "    <tr>\n",
       "      <th>1</th>\n",
       "      <td>2017</td>\n",
       "      <td>1</td>\n",
       "      <td>1</td>\n",
       "      <td>8</td>\n",
       "      <td>7</td>\n",
       "      <td>19805</td>\n",
       "      <td>1766</td>\n",
       "      <td>11298</td>\n",
       "      <td>12889</td>\n",
       "      <td>1055</td>\n",
       "      <td>1154</td>\n",
       "      <td>0.0</td>\n",
       "    </tr>\n",
       "    <tr>\n",
       "      <th>2</th>\n",
       "      <td>2017</td>\n",
       "      <td>1</td>\n",
       "      <td>1</td>\n",
       "      <td>1</td>\n",
       "      <td>7</td>\n",
       "      <td>19805</td>\n",
       "      <td>1766</td>\n",
       "      <td>13930</td>\n",
       "      <td>11298</td>\n",
       "      <td>710</td>\n",
       "      <td>948</td>\n",
       "      <td>0.0</td>\n",
       "    </tr>\n",
       "    <tr>\n",
       "      <th>3</th>\n",
       "      <td>2017</td>\n",
       "      <td>1</td>\n",
       "      <td>1</td>\n",
       "      <td>2</td>\n",
       "      <td>1</td>\n",
       "      <td>19805</td>\n",
       "      <td>1766</td>\n",
       "      <td>13930</td>\n",
       "      <td>11298</td>\n",
       "      <td>710</td>\n",
       "      <td>948</td>\n",
       "      <td>0.0</td>\n",
       "    </tr>\n",
       "    <tr>\n",
       "      <th>4</th>\n",
       "      <td>2017</td>\n",
       "      <td>1</td>\n",
       "      <td>1</td>\n",
       "      <td>3</td>\n",
       "      <td>2</td>\n",
       "      <td>19805</td>\n",
       "      <td>1766</td>\n",
       "      <td>13930</td>\n",
       "      <td>11298</td>\n",
       "      <td>710</td>\n",
       "      <td>948</td>\n",
       "      <td>0.0</td>\n",
       "    </tr>\n",
       "  </tbody>\n",
       "</table>\n",
       "</div>"
      ],
      "text/plain": [
       "   YEAR  QUARTER  MONTH  DAY_OF_MONTH  DAY_OF_WEEK  AIRLINE_ID  FL_NUM  \\\n",
       "0  2017        1      1             7            6       19805    1766   \n",
       "1  2017        1      1             8            7       19805    1766   \n",
       "2  2017        1      1             1            7       19805    1766   \n",
       "3  2017        1      1             2            1       19805    1766   \n",
       "4  2017        1      1             3            2       19805    1766   \n",
       "\n",
       "   ORIGIN_AIRPORT_ID  DEST_AIRPORT_ID  SCHED_DEP_TIME  SCHED_ARR_TIME  DELAY  \n",
       "0              11298            12889            1055            1154    0.0  \n",
       "1              11298            12889            1055            1154    0.0  \n",
       "2              13930            11298             710             948    0.0  \n",
       "3              13930            11298             710             948    0.0  \n",
       "4              13930            11298             710             948    0.0  "
      ]
     },
     "execution_count": 3,
     "metadata": {},
     "output_type": "execute_result"
    }
   ],
   "source": [
    "from sys import stdin\n",
    "import numpy as np # linear algebra\n",
    "import pandas as pd\n",
    "from sklearn.linear_model import LinearRegression\n",
    "import matplotlib.pyplot as plt\n",
    "from sklearn.cross_validation import train_test_split\n",
    "from sklearn import metrics\n",
    "\n",
    "# Load the data\n",
    "data = pd.read_csv(\"FlightDelays.csv\")\n",
    "\n",
    "print(\"The number of rows in the data set is {}.\".format(len(data)))\n",
    "print(\"The number of features is {}.\".format(len(data.columns)))\n",
    "\n",
    "data.head()"
   ]
  },
  {
   "cell_type": "code",
   "execution_count": 4,
   "metadata": {},
   "outputs": [
    {
     "data": {
      "text/plain": [
       "YEAR                    0\n",
       "QUARTER                 0\n",
       "MONTH                   0\n",
       "DAY_OF_MONTH            0\n",
       "DAY_OF_WEEK             0\n",
       "AIRLINE_ID              0\n",
       "FL_NUM                  0\n",
       "ORIGIN_AIRPORT_ID       0\n",
       "DEST_AIRPORT_ID         0\n",
       "SCHED_DEP_TIME          0\n",
       "SCHED_ARR_TIME          0\n",
       "DELAY                8541\n",
       "dtype: int64"
      ]
     },
     "execution_count": 4,
     "metadata": {},
     "output_type": "execute_result"
    }
   ],
   "source": [
    "# Finding Null Values\n",
    "data.isnull().sum()"
   ]
  },
  {
   "cell_type": "code",
   "execution_count": 5,
   "metadata": {},
   "outputs": [
    {
     "data": {
      "text/plain": [
       "YEAR                 0\n",
       "QUARTER              0\n",
       "MONTH                0\n",
       "DAY_OF_MONTH         0\n",
       "DAY_OF_WEEK          0\n",
       "AIRLINE_ID           0\n",
       "FL_NUM               0\n",
       "ORIGIN_AIRPORT_ID    0\n",
       "DEST_AIRPORT_ID      0\n",
       "SCHED_DEP_TIME       0\n",
       "SCHED_ARR_TIME       0\n",
       "DELAY                0\n",
       "dtype: int64"
      ]
     },
     "execution_count": 5,
     "metadata": {},
     "output_type": "execute_result"
    }
   ],
   "source": [
    "new_data = data.dropna(axis=0)#Delete the rows containing missing data\n",
    "new_data.isnull().sum() #Check to make sure there are no more NaNs"
   ]
  },
  {
   "cell_type": "code",
   "execution_count": 6,
   "metadata": {},
   "outputs": [
    {
     "name": "stdout",
     "output_type": "stream",
     "text": [
      "The number of rows in the new data set is 441476.\n"
     ]
    }
   ],
   "source": [
    "print(\"The number of rows in the new data set is {}.\".format(len(new_data)))"
   ]
  },
  {
   "cell_type": "code",
   "execution_count": 7,
   "metadata": {},
   "outputs": [
    {
     "name": "stdout",
     "output_type": "stream",
     "text": [
      "        YEAR  QUARTER  MONTH  DAY_OF_MONTH  DAY_OF_WEEK  AIRLINE_ID  FL_NUM  \\\n",
      "22      2017        1      1             2            1       19805    1767   \n",
      "24      2017        1      1             4            3       19805    1767   \n",
      "26      2017        1      1             6            5       19805    1767   \n",
      "45      2017        1      1            10            2       19805    1768   \n",
      "64      2017        1      1            29            7       19805    1768   \n",
      "67      2017        1      1             9            1       19805    1769   \n",
      "78      2017        1      1            23            1       19805    1769   \n",
      "80      2017        1      1            25            3       19805    1769   \n",
      "82      2017        1      1            27            5       19805    1769   \n",
      "91      2017        1      1            16            1       19805    1769   \n",
      "98      2017        1      1            25            3       19805    1769   \n",
      "109     2017        1      1             7            6       19805    1769   \n",
      "110     2017        1      1             8            7       19805    1769   \n",
      "111     2017        1      1             9            1       19805    1770   \n",
      "139     2017        1      1             9            1       19805    1770   \n",
      "140     2017        1      1            10            2       19805    1770   \n",
      "149     2017        1      1            20            5       19805    1770   \n",
      "151     2017        1      1            23            1       19805    1770   \n",
      "192     2017        1      1             9            1       19805    1772   \n",
      "195     2017        1      1            12            4       19805    1772   \n",
      "198     2017        1      1            15            7       19805    1772   \n",
      "257     2017        1      1            23            1       19805    1773   \n",
      "261     2017        1      1            27            5       19805    1773   \n",
      "268     2017        1      1             5            4       19805    1773   \n",
      "282     2017        1      1             5            4       19805    1774   \n",
      "293     2017        1      1            20            5       19805    1774   \n",
      "295     2017        1      1            22            7       19805    1774   \n",
      "303     2017        1      1             2            1       19805    1774   \n",
      "314     2017        1      1             3            2       19805    1775   \n",
      "317     2017        1      1             6            5       19805    1775   \n",
      "...      ...      ...    ...           ...          ...         ...     ...   \n",
      "449796  2017        1      1             6            5       19805    1760   \n",
      "449801  2017        1      1            12            4       19805    1760   \n",
      "449821  2017        1      1             1            7       19805    1761   \n",
      "449828  2017        1      1             8            7       19805    1761   \n",
      "449830  2017        1      1            10            2       19805    1761   \n",
      "449842  2017        1      1            22            7       19805    1761   \n",
      "449843  2017        1      1            23            1       19805    1761   \n",
      "449844  2017        1      1            24            2       19805    1761   \n",
      "449869  2017        1      1             9            1       19805    1762   \n",
      "449897  2017        1      1             7            6       19805    1763   \n",
      "449899  2017        1      1             9            1       19805    1763   \n",
      "449904  2017        1      1            14            6       19805    1763   \n",
      "449908  2017        1      1            19            4       19805    1763   \n",
      "449922  2017        1      1             4            3       19805    1763   \n",
      "449924  2017        1      1             6            5       19805    1763   \n",
      "449925  2017        1      1             7            6       19805    1763   \n",
      "449927  2017        1      1             9            1       19805    1763   \n",
      "449932  2017        1      1            14            6       19805    1763   \n",
      "449933  2017        1      1            15            7       19805    1763   \n",
      "449937  2017        1      1            19            4       19805    1763   \n",
      "449942  2017        1      1            24            2       19805    1763   \n",
      "449943  2017        1      1            25            3       19805    1763   \n",
      "449966  2017        1      1            17            2       19805    1764   \n",
      "449985  2017        1      1             1            7       19805    1765   \n",
      "449986  2017        1      1             7            6       19805    1765   \n",
      "449988  2017        1      1             9            1       19805    1766   \n",
      "449992  2017        1      1            13            5       19805    1766   \n",
      "450012  2017        1      1             2            1       19805    1766   \n",
      "450014  2017        1      1             4            3       19805    1766   \n",
      "450015  2017        1      1             5            4       19805    1766   \n",
      "\n",
      "        ORIGIN_AIRPORT_ID  DEST_AIRPORT_ID  SCHED_DEP_TIME  SCHED_ARR_TIME  \\\n",
      "22                  12889            11298            1235            1718   \n",
      "24                  12889            11298            1235            1718   \n",
      "26                  12889            11298            1235            1718   \n",
      "45                  11278            13303            1015            1313   \n",
      "64                  11278            13303            1015            1313   \n",
      "67                  11057            15016            1300            1356   \n",
      "78                  11057            15016            1300            1356   \n",
      "80                  11057            15016            1300            1356   \n",
      "82                  11057            15016            1300            1356   \n",
      "91                  13495            11057             920            1213   \n",
      "98                  13495            11057             920            1213   \n",
      "109                 15304            13303             730             833   \n",
      "110                 15304            13303             730             833   \n",
      "111                 10693            11057             600             825   \n",
      "139                 11057            13931             916            1019   \n",
      "140                 11057            13931             916            1019   \n",
      "149                 11057            13931             916            1019   \n",
      "151                 11057            13931             916            1019   \n",
      "192                 11057            11298             925            1129   \n",
      "195                 11057            11298             925            1129   \n",
      "198                 11057            11298             925            1129   \n",
      "257                 10721            14100            1500            1641   \n",
      "261                 10721            14100            1500            1641   \n",
      "268                 13204            14100             815            1040   \n",
      "282                 11057            11433            2220               6   \n",
      "293                 14107            11618            2250             527   \n",
      "295                 14107            11618            2250             527   \n",
      "303                 15096            11057            1908            2124   \n",
      "314                 11057            11298            1615            1815   \n",
      "317                 11057            11298            1615            1815   \n",
      "...                   ...              ...             ...             ...   \n",
      "449796              11292            11057             810            1328   \n",
      "449801              11292            11057             810            1323   \n",
      "449821              11278            15304            1800            2035   \n",
      "449828              11278            15304            1800            2035   \n",
      "449830              11278            15304            1801            2033   \n",
      "449842              11278            15304            1759            2034   \n",
      "449843              11278            15304            1801            2033   \n",
      "449844              11278            15304            1801            2033   \n",
      "449869              11057            14492             940            1039   \n",
      "449897              11298            14679             700             811   \n",
      "449899              11298            14679             700             808   \n",
      "449904              11298            14679             700             808   \n",
      "449908              11298            14679             700             808   \n",
      "449922              14679            11298             903            1357   \n",
      "449924              14679            11298             903            1357   \n",
      "449925              14679            11298             903            1357   \n",
      "449927              14679            11298             858            1356   \n",
      "449932              14679            11298             858            1356   \n",
      "449933              14679            11298             847            1345   \n",
      "449937              14679            11298            1200            1653   \n",
      "449942              14679            11298             858            1356   \n",
      "449943              14679            11298             858            1356   \n",
      "449966              11697            11278             815            1044   \n",
      "449985              15024            14100            1330            1637   \n",
      "449986              15024            14100            1330            1639   \n",
      "449988              11278            11298             645             922   \n",
      "449992              11278            11298             645             922   \n",
      "450012              11298            12889            1055            1154   \n",
      "450014              11298            12889            1055            1154   \n",
      "450015              11298            12889            1055            1154   \n",
      "\n",
      "        DELAY  \n",
      "22        1.0  \n",
      "24        1.0  \n",
      "26        1.0  \n",
      "45        1.0  \n",
      "64        1.0  \n",
      "67        1.0  \n",
      "78        1.0  \n",
      "80        1.0  \n",
      "82        1.0  \n",
      "91        1.0  \n",
      "98        1.0  \n",
      "109       1.0  \n",
      "110       1.0  \n",
      "111       1.0  \n",
      "139       1.0  \n",
      "140       1.0  \n",
      "149       1.0  \n",
      "151       1.0  \n",
      "192       1.0  \n",
      "195       1.0  \n",
      "198       1.0  \n",
      "257       1.0  \n",
      "261       1.0  \n",
      "268       1.0  \n",
      "282       1.0  \n",
      "293       1.0  \n",
      "295       1.0  \n",
      "303       1.0  \n",
      "314       1.0  \n",
      "317       1.0  \n",
      "...       ...  \n",
      "449796    1.0  \n",
      "449801    1.0  \n",
      "449821    1.0  \n",
      "449828    1.0  \n",
      "449830    1.0  \n",
      "449842    1.0  \n",
      "449843    1.0  \n",
      "449844    1.0  \n",
      "449869    1.0  \n",
      "449897    1.0  \n",
      "449899    1.0  \n",
      "449904    1.0  \n",
      "449908    1.0  \n",
      "449922    1.0  \n",
      "449924    1.0  \n",
      "449925    1.0  \n",
      "449927    1.0  \n",
      "449932    1.0  \n",
      "449933    1.0  \n",
      "449937    1.0  \n",
      "449942    1.0  \n",
      "449943    1.0  \n",
      "449966    1.0  \n",
      "449985    1.0  \n",
      "449986    1.0  \n",
      "449988    1.0  \n",
      "449992    1.0  \n",
      "450012    1.0  \n",
      "450014    1.0  \n",
      "450015    1.0  \n",
      "\n",
      "[93072 rows x 12 columns]\n"
     ]
    }
   ],
   "source": [
    "#subset the flight that delayed\n",
    "delay_flight=new_data[new_data.DELAY==1]\n",
    "print(delay_flight)"
   ]
  },
  {
   "cell_type": "code",
   "execution_count": 8,
   "metadata": {},
   "outputs": [
    {
     "name": "stdout",
     "output_type": "stream",
     "text": [
      "ORIGIN_AIRPORT_ID\n",
      "10397    6176.0\n",
      "12892    5453.0\n",
      "13930    4202.0\n",
      "11292    4179.0\n",
      "14771    3831.0\n",
      "Name: DELAY, dtype: float64\n"
     ]
    }
   ],
   "source": [
    "#exploring most five airport delay\n",
    "most5_Airport_delay=delay_flight.groupby('ORIGIN_AIRPORT_ID').DELAY.sum().nlargest(5)\n",
    "print(most5_Airport_delay)\n"
   ]
  },
  {
   "cell_type": "code",
   "execution_count": 9,
   "metadata": {},
   "outputs": [
    {
     "name": "stdout",
     "output_type": "stream",
     "text": [
      "        YEAR  QUARTER  MONTH  DAY_OF_MONTH  DAY_OF_WEEK  AIRLINE_ID  FL_NUM  \\\n",
      "2       2017        1      1             1            7       19805    1766   \n",
      "3       2017        1      1             2            1       19805    1766   \n",
      "4       2017        1      1             3            2       19805    1766   \n",
      "5       2017        1      1             4            3       19805    1766   \n",
      "6       2017        1      1             5            4       19805    1766   \n",
      "7       2017        1      1             6            5       19805    1766   \n",
      "8       2017        1      1             7            6       19805    1766   \n",
      "9       2017        1      1             8            7       19805    1766   \n",
      "595     2017        1      1             1            7       19805    1783   \n",
      "596     2017        1      1             2            1       19805    1783   \n",
      "597     2017        1      1             3            2       19805    1783   \n",
      "598     2017        1      1             4            3       19805    1783   \n",
      "599     2017        1      1             5            4       19805    1783   \n",
      "600     2017        1      1             6            5       19805    1783   \n",
      "601     2017        1      1             7            6       19805    1783   \n",
      "602     2017        1      1             8            7       19805    1783   \n",
      "626     2017        1      1             9            1       19805    1783   \n",
      "628     2017        1      1            11            3       19805    1783   \n",
      "629     2017        1      1            12            4       19805    1783   \n",
      "630     2017        1      1            13            5       19805    1783   \n",
      "631     2017        1      1            14            6       19805    1783   \n",
      "632     2017        1      1            15            7       19805    1783   \n",
      "634     2017        1      1            17            2       19805    1783   \n",
      "635     2017        1      1            18            3       19805    1783   \n",
      "636     2017        1      1            19            4       19805    1783   \n",
      "637     2017        1      1            20            5       19805    1783   \n",
      "638     2017        1      1            21            6       19805    1783   \n",
      "639     2017        1      1            22            7       19805    1783   \n",
      "640     2017        1      1            23            1       19805    1783   \n",
      "641     2017        1      1            24            2       19805    1783   \n",
      "...      ...      ...    ...           ...          ...         ...     ...   \n",
      "449697  2017        1      1            28            6       19805    1757   \n",
      "449791  2017        1      1             1            7       19805    1760   \n",
      "449792  2017        1      1             2            1       19805    1760   \n",
      "449793  2017        1      1             3            2       19805    1760   \n",
      "449794  2017        1      1             4            3       19805    1760   \n",
      "449796  2017        1      1             6            5       19805    1760   \n",
      "449797  2017        1      1             8            7       19805    1760   \n",
      "449798  2017        1      1             9            1       19805    1760   \n",
      "449799  2017        1      1            10            2       19805    1760   \n",
      "449800  2017        1      1            11            3       19805    1760   \n",
      "449801  2017        1      1            12            4       19805    1760   \n",
      "449802  2017        1      1            13            5       19805    1760   \n",
      "449803  2017        1      1            14            6       19805    1760   \n",
      "449804  2017        1      1            15            7       19805    1760   \n",
      "449805  2017        1      1            16            1       19805    1760   \n",
      "449806  2017        1      1            17            2       19805    1760   \n",
      "449807  2017        1      1            18            3       19805    1760   \n",
      "449808  2017        1      1            19            4       19805    1760   \n",
      "449809  2017        1      1            20            5       19805    1760   \n",
      "449810  2017        1      1            21            6       19805    1760   \n",
      "449811  2017        1      1            22            7       19805    1760   \n",
      "449812  2017        1      1            23            1       19805    1760   \n",
      "449813  2017        1      1            24            2       19805    1760   \n",
      "449814  2017        1      1            25            3       19805    1760   \n",
      "449815  2017        1      1            26            4       19805    1760   \n",
      "449816  2017        1      1            27            5       19805    1760   \n",
      "449817  2017        1      1            28            6       19805    1760   \n",
      "449818  2017        1      1            29            7       19805    1760   \n",
      "449819  2017        1      1            30            1       19805    1760   \n",
      "449820  2017        1      1            31            2       19805    1760   \n",
      "\n",
      "        ORIGIN_AIRPORT_ID  DEST_AIRPORT_ID  SCHED_DEP_TIME  SCHED_ARR_TIME  \\\n",
      "2                   13930            11298             710             948   \n",
      "3                   13930            11298             710             948   \n",
      "4                   13930            11298             710             948   \n",
      "5                   13930            11298             710             948   \n",
      "6                   13930            11298             710             948   \n",
      "7                   13930            11298             710             948   \n",
      "8                   13930            11298             710             948   \n",
      "9                   13930            11298             710             948   \n",
      "595                 12892            11057            1147            1925   \n",
      "596                 12892            11057            1147            1925   \n",
      "597                 12892            11057            1147            1925   \n",
      "598                 12892            11057            1147            1925   \n",
      "599                 12892            11057            1147            1925   \n",
      "600                 12892            11057            1147            1925   \n",
      "601                 12892            11057            1147            1925   \n",
      "602                 12892            11057            1147            1925   \n",
      "626                 14771            14107             905            1209   \n",
      "628                 14771            14107             905            1209   \n",
      "629                 14771            14107             905            1209   \n",
      "630                 14771            14107             905            1209   \n",
      "631                 14771            14107             905            1209   \n",
      "632                 14771            14107             905            1209   \n",
      "634                 14771            14107             905            1209   \n",
      "635                 14771            14107             905            1209   \n",
      "636                 14771            14107             905            1209   \n",
      "637                 14771            14107             905            1209   \n",
      "638                 14771            14107             905            1209   \n",
      "639                 14771            14107             905            1209   \n",
      "640                 14771            14107             905            1209   \n",
      "641                 14771            14107             905            1209   \n",
      "...                   ...              ...             ...             ...   \n",
      "449697              10397            11057            1229            1345   \n",
      "449791              11292            11057             810            1328   \n",
      "449792              11292            11057             810            1328   \n",
      "449793              11292            11057             810            1328   \n",
      "449794              11292            11057             810            1328   \n",
      "449796              11292            11057             810            1328   \n",
      "449797              11292            11057             810            1328   \n",
      "449798              11292            11057             810            1323   \n",
      "449799              11292            11057             810            1323   \n",
      "449800              11292            11057             810            1323   \n",
      "449801              11292            11057             810            1323   \n",
      "449802              11292            11057             810            1323   \n",
      "449803              11292            11057             810            1323   \n",
      "449804              11292            11057             810            1323   \n",
      "449805              11292            11057             810            1323   \n",
      "449806              11292            11057             810            1323   \n",
      "449807              11292            11057             810            1323   \n",
      "449808              11292            11057             810            1323   \n",
      "449809              11292            11057             810            1323   \n",
      "449810              11292            11057             810            1323   \n",
      "449811              11292            11057             810            1323   \n",
      "449812              11292            11057             810            1323   \n",
      "449813              11292            11057             810            1323   \n",
      "449814              11292            11057             810            1323   \n",
      "449815              11292            11057             810            1323   \n",
      "449816              11292            11057             810            1323   \n",
      "449817              11292            11057             810            1323   \n",
      "449818              11292            11057             810            1323   \n",
      "449819              11292            11057             810            1323   \n",
      "449820              11292            11057             810            1323   \n",
      "\n",
      "        DELAY  \n",
      "2         0.0  \n",
      "3         0.0  \n",
      "4         0.0  \n",
      "5         0.0  \n",
      "6         0.0  \n",
      "7         0.0  \n",
      "8         0.0  \n",
      "9         0.0  \n",
      "595       0.0  \n",
      "596       1.0  \n",
      "597       0.0  \n",
      "598       1.0  \n",
      "599       1.0  \n",
      "600       1.0  \n",
      "601       0.0  \n",
      "602       0.0  \n",
      "626       1.0  \n",
      "628       1.0  \n",
      "629       0.0  \n",
      "630       0.0  \n",
      "631       0.0  \n",
      "632       0.0  \n",
      "634       0.0  \n",
      "635       0.0  \n",
      "636       0.0  \n",
      "637       1.0  \n",
      "638       0.0  \n",
      "639       0.0  \n",
      "640       0.0  \n",
      "641       0.0  \n",
      "...       ...  \n",
      "449697    0.0  \n",
      "449791    0.0  \n",
      "449792    1.0  \n",
      "449793    0.0  \n",
      "449794    0.0  \n",
      "449796    1.0  \n",
      "449797    0.0  \n",
      "449798    0.0  \n",
      "449799    0.0  \n",
      "449800    0.0  \n",
      "449801    1.0  \n",
      "449802    0.0  \n",
      "449803    0.0  \n",
      "449804    0.0  \n",
      "449805    0.0  \n",
      "449806    0.0  \n",
      "449807    0.0  \n",
      "449808    0.0  \n",
      "449809    0.0  \n",
      "449810    0.0  \n",
      "449811    0.0  \n",
      "449812    0.0  \n",
      "449813    0.0  \n",
      "449814    0.0  \n",
      "449815    0.0  \n",
      "449816    0.0  \n",
      "449817    0.0  \n",
      "449818    0.0  \n",
      "449819    0.0  \n",
      "449820    0.0  \n",
      "\n",
      "[94627 rows x 12 columns]\n"
     ]
    }
   ],
   "source": [
    "#cleaning data keeping only most five airport delay \n",
    "data_5most_airport=new_data.loc[new_data['ORIGIN_AIRPORT_ID'].isin(['10397', '12892', '13930','11292','14771'])] \n",
    "print(data_5most_airport)"
   ]
  },
  {
   "cell_type": "code",
   "execution_count": 10,
   "metadata": {},
   "outputs": [],
   "source": [
    "data=data_5most_airport"
   ]
  },
  {
   "cell_type": "code",
   "execution_count": 11,
   "metadata": {},
   "outputs": [
    {
     "name": "stdout",
     "output_type": "stream",
     "text": [
      "The number of rows in the new data set is 94627.\n"
     ]
    }
   ],
   "source": [
    "print(\"The number of rows in the new data set is {}.\".format(len(data)))"
   ]
  },
  {
   "cell_type": "code",
   "execution_count": 12,
   "metadata": {},
   "outputs": [],
   "source": [
    "# Setting the train set,test set, and validation set\n",
    "x= new_data.iloc[:,0:11]\n",
    "y= new_data['DELAY']\n",
    "\n",
    "x_train,x_test,y_train,y_test = train_test_split(x,y,test_size=.2, random_state = 1)\n",
    "x_train,x_val,y_train,y_val = train_test_split(x_train,y_train,test_size=.25, random_state = 1)"
   ]
  },
  {
   "cell_type": "code",
   "execution_count": 24,
   "metadata": {
    "collapsed": true
   },
   "outputs": [],
   "source": [
    "# Setting the train set,test set, and validation set\n",
    "x= new_data.iloc[:,0:11]\n",
    "y= new_data['DELAY']\n",
    "\n",
    ",x_test,y_train,y_test = train_test_split(x,y,test_size=.2, random_state = 1)\n",
    "x_train,x_val,y_train,y_val = train_test_split(x_train,y_train,test_size=.25, random_state = 1)"
   ]
  },
  {
   "cell_type": "code",
   "execution_count": 13,
   "metadata": {},
   "outputs": [
    {
     "data": {
      "text/plain": [
       "(264885, 11)"
      ]
     },
     "execution_count": 13,
     "metadata": {},
     "output_type": "execute_result"
    }
   ],
   "source": [
    "x_train.shape"
   ]
  },
  {
   "cell_type": "code",
   "execution_count": 14,
   "metadata": {},
   "outputs": [
    {
     "data": {
      "text/plain": [
       "(88296, 11)"
      ]
     },
     "execution_count": 14,
     "metadata": {},
     "output_type": "execute_result"
    }
   ],
   "source": [
    "x_test.shape"
   ]
  },
  {
   "cell_type": "code",
   "execution_count": 15,
   "metadata": {},
   "outputs": [
    {
     "data": {
      "text/plain": [
       "(88295, 11)"
      ]
     },
     "execution_count": 15,
     "metadata": {},
     "output_type": "execute_result"
    }
   ],
   "source": [
    "x_val.shape"
   ]
  },
  {
   "cell_type": "code",
   "execution_count": 40,
   "metadata": {},
   "outputs": [],
   "source": [
    "from sklearn.linear_model import LogisticRegression as lg\n",
    "\n",
    "from sklearn.metrics import classification_report\n",
    "model=lg()\n",
    "model.fit(x_train,y_train)\n",
    "y_pred=model.predict(x_test)\n",
    "acc=metrics.accuracy_score(y_test,y_pred)"
   ]
  },
  {
   "cell_type": "code",
   "execution_count": 23,
   "metadata": {},
   "outputs": [
    {
     "name": "stdout",
     "output_type": "stream",
     "text": [
      "0.7890957687777476\n",
      "True:  [0. 0. 0. 1. 0. 0. 0. 0. 0. 0. 0. 0. 0. 0. 1. 0. 1. 0. 1. 0. 0. 0. 1. 0.\n",
      " 0.]\n",
      "Pred:  [0. 0. 0. 0. 0. 0. 0. 0. 0. 0. 0. 0. 0. 0. 0. 0. 0. 0. 0. 0. 0. 0. 0. 0.\n",
      " 0.]\n"
     ]
    }
   ],
   "source": [
    "null_acc=max(y_test.mean(),1-y_test.mean())\n",
    "print(null_acc)\n",
    "print(\"True: \",y_test.values[0:25])\n",
    "print(\"Pred: \",y_pred[0:25])\n"
   ]
  },
  {
   "cell_type": "code",
   "execution_count": 44,
   "metadata": {},
   "outputs": [
    {
     "data": {
      "text/plain": [
       "array([[69541, 18560],\n",
       "       [  133,    62]])"
      ]
     },
     "execution_count": 44,
     "metadata": {},
     "output_type": "execute_result"
    }
   ],
   "source": [
    "confusion_matrix=metrics.confusion_matrix(y_pred,y_test)\n",
    "confusion_matrix"
   ]
  },
  {
   "cell_type": "code",
   "execution_count": 45,
   "metadata": {},
   "outputs": [
    {
     "name": "stdout",
     "output_type": "stream",
     "text": [
      "TP:  62 TN:  69541 FP:  18560 FN:  133\n"
     ]
    }
   ],
   "source": [
    "TP=confusion_matrix[1,1]\n",
    "TN=confusion_matrix[0,0]\n",
    "FP=confusion_matrix[0,1]\n",
    "FN=confusion_matrix[1,0]\n",
    "print(\"TP: \",TP ,\"TN: \",TN ,\"FP: \",FP ,\"FN: \",FN)"
   ]
  },
  {
   "cell_type": "code",
   "execution_count": 46,
   "metadata": {},
   "outputs": [
    {
     "name": "stdout",
     "output_type": "stream",
     "text": [
      "TP:  62 TN:  69541 FP:  18560 FN:  133\n",
      "Accuracy:  78.82916553411253 vs 78.82916553411253\n",
      "Miss-classification Rate:  21.17083446588747\n",
      "TPR:  31.794871794871792\n",
      "TNR:  78.93326976992316\n",
      "FPR:  21.066730230076843\n",
      "FNR:  68.2051282051282\n",
      "Precision:  0.0033293953388465257\n",
      "             precision    recall  f1-score   support\n",
      "\n",
      "    class 0       0.79      1.00      0.88     69674\n",
      "    Class 1       0.32      0.00      0.01     18622\n",
      "\n",
      "avg / total       0.69      0.79      0.70     88296\n",
      "\n"
     ]
    }
   ],
   "source": [
    "Accuracy=(TP+TN)/float(TP+TN+FP+FN)\n",
    "Miss_classification_rate=(FP+FN)/float(TP+TN+FP+FN)\n",
    "TPR=TP/float(TP+FN)\n",
    "TNR=TN/float(TN+FP)\n",
    "FPR=FP/float(TN+FP)\n",
    "FNR=FN/float(TP+FN)\n",
    "Precision=TP/float(TP+FP)\n",
    "print(\"TP: \",TP ,\"TN: \",TN ,\"FP: \",FP ,\"FN: \",FN)\n",
    "print(\"Accuracy: \", Accuracy*100,\"vs\",acc*100)\n",
    "print(\"Miss-classification Rate: \", Miss_classification_rate*100)\n",
    "print(\"TPR: \",TPR*100)\n",
    "print(\"TNR: \",TNR*100)\n",
    "print(\"FPR: \",FPR*100)\n",
    "print(\"FNR: \",FNR*100)\n",
    "print(\"Precision: \", Precision)\n",
    "\n",
    "print(classification_report(y_test, y_pred, target_names=['class 0', 'Class 1'] ))"
   ]
  },
  {
   "cell_type": "code",
   "execution_count": 42,
   "metadata": {},
   "outputs": [],
   "source": [
    "import pandas as pd\n",
    "import numpy as np\n",
    "from sklearn import preprocessing\n",
    "import matplotlib.pyplot as plt \n",
    "plt.rc(\"font\", size=14)\n",
    "from sklearn.linear_model import LogisticRegression\n",
    "from sklearn.cross_validation import train_test_split\n",
    "import seaborn as sns\n",
    "sns.set(style=\"white\")\n",
    "sns.set(style=\"whitegrid\", color_codes=True)"
   ]
  },
  {
   "cell_type": "code",
   "execution_count": 31,
   "metadata": {},
   "outputs": [
    {
     "name": "stdout",
     "output_type": "stream",
     "text": [
      "(94627, 12)\n",
      "['YEAR', 'QUARTER', 'MONTH', 'DAY_OF_MONTH', 'DAY_OF_WEEK', 'AIRLINE_ID', 'FL_NUM', 'ORIGIN_AIRPORT_ID', 'DEST_AIRPORT_ID', 'SCHED_DEP_TIME', 'SCHED_ARR_TIME', 'DELAY']\n"
     ]
    }
   ],
   "source": [
    "\n",
    "print(data.shape)\n",
    "print(list(data.columns))"
   ]
  },
  {
   "cell_type": "code",
   "execution_count": 34,
   "metadata": {},
   "outputs": [
    {
     "data": {
      "image/png": "[encoded data removed]",
      "text/plain": [
       "<matplotlib.figure.Figure at 0x1a16552a20>"
      ]
     },
     "metadata": {},
     "output_type": "display_data"
    }
   ],
   "source": [
    "sns.countplot(y=\"ORIGIN_AIRPORT_ID\", data=data)\n",
    "plt.show()"
   ]
  },
  {
   "cell_type": "code",
   "execution_count": null,
   "metadata": {},
   "outputs": [],
   "source": []
  }
 ],
 "metadata": {
  "kernelspec": {
   "display_name": "Python 3",
   "language": "python",
   "name": "python3"
  },
  "language_info": {
   "codemirror_mode": {
    "name": "ipython",
    "version": 3
   },
   "file_extension": ".py",
   "mimetype": "text/x-python",
   "name": "python",
   "nbconvert_exporter": "python",
   "pygments_lexer": "ipython3",
   "version": "3.6.4"
  }
 },
 "nbformat": 4,
 "nbformat_minor": 2
}
