{
 "cells": [
  {
   "cell_type": "markdown",
   "metadata": {},
   "source": [
    "# Flight Delay Prediction "
   ]
  },
  {
   "cell_type": "code",
   "execution_count": 8,
   "metadata": {
    "scrolled": true
   },
   "outputs": [
    {
     "name": "stdout",
     "output_type": "stream",
     "text": [
      "The number of rows in the data set is 23988.\n",
      "The number of features is 12.\n"
     ]
    },
    {
     "data": {
      "text/html": [
       "<div>\n",
       "<style>\n",
       "    .dataframe thead tr:only-child th {\n",
       "        text-align: right;\n",
       "    }\n",
       "\n",
       "    .dataframe thead th {\n",
       "        text-align: left;\n",
       "    }\n",
       "\n",
       "    .dataframe tbody tr th {\n",
       "        vertical-align: top;\n",
       "    }\n",
       "</style>\n",
       "<table border=\"1\" class=\"dataframe\">\n",
       "  <thead>\n",
       "    <tr style=\"text-align: right;\">\n",
       "      <th></th>\n",
       "      <th>YEAR</th>\n",
       "      <th>QUARTER</th>\n",
       "      <th>MONTH</th>\n",
       "      <th>DAY_OF_MONTH</th>\n",
       "      <th>DAY_OF_WEEK</th>\n",
       "      <th>AIRLINE_ID</th>\n",
       "      <th>FL_NUM</th>\n",
       "      <th>ORIGIN_AIRPORT_ID</th>\n",
       "      <th>DEST_AIRPORT_ID</th>\n",
       "      <th>SCHED_DEP_TIME</th>\n",
       "      <th>SCHED_ARR_TIME</th>\n",
       "      <th>DELAY</th>\n",
       "    </tr>\n",
       "  </thead>\n",
       "  <tbody>\n",
       "    <tr>\n",
       "      <th>0</th>\n",
       "      <td>2017</td>\n",
       "      <td>1</td>\n",
       "      <td>1</td>\n",
       "      <td>7</td>\n",
       "      <td>6</td>\n",
       "      <td>19805</td>\n",
       "      <td>1766</td>\n",
       "      <td>11298</td>\n",
       "      <td>12889</td>\n",
       "      <td>1055</td>\n",
       "      <td>1154</td>\n",
       "      <td>0.0</td>\n",
       "    </tr>\n",
       "    <tr>\n",
       "      <th>1</th>\n",
       "      <td>2017</td>\n",
       "      <td>1</td>\n",
       "      <td>1</td>\n",
       "      <td>8</td>\n",
       "      <td>7</td>\n",
       "      <td>19805</td>\n",
       "      <td>1766</td>\n",
       "      <td>11298</td>\n",
       "      <td>12889</td>\n",
       "      <td>1055</td>\n",
       "      <td>1154</td>\n",
       "      <td>0.0</td>\n",
       "    </tr>\n",
       "    <tr>\n",
       "      <th>2</th>\n",
       "      <td>2017</td>\n",
       "      <td>1</td>\n",
       "      <td>1</td>\n",
       "      <td>1</td>\n",
       "      <td>7</td>\n",
       "      <td>19805</td>\n",
       "      <td>1766</td>\n",
       "      <td>13930</td>\n",
       "      <td>11298</td>\n",
       "      <td>710</td>\n",
       "      <td>948</td>\n",
       "      <td>0.0</td>\n",
       "    </tr>\n",
       "    <tr>\n",
       "      <th>3</th>\n",
       "      <td>2017</td>\n",
       "      <td>1</td>\n",
       "      <td>1</td>\n",
       "      <td>2</td>\n",
       "      <td>1</td>\n",
       "      <td>19805</td>\n",
       "      <td>1766</td>\n",
       "      <td>13930</td>\n",
       "      <td>11298</td>\n",
       "      <td>710</td>\n",
       "      <td>948</td>\n",
       "      <td>0.0</td>\n",
       "    </tr>\n",
       "    <tr>\n",
       "      <th>4</th>\n",
       "      <td>2017</td>\n",
       "      <td>1</td>\n",
       "      <td>1</td>\n",
       "      <td>3</td>\n",
       "      <td>2</td>\n",
       "      <td>19805</td>\n",
       "      <td>1766</td>\n",
       "      <td>13930</td>\n",
       "      <td>11298</td>\n",
       "      <td>710</td>\n",
       "      <td>948</td>\n",
       "      <td>0.0</td>\n",
       "    </tr>\n",
       "  </tbody>\n",
       "</table>\n",
       "</div>"
      ],
      "text/plain": [
       "   YEAR  QUARTER  MONTH  DAY_OF_MONTH  DAY_OF_WEEK  AIRLINE_ID  FL_NUM  \\\n",
       "0  2017        1      1             7            6       19805    1766   \n",
       "1  2017        1      1             8            7       19805    1766   \n",
       "2  2017        1      1             1            7       19805    1766   \n",
       "3  2017        1      1             2            1       19805    1766   \n",
       "4  2017        1      1             3            2       19805    1766   \n",
       "\n",
       "   ORIGIN_AIRPORT_ID  DEST_AIRPORT_ID  SCHED_DEP_TIME  SCHED_ARR_TIME  DELAY  \n",
       "0              11298            12889            1055            1154    0.0  \n",
       "1              11298            12889            1055            1154    0.0  \n",
       "2              13930            11298             710             948    0.0  \n",
       "3              13930            11298             710             948    0.0  \n",
       "4              13930            11298             710             948    0.0  "
      ]
     },
     "execution_count": 8,
     "metadata": {},
     "output_type": "execute_result"
    }
   ],
   "source": [
    "from sys import stdin\n",
    "import numpy as np # linear algebra\n",
    "import pandas as pd\n",
    "from sklearn.linear_model import LinearRegression\n",
    "import matplotlib.pyplot as plt\n",
    "from sklearn.cross_validation import train_test_split\n",
    "from sklearn import metrics\n",
    "from numpy import exp,array,random,dot\n",
    "from sklearn.metrics import confusion_matrix\n",
    "from sklearn.metrics import classification_report\n",
    "from sklearn.metrics import accuracy_score\n",
    "\n",
    "# Load the data\n",
    "data = pd.read_csv(\"FlightDelay1.csv\")\n",
    "\n",
    "print(\"The number of rows in the data set is {}.\".format(len(data)))\n",
    "print(\"The number of features is {}.\".format(len(data.columns)))\n",
    "\n",
    "data.head()"
   ]
  },
  {
   "cell_type": "markdown",
   "metadata": {},
   "source": [
    "Data Preprocessing:"
   ]
  },
  {
   "cell_type": "code",
   "execution_count": 9,
   "metadata": {},
   "outputs": [
    {
     "data": {
      "text/plain": [
       "YEAR                   0\n",
       "QUARTER                0\n",
       "MONTH                  0\n",
       "DAY_OF_MONTH           0\n",
       "DAY_OF_WEEK            0\n",
       "AIRLINE_ID             0\n",
       "FL_NUM                 0\n",
       "ORIGIN_AIRPORT_ID      0\n",
       "DEST_AIRPORT_ID        0\n",
       "SCHED_DEP_TIME         0\n",
       "SCHED_ARR_TIME         0\n",
       "DELAY                462\n",
       "dtype: int64"
      ]
     },
     "execution_count": 9,
     "metadata": {},
     "output_type": "execute_result"
    }
   ],
   "source": [
    "# Finding Null Values\n",
    "data.isnull().sum()"
   ]
  },
  {
   "cell_type": "code",
   "execution_count": 10,
   "metadata": {},
   "outputs": [
    {
     "data": {
      "text/plain": [
       "YEAR                 0\n",
       "QUARTER              0\n",
       "MONTH                0\n",
       "DAY_OF_MONTH         0\n",
       "DAY_OF_WEEK          0\n",
       "AIRLINE_ID           0\n",
       "FL_NUM               0\n",
       "ORIGIN_AIRPORT_ID    0\n",
       "DEST_AIRPORT_ID      0\n",
       "SCHED_DEP_TIME       0\n",
       "SCHED_ARR_TIME       0\n",
       "DELAY                0\n",
       "dtype: int64"
      ]
     },
     "execution_count": 10,
     "metadata": {},
     "output_type": "execute_result"
    }
   ],
   "source": [
    "new_data = data.dropna(axis=0)#Delete the rows containing missing data\n",
    "new_data.isnull().sum() #Check to make sure there are no more NaNs"
   ]
  },
  {
   "cell_type": "code",
   "execution_count": 11,
   "metadata": {},
   "outputs": [
    {
     "name": "stdout",
     "output_type": "stream",
     "text": [
      "The number of rows in the new data set is 23526.\n"
     ]
    }
   ],
   "source": [
    "print(\"The number of rows in the new data set is {}.\".format(len(new_data)))"
   ]
  },
  {
   "cell_type": "code",
   "execution_count": 12,
   "metadata": {
    "collapsed": true
   },
   "outputs": [],
   "source": [
    "#subset the flight that delayed\n",
    "delay_flight=new_data[new_data.DELAY==1]\n",
    "#print(delay_flight)"
   ]
  },
  {
   "cell_type": "code",
   "execution_count": 13,
   "metadata": {},
   "outputs": [
    {
     "name": "stdout",
     "output_type": "stream",
     "text": [
      "ORIGIN_AIRPORT_ID\n",
      "12892    395.0\n",
      "14771    328.0\n",
      "11298    327.0\n",
      "11292    293.0\n",
      "10397    278.0\n",
      "Name: DELAY, dtype: float64\n"
     ]
    }
   ],
   "source": [
    "#exploring most five origin airport delay \n",
    "Top5origin_Airport_delay=delay_flight.groupby('ORIGIN_AIRPORT_ID').DELAY.sum().nlargest(5)\n",
    "print(Top5origin_Airport_delay)"
   ]
  },
  {
   "cell_type": "code",
   "execution_count": 22,
   "metadata": {},
   "outputs": [
    {
     "name": "stdout",
     "output_type": "stream",
     "text": [
      "DEST_AIRPORT_ID\n",
      "14771    339.0\n",
      "12892    263.0\n",
      "10397    240.0\n",
      "13930    239.0\n",
      "11298    195.0\n",
      "Name: DELAY, dtype: float64\n"
     ]
    }
   ],
   "source": [
    "#exploring most five destenation airport delay \n",
    "Top5dest_Airport_delay=delay_flight.groupby('DEST_AIRPORT_ID').DELAY.sum().nlargest(5)\n",
    "print(Top5dest_Airport_delay)"
   ]
  },
  {
   "cell_type": "code",
   "execution_count": 17,
   "metadata": {},
   "outputs": [
    {
     "data": {
      "text/html": [
       "<div>\n",
       "<style>\n",
       "    .dataframe thead tr:only-child th {\n",
       "        text-align: right;\n",
       "    }\n",
       "\n",
       "    .dataframe thead th {\n",
       "        text-align: left;\n",
       "    }\n",
       "\n",
       "    .dataframe tbody tr th {\n",
       "        vertical-align: top;\n",
       "    }\n",
       "</style>\n",
       "<table border=\"1\" class=\"dataframe\">\n",
       "  <thead>\n",
       "    <tr style=\"text-align: right;\">\n",
       "      <th></th>\n",
       "      <th>YEAR</th>\n",
       "      <th>QUARTER</th>\n",
       "      <th>MONTH</th>\n",
       "      <th>DAY_OF_MONTH</th>\n",
       "      <th>DAY_OF_WEEK</th>\n",
       "      <th>AIRLINE_ID</th>\n",
       "      <th>FL_NUM</th>\n",
       "      <th>ORIGIN_AIRPORT_ID</th>\n",
       "      <th>DEST_AIRPORT_ID</th>\n",
       "      <th>SCHED_DEP_TIME</th>\n",
       "      <th>SCHED_ARR_TIME</th>\n",
       "      <th>DELAY</th>\n",
       "    </tr>\n",
       "  </thead>\n",
       "  <tbody>\n",
       "    <tr>\n",
       "      <th>2</th>\n",
       "      <td>2017</td>\n",
       "      <td>1</td>\n",
       "      <td>1</td>\n",
       "      <td>1</td>\n",
       "      <td>7</td>\n",
       "      <td>19805</td>\n",
       "      <td>1766</td>\n",
       "      <td>13930</td>\n",
       "      <td>11298</td>\n",
       "      <td>710</td>\n",
       "      <td>948</td>\n",
       "      <td>0.0</td>\n",
       "    </tr>\n",
       "    <tr>\n",
       "      <th>3</th>\n",
       "      <td>2017</td>\n",
       "      <td>1</td>\n",
       "      <td>1</td>\n",
       "      <td>2</td>\n",
       "      <td>1</td>\n",
       "      <td>19805</td>\n",
       "      <td>1766</td>\n",
       "      <td>13930</td>\n",
       "      <td>11298</td>\n",
       "      <td>710</td>\n",
       "      <td>948</td>\n",
       "      <td>0.0</td>\n",
       "    </tr>\n",
       "    <tr>\n",
       "      <th>4</th>\n",
       "      <td>2017</td>\n",
       "      <td>1</td>\n",
       "      <td>1</td>\n",
       "      <td>3</td>\n",
       "      <td>2</td>\n",
       "      <td>19805</td>\n",
       "      <td>1766</td>\n",
       "      <td>13930</td>\n",
       "      <td>11298</td>\n",
       "      <td>710</td>\n",
       "      <td>948</td>\n",
       "      <td>0.0</td>\n",
       "    </tr>\n",
       "    <tr>\n",
       "      <th>5</th>\n",
       "      <td>2017</td>\n",
       "      <td>1</td>\n",
       "      <td>1</td>\n",
       "      <td>4</td>\n",
       "      <td>3</td>\n",
       "      <td>19805</td>\n",
       "      <td>1766</td>\n",
       "      <td>13930</td>\n",
       "      <td>11298</td>\n",
       "      <td>710</td>\n",
       "      <td>948</td>\n",
       "      <td>0.0</td>\n",
       "    </tr>\n",
       "    <tr>\n",
       "      <th>6</th>\n",
       "      <td>2017</td>\n",
       "      <td>1</td>\n",
       "      <td>1</td>\n",
       "      <td>5</td>\n",
       "      <td>4</td>\n",
       "      <td>19805</td>\n",
       "      <td>1766</td>\n",
       "      <td>13930</td>\n",
       "      <td>11298</td>\n",
       "      <td>710</td>\n",
       "      <td>948</td>\n",
       "      <td>0.0</td>\n",
       "    </tr>\n",
       "  </tbody>\n",
       "</table>\n",
       "</div>"
      ],
      "text/plain": [
       "   YEAR  QUARTER  MONTH  DAY_OF_MONTH  DAY_OF_WEEK  AIRLINE_ID  FL_NUM  \\\n",
       "2  2017        1      1             1            7       19805    1766   \n",
       "3  2017        1      1             2            1       19805    1766   \n",
       "4  2017        1      1             3            2       19805    1766   \n",
       "5  2017        1      1             4            3       19805    1766   \n",
       "6  2017        1      1             5            4       19805    1766   \n",
       "\n",
       "   ORIGIN_AIRPORT_ID  DEST_AIRPORT_ID  SCHED_DEP_TIME  SCHED_ARR_TIME  DELAY  \n",
       "2              13930            11298             710             948    0.0  \n",
       "3              13930            11298             710             948    0.0  \n",
       "4              13930            11298             710             948    0.0  \n",
       "5              13930            11298             710             948    0.0  \n",
       "6              13930            11298             710             948    0.0  "
      ]
     },
     "execution_count": 17,
     "metadata": {},
     "output_type": "execute_result"
    }
   ],
   "source": [
    "#cleaning data keeping the Top five origin airport delay \n",
    "Top5Origin_airport=new_data.loc[new_data['ORIGIN_AIRPORT_ID'].isin(['10397', '12892', '13930','11292','14771'])] \n",
    "Top5Origin_airport.head()"
   ]
  },
  {
   "cell_type": "code",
   "execution_count": 23,
   "metadata": {},
   "outputs": [
    {
     "data": {
      "text/html": [
       "<div>\n",
       "<style>\n",
       "    .dataframe thead tr:only-child th {\n",
       "        text-align: right;\n",
       "    }\n",
       "\n",
       "    .dataframe thead th {\n",
       "        text-align: left;\n",
       "    }\n",
       "\n",
       "    .dataframe tbody tr th {\n",
       "        vertical-align: top;\n",
       "    }\n",
       "</style>\n",
       "<table border=\"1\" class=\"dataframe\">\n",
       "  <thead>\n",
       "    <tr style=\"text-align: right;\">\n",
       "      <th></th>\n",
       "      <th>YEAR</th>\n",
       "      <th>QUARTER</th>\n",
       "      <th>MONTH</th>\n",
       "      <th>DAY_OF_MONTH</th>\n",
       "      <th>DAY_OF_WEEK</th>\n",
       "      <th>AIRLINE_ID</th>\n",
       "      <th>FL_NUM</th>\n",
       "      <th>ORIGIN_AIRPORT_ID</th>\n",
       "      <th>DEST_AIRPORT_ID</th>\n",
       "      <th>SCHED_DEP_TIME</th>\n",
       "      <th>SCHED_ARR_TIME</th>\n",
       "      <th>DELAY</th>\n",
       "    </tr>\n",
       "  </thead>\n",
       "  <tbody>\n",
       "    <tr>\n",
       "      <th>1640</th>\n",
       "      <td>2017</td>\n",
       "      <td>1</td>\n",
       "      <td>1</td>\n",
       "      <td>22</td>\n",
       "      <td>7</td>\n",
       "      <td>19393</td>\n",
       "      <td>3534</td>\n",
       "      <td>11292</td>\n",
       "      <td>10397</td>\n",
       "      <td>2005</td>\n",
       "      <td>50</td>\n",
       "      <td>0.0</td>\n",
       "    </tr>\n",
       "    <tr>\n",
       "      <th>1641</th>\n",
       "      <td>2017</td>\n",
       "      <td>1</td>\n",
       "      <td>1</td>\n",
       "      <td>22</td>\n",
       "      <td>7</td>\n",
       "      <td>19393</td>\n",
       "      <td>3750</td>\n",
       "      <td>11292</td>\n",
       "      <td>10397</td>\n",
       "      <td>1700</td>\n",
       "      <td>2150</td>\n",
       "      <td>0.0</td>\n",
       "    </tr>\n",
       "    <tr>\n",
       "      <th>1642</th>\n",
       "      <td>2017</td>\n",
       "      <td>1</td>\n",
       "      <td>1</td>\n",
       "      <td>22</td>\n",
       "      <td>7</td>\n",
       "      <td>19393</td>\n",
       "      <td>4493</td>\n",
       "      <td>11292</td>\n",
       "      <td>10397</td>\n",
       "      <td>1235</td>\n",
       "      <td>1720</td>\n",
       "      <td>1.0</td>\n",
       "    </tr>\n",
       "    <tr>\n",
       "      <th>1697</th>\n",
       "      <td>2017</td>\n",
       "      <td>1</td>\n",
       "      <td>1</td>\n",
       "      <td>22</td>\n",
       "      <td>7</td>\n",
       "      <td>19393</td>\n",
       "      <td>2894</td>\n",
       "      <td>11292</td>\n",
       "      <td>12892</td>\n",
       "      <td>1555</td>\n",
       "      <td>1720</td>\n",
       "      <td>1.0</td>\n",
       "    </tr>\n",
       "    <tr>\n",
       "      <th>1698</th>\n",
       "      <td>2017</td>\n",
       "      <td>1</td>\n",
       "      <td>1</td>\n",
       "      <td>22</td>\n",
       "      <td>7</td>\n",
       "      <td>19393</td>\n",
       "      <td>2912</td>\n",
       "      <td>11292</td>\n",
       "      <td>12892</td>\n",
       "      <td>825</td>\n",
       "      <td>955</td>\n",
       "      <td>0.0</td>\n",
       "    </tr>\n",
       "  </tbody>\n",
       "</table>\n",
       "</div>"
      ],
      "text/plain": [
       "      YEAR  QUARTER  MONTH  DAY_OF_MONTH  DAY_OF_WEEK  AIRLINE_ID  FL_NUM  \\\n",
       "1640  2017        1      1            22            7       19393    3534   \n",
       "1641  2017        1      1            22            7       19393    3750   \n",
       "1642  2017        1      1            22            7       19393    4493   \n",
       "1697  2017        1      1            22            7       19393    2894   \n",
       "1698  2017        1      1            22            7       19393    2912   \n",
       "\n",
       "      ORIGIN_AIRPORT_ID  DEST_AIRPORT_ID  SCHED_DEP_TIME  SCHED_ARR_TIME  \\\n",
       "1640              11292            10397            2005              50   \n",
       "1641              11292            10397            1700            2150   \n",
       "1642              11292            10397            1235            1720   \n",
       "1697              11292            12892            1555            1720   \n",
       "1698              11292            12892             825             955   \n",
       "\n",
       "      DELAY  \n",
       "1640    0.0  \n",
       "1641    0.0  \n",
       "1642    1.0  \n",
       "1697    1.0  \n",
       "1698    0.0  "
      ]
     },
     "execution_count": 23,
     "metadata": {},
     "output_type": "execute_result"
    }
   ],
   "source": [
    "#cleaning data keeping the Top five dest airport delay \n",
    "clean_data=Top5Origin_airport.loc[new_data['DEST_AIRPORT_ID'].isin(['10397', '12892', '13930','11292','14771'])] \n",
    "clean_data.head()"
   ]
  },
  {
   "cell_type": "code",
   "execution_count": 24,
   "metadata": {},
   "outputs": [
    {
     "data": {
      "text/html": [
       "<div>\n",
       "<style>\n",
       "    .dataframe thead tr:only-child th {\n",
       "        text-align: right;\n",
       "    }\n",
       "\n",
       "    .dataframe thead th {\n",
       "        text-align: left;\n",
       "    }\n",
       "\n",
       "    .dataframe tbody tr th {\n",
       "        vertical-align: top;\n",
       "    }\n",
       "</style>\n",
       "<table border=\"1\" class=\"dataframe\">\n",
       "  <thead>\n",
       "    <tr style=\"text-align: right;\">\n",
       "      <th></th>\n",
       "      <th>YEAR</th>\n",
       "      <th>QUARTER</th>\n",
       "      <th>MONTH</th>\n",
       "      <th>DAY_OF_MONTH</th>\n",
       "      <th>DAY_OF_WEEK</th>\n",
       "      <th>FL_NUM</th>\n",
       "      <th>SCHED_DEP_TIME</th>\n",
       "      <th>SCHED_ARR_TIME</th>\n",
       "      <th>DELAY</th>\n",
       "      <th>AIRLINE_ID_19790</th>\n",
       "      <th>...</th>\n",
       "      <th>AIRLINE_ID_20304</th>\n",
       "      <th>AIRLINE_ID_21171</th>\n",
       "      <th>ORIGIN_AIRPORT_ID_11292</th>\n",
       "      <th>ORIGIN_AIRPORT_ID_12892</th>\n",
       "      <th>ORIGIN_AIRPORT_ID_13930</th>\n",
       "      <th>ORIGIN_AIRPORT_ID_14771</th>\n",
       "      <th>DEST_AIRPORT_ID_11292</th>\n",
       "      <th>DEST_AIRPORT_ID_12892</th>\n",
       "      <th>DEST_AIRPORT_ID_13930</th>\n",
       "      <th>DEST_AIRPORT_ID_14771</th>\n",
       "    </tr>\n",
       "  </thead>\n",
       "  <tbody>\n",
       "    <tr>\n",
       "      <th>1640</th>\n",
       "      <td>2017</td>\n",
       "      <td>1</td>\n",
       "      <td>1</td>\n",
       "      <td>22</td>\n",
       "      <td>7</td>\n",
       "      <td>3534</td>\n",
       "      <td>2005</td>\n",
       "      <td>50</td>\n",
       "      <td>0.0</td>\n",
       "      <td>0</td>\n",
       "      <td>...</td>\n",
       "      <td>0</td>\n",
       "      <td>0</td>\n",
       "      <td>1</td>\n",
       "      <td>0</td>\n",
       "      <td>0</td>\n",
       "      <td>0</td>\n",
       "      <td>0</td>\n",
       "      <td>0</td>\n",
       "      <td>0</td>\n",
       "      <td>0</td>\n",
       "    </tr>\n",
       "    <tr>\n",
       "      <th>1641</th>\n",
       "      <td>2017</td>\n",
       "      <td>1</td>\n",
       "      <td>1</td>\n",
       "      <td>22</td>\n",
       "      <td>7</td>\n",
       "      <td>3750</td>\n",
       "      <td>1700</td>\n",
       "      <td>2150</td>\n",
       "      <td>0.0</td>\n",
       "      <td>0</td>\n",
       "      <td>...</td>\n",
       "      <td>0</td>\n",
       "      <td>0</td>\n",
       "      <td>1</td>\n",
       "      <td>0</td>\n",
       "      <td>0</td>\n",
       "      <td>0</td>\n",
       "      <td>0</td>\n",
       "      <td>0</td>\n",
       "      <td>0</td>\n",
       "      <td>0</td>\n",
       "    </tr>\n",
       "    <tr>\n",
       "      <th>1642</th>\n",
       "      <td>2017</td>\n",
       "      <td>1</td>\n",
       "      <td>1</td>\n",
       "      <td>22</td>\n",
       "      <td>7</td>\n",
       "      <td>4493</td>\n",
       "      <td>1235</td>\n",
       "      <td>1720</td>\n",
       "      <td>1.0</td>\n",
       "      <td>0</td>\n",
       "      <td>...</td>\n",
       "      <td>0</td>\n",
       "      <td>0</td>\n",
       "      <td>1</td>\n",
       "      <td>0</td>\n",
       "      <td>0</td>\n",
       "      <td>0</td>\n",
       "      <td>0</td>\n",
       "      <td>0</td>\n",
       "      <td>0</td>\n",
       "      <td>0</td>\n",
       "    </tr>\n",
       "    <tr>\n",
       "      <th>1697</th>\n",
       "      <td>2017</td>\n",
       "      <td>1</td>\n",
       "      <td>1</td>\n",
       "      <td>22</td>\n",
       "      <td>7</td>\n",
       "      <td>2894</td>\n",
       "      <td>1555</td>\n",
       "      <td>1720</td>\n",
       "      <td>1.0</td>\n",
       "      <td>0</td>\n",
       "      <td>...</td>\n",
       "      <td>0</td>\n",
       "      <td>0</td>\n",
       "      <td>1</td>\n",
       "      <td>0</td>\n",
       "      <td>0</td>\n",
       "      <td>0</td>\n",
       "      <td>0</td>\n",
       "      <td>1</td>\n",
       "      <td>0</td>\n",
       "      <td>0</td>\n",
       "    </tr>\n",
       "    <tr>\n",
       "      <th>1698</th>\n",
       "      <td>2017</td>\n",
       "      <td>1</td>\n",
       "      <td>1</td>\n",
       "      <td>22</td>\n",
       "      <td>7</td>\n",
       "      <td>2912</td>\n",
       "      <td>825</td>\n",
       "      <td>955</td>\n",
       "      <td>0.0</td>\n",
       "      <td>0</td>\n",
       "      <td>...</td>\n",
       "      <td>0</td>\n",
       "      <td>0</td>\n",
       "      <td>1</td>\n",
       "      <td>0</td>\n",
       "      <td>0</td>\n",
       "      <td>0</td>\n",
       "      <td>0</td>\n",
       "      <td>1</td>\n",
       "      <td>0</td>\n",
       "      <td>0</td>\n",
       "    </tr>\n",
       "  </tbody>\n",
       "</table>\n",
       "<p>5 rows × 21 columns</p>\n",
       "</div>"
      ],
      "text/plain": [
       "      YEAR  QUARTER  MONTH  DAY_OF_MONTH  DAY_OF_WEEK  FL_NUM  SCHED_DEP_TIME  \\\n",
       "1640  2017        1      1            22            7    3534            2005   \n",
       "1641  2017        1      1            22            7    3750            1700   \n",
       "1642  2017        1      1            22            7    4493            1235   \n",
       "1697  2017        1      1            22            7    2894            1555   \n",
       "1698  2017        1      1            22            7    2912             825   \n",
       "\n",
       "      SCHED_ARR_TIME  DELAY  AIRLINE_ID_19790          ...            \\\n",
       "1640              50    0.0                 0          ...             \n",
       "1641            2150    0.0                 0          ...             \n",
       "1642            1720    1.0                 0          ...             \n",
       "1697            1720    1.0                 0          ...             \n",
       "1698             955    0.0                 0          ...             \n",
       "\n",
       "      AIRLINE_ID_20304  AIRLINE_ID_21171  ORIGIN_AIRPORT_ID_11292  \\\n",
       "1640                 0                 0                        1   \n",
       "1641                 0                 0                        1   \n",
       "1642                 0                 0                        1   \n",
       "1697                 0                 0                        1   \n",
       "1698                 0                 0                        1   \n",
       "\n",
       "      ORIGIN_AIRPORT_ID_12892  ORIGIN_AIRPORT_ID_13930  \\\n",
       "1640                        0                        0   \n",
       "1641                        0                        0   \n",
       "1642                        0                        0   \n",
       "1697                        0                        0   \n",
       "1698                        0                        0   \n",
       "\n",
       "      ORIGIN_AIRPORT_ID_14771  DEST_AIRPORT_ID_11292  DEST_AIRPORT_ID_12892  \\\n",
       "1640                        0                      0                      0   \n",
       "1641                        0                      0                      0   \n",
       "1642                        0                      0                      0   \n",
       "1697                        0                      0                      1   \n",
       "1698                        0                      0                      1   \n",
       "\n",
       "      DEST_AIRPORT_ID_13930  DEST_AIRPORT_ID_14771  \n",
       "1640                      0                      0  \n",
       "1641                      0                      0  \n",
       "1642                      0                      0  \n",
       "1697                      0                      0  \n",
       "1698                      0                      0  \n",
       "\n",
       "[5 rows x 21 columns]"
      ]
     },
     "execution_count": 24,
     "metadata": {},
     "output_type": "execute_result"
    }
   ],
   "source": [
    "dummy_data = pd.get_dummies(clean_data, columns=['AIRLINE_ID', 'ORIGIN_AIRPORT_ID', 'DEST_AIRPORT_ID'], drop_first=True)\n",
    "dummy_data.head()"
   ]
  },
  {
   "cell_type": "code",
   "execution_count": 139,
   "metadata": {
    "collapsed": true
   },
   "outputs": [],
   "source": [
    "# Setting the train set,test set, and validation set\n",
    "x= dummy_data.iloc[:,0:20]\n",
    "y= dummy_data['DELAY']\n",
    "\n",
    "x_train,x_test,y_train,y_test = train_test_split(x,y,test_size=.2, random_state = 1)\n",
    "x_train,x_val,y_train,y_val = train_test_split(x_train,y_train,test_size=.25, random_state = 1)"
   ]
  },
  {
   "cell_type": "code",
   "execution_count": 27,
   "metadata": {},
   "outputs": [
    {
     "data": {
      "text/plain": [
       "(715, 20)"
      ]
     },
     "execution_count": 27,
     "metadata": {},
     "output_type": "execute_result"
    }
   ],
   "source": [
    "x_train.shape"
   ]
  },
  {
   "cell_type": "code",
   "execution_count": 28,
   "metadata": {},
   "outputs": [
    {
     "data": {
      "text/plain": [
       "(239, 20)"
      ]
     },
     "execution_count": 28,
     "metadata": {},
     "output_type": "execute_result"
    }
   ],
   "source": [
    "x_test.shape"
   ]
  },
  {
   "cell_type": "code",
   "execution_count": 29,
   "metadata": {},
   "outputs": [
    {
     "data": {
      "text/plain": [
       "(239, 20)"
      ]
     },
     "execution_count": 29,
     "metadata": {},
     "output_type": "execute_result"
    }
   ],
   "source": [
    "x_val.shape"
   ]
  },
  {
   "cell_type": "markdown",
   "metadata": {},
   "source": [
    "# Artificial Neural Network:"
   ]
  },
  {
   "cell_type": "markdown",
   "metadata": {},
   "source": [
    "Building the Model:"
   ]
  },
  {
   "cell_type": "code",
   "execution_count": 30,
   "metadata": {},
   "outputs": [
    {
     "name": "stdout",
     "output_type": "stream",
     "text": [
      "Random starting synaptic weights: \n",
      "[[-0.16595599]\n",
      " [ 0.44064899]\n",
      " [-0.99977125]\n",
      " [-0.39533485]\n",
      " [-0.70648822]\n",
      " [-0.81532281]\n",
      " [-0.62747958]\n",
      " [-0.30887855]\n",
      " [-0.20646505]\n",
      " [ 0.07763347]\n",
      " [-0.16161097]\n",
      " [ 0.370439  ]\n",
      " [-0.5910955 ]\n",
      " [ 0.75623487]\n",
      " [-0.94522481]\n",
      " [ 0.34093502]\n",
      " [-0.1653904 ]\n",
      " [ 0.11737966]\n",
      " [-0.71922612]\n",
      " [-0.60379702]]\n"
     ]
    }
   ],
   "source": [
    "class NeuralNetwork():\n",
    "    def __init__(self):\n",
    "        # seed the random number generator, so it generates the same \n",
    "        random.seed(1)\n",
    "        \n",
    "        # We Model a single neuron, with 11 input and one output connection\n",
    "        self.synaptic_weights = 2 * random.random((20,1)) -1\n",
    "        \n",
    "    # The sigmod function, which take the wieghted sum and normalized it between 0 and 1    \n",
    "    def __sigmoid(self,x):\n",
    "        return 1/(1 + exp(-x))\n",
    "    \n",
    "    # The dervative of the sigmoid function, it indicates how confident we are about the wieght\n",
    "    def __sigmoid_derivative(self,x):\n",
    "        return x*(1-x)\n",
    "    \n",
    "    # we train the neural network through a process of trail and error.\n",
    "    # Adjasting the synaptic weights each time.\n",
    "    def train(self,training_set_inputs, training_set_outputs,number_of_training_iterations):\n",
    "        for iteration in range(number_of_training_iterations):\n",
    "            #Pass the training set through our neural network (a single neuran).\n",
    "            output = self.think(training_set_inputs)\n",
    "     \n",
    "            #Calculate the error (The diffrence between the desired output and the predicted output )\n",
    "            error = training_set_outputs - output\n",
    "           \n",
    "            # Multiply the error by the input and again by the gradient of the Sigmoid curve.\n",
    "            # This means less Confident weight are adjusted more.\n",
    "            # This means inputs,which are zero, do not cause changes to the weights.\n",
    "            Adjustment = dot(training_set_inputs.T, error * self.__sigmoid_derivative(output))\n",
    "            \n",
    "            #Adjust the weights.\n",
    "            self.synaptic_weights += Adjustment\n",
    "            \n",
    "    #The neural network thinks.\n",
    "    def think(self,inputs):\n",
    "        # Pass inputs through our neural network (our single neuron).\n",
    "        return self.__sigmoid(dot(inputs, self.synaptic_weights))\n",
    "            \n",
    "            \n",
    "if __name__ == \"__main__\":\n",
    "    \n",
    "    #I ntialise a single neuron neural network.\n",
    "    neural_network = NeuralNetwork()\n",
    "    \n",
    "    print(\"Random starting synaptic weights: \")\n",
    "    print(neural_network.synaptic_weights)"
   ]
  },
  {
   "cell_type": "markdown",
   "metadata": {},
   "source": [
    "Train the Model:"
   ]
  },
  {
   "cell_type": "code",
   "execution_count": 31,
   "metadata": {},
   "outputs": [
    {
     "name": "stderr",
     "output_type": "stream",
     "text": [
      "/Users/Manar/anaconda3/lib/python3.6/site-packages/ipykernel_launcher.py:11: RuntimeWarning: overflow encountered in exp\n",
      "  # This is added back by InteractiveShellApp.init_path()\n"
     ]
    },
    {
     "name": "stdout",
     "output_type": "stream",
     "text": [
      "New synaptic wieghts after training:\n",
      "[[-0.16595599]\n",
      " [ 0.44064899]\n",
      " [-0.99977125]\n",
      " [-0.39533485]\n",
      " [-0.70648822]\n",
      " [-0.81532281]\n",
      " [-0.62747958]\n",
      " [-0.30887855]\n",
      " [-0.20646505]\n",
      " [ 0.07763347]\n",
      " [-0.16161097]\n",
      " [ 0.370439  ]\n",
      " [-0.5910955 ]\n",
      " [ 0.75623487]\n",
      " [-0.94522481]\n",
      " [ 0.34093502]\n",
      " [-0.1653904 ]\n",
      " [ 0.11737966]\n",
      " [-0.71922612]\n",
      " [-0.60379702]]\n"
     ]
    }
   ],
   "source": [
    "    training_set_inputs = x_train.values.reshape(-1,20)\n",
    "    training_set_outputs = y_train.values.reshape(-1,1)\n",
    "\n",
    "   \n",
    "    # Train the neural network using a training set\n",
    "    # Do it 10,000 time and make small adjusments each time.\n",
    "    neural_network.train(training_set_inputs, training_set_outputs, 10000)\n",
    "    \n",
    "    print(\"New synaptic wieghts after training:\")\n",
    "    print(neural_network.synaptic_weights)"
   ]
  },
  {
   "cell_type": "markdown",
   "metadata": {},
   "source": [
    "Validate the Model: "
   ]
  },
  {
   "cell_type": "code",
   "execution_count": 32,
   "metadata": {},
   "outputs": [
    {
     "name": "stdout",
     "output_type": "stream",
     "text": [
      "The Confusing Matrix:\n",
      "[[174   0]\n",
      " [ 65   0]]\n",
      "             precision    recall  f1-score   support\n",
      "\n",
      "    class 0       0.73      1.00      0.84       174\n",
      "    class 1       0.00      0.00      0.00        65\n",
      "\n",
      "avg / total       0.53      0.73      0.61       239\n",
      "\n",
      "accuracy is 0.728033472803\n"
     ]
    },
    {
     "name": "stderr",
     "output_type": "stream",
     "text": [
      "/Users/Manar/anaconda3/lib/python3.6/site-packages/ipykernel_launcher.py:11: RuntimeWarning: overflow encountered in exp\n",
      "  # This is added back by InteractiveShellApp.init_path()\n",
      "/Users/Manar/anaconda3/lib/python3.6/site-packages/sklearn/metrics/classification.py:1135: UndefinedMetricWarning: Precision and F-score are ill-defined and being set to 0.0 in labels with no predicted samples.\n",
      "  'precision', 'predicted', average, warn_for)\n"
     ]
    }
   ],
   "source": [
    "\n",
    "# Test the neural network with a the validation data set\n",
    "y_pred = neural_network.think(x_val)\n",
    "    \n",
    "print(\"The Confusing Matrix:\")\n",
    "print(confusion_matrix(y_val,y_pred))\n",
    "print(classification_report(y_val, y_pred, target_names=['class 0', 'class 1']))      \n",
    "print('accuracy is',accuracy_score(y_pred,y_val))"
   ]
  },
  {
   "cell_type": "markdown",
   "metadata": {},
   "source": [
    "Testing the Model:"
   ]
  },
  {
   "cell_type": "code",
   "execution_count": 33,
   "metadata": {},
   "outputs": [
    {
     "name": "stdout",
     "output_type": "stream",
     "text": [
      "The Confusing Matrix:\n",
      "[[185   0]\n",
      " [ 54   0]]\n",
      "             precision    recall  f1-score   support\n",
      "\n",
      "    class 0       0.77      1.00      0.87       185\n",
      "    class 1       0.00      0.00      0.00        54\n",
      "\n",
      "avg / total       0.60      0.77      0.68       239\n",
      "\n",
      "accuracy is 0.774058577406\n"
     ]
    },
    {
     "name": "stderr",
     "output_type": "stream",
     "text": [
      "/Users/Manar/anaconda3/lib/python3.6/site-packages/ipykernel_launcher.py:11: RuntimeWarning: overflow encountered in exp\n",
      "  # This is added back by InteractiveShellApp.init_path()\n",
      "/Users/Manar/anaconda3/lib/python3.6/site-packages/sklearn/metrics/classification.py:1135: UndefinedMetricWarning: Precision and F-score are ill-defined and being set to 0.0 in labels with no predicted samples.\n",
      "  'precision', 'predicted', average, warn_for)\n"
     ]
    }
   ],
   "source": [
    "# Test the neural network with a new set\n",
    "y_pred = neural_network.think(x_test)\n",
    "    \n",
    "print(\"The Confusing Matrix:\")\n",
    "print(confusion_matrix(y_test,y_pred))\n",
    "print(classification_report(y_test, y_pred, target_names=['class 0', 'class 1']))      \n",
    "print('accuracy is',accuracy_score(y_pred,y_test))"
   ]
  },
  {
   "cell_type": "markdown",
   "metadata": {
    "collapsed": true
   },
   "source": [
    "# Logestic Regression:"
   ]
  },
  {
   "cell_type": "code",
   "execution_count": 34,
   "metadata": {
    "collapsed": true
   },
   "outputs": [],
   "source": [
    "from sklearn.linear_model import LogisticRegression as lg\n",
    "\n",
    "from sklearn.metrics import classification_report\n",
    "model=lg()\n",
    "model.fit(x_train,y_train)\n",
    "y_pred=model.predict(x_test)\n",
    "acc=metrics.accuracy_score(y_test,y_pred)"
   ]
  },
  {
   "cell_type": "code",
   "execution_count": 35,
   "metadata": {},
   "outputs": [
    {
     "name": "stdout",
     "output_type": "stream",
     "text": [
      "0.7740585774058577\n",
      "True:  [ 0.  1.  0.  0.  0.  0.  1.  0.  1.  1.  1.  0.  0.  1.  0.  0.  0.  0.\n",
      "  0.  0.  0.  0.  1.  0.  0.]\n",
      "Pred:  [ 0.  1.  0.  0.  0.  0.  1.  0.  1.  1.  1.  0.  0.  1.  0.  0.  0.  0.\n",
      "  0.  0.  0.  0.  1.  0.  0.]\n"
     ]
    }
   ],
   "source": [
    "null_acc=max(y_test.mean(),1-y_test.mean())\n",
    "print(null_acc)\n",
    "print(\"True: \",y_test.values[0:25])\n",
    "print(\"Pred: \",y_pred[0:25])"
   ]
  },
  {
   "cell_type": "code",
   "execution_count": 36,
   "metadata": {},
   "outputs": [
    {
     "data": {
      "text/plain": [
       "array([[185,   0],\n",
       "       [  0,  54]])"
      ]
     },
     "execution_count": 36,
     "metadata": {},
     "output_type": "execute_result"
    }
   ],
   "source": [
    "confusion_matrix=metrics.confusion_matrix(y_pred,y_test)\n",
    "confusion_matrix"
   ]
  },
  {
   "cell_type": "code",
   "execution_count": 37,
   "metadata": {},
   "outputs": [
    {
     "name": "stdout",
     "output_type": "stream",
     "text": [
      "TP:  54 TN:  185 FP:  0 FN:  0\n"
     ]
    }
   ],
   "source": [
    "TP=confusion_matrix[1,1]\n",
    "TN=confusion_matrix[0,0]\n",
    "FP=confusion_matrix[0,1]\n",
    "FN=confusion_matrix[1,0]\n",
    "print(\"TP: \",TP ,\"TN: \",TN ,\"FP: \",FP ,\"FN: \",FN)"
   ]
  },
  {
   "cell_type": "code",
   "execution_count": 38,
   "metadata": {},
   "outputs": [
    {
     "name": "stdout",
     "output_type": "stream",
     "text": [
      "TP:  54 TN:  185 FP:  0 FN:  0\n",
      "Accuracy:  100.0 vs 100.0\n",
      "Miss-classification Rate:  0.0\n",
      "TPR:  100.0\n",
      "TNR:  100.0\n",
      "FPR:  0.0\n",
      "FNR:  0.0\n",
      "Precision:  1.0\n",
      "             precision    recall  f1-score   support\n",
      "\n",
      "    class 0       1.00      1.00      1.00       185\n",
      "    Class 1       1.00      1.00      1.00        54\n",
      "\n",
      "avg / total       1.00      1.00      1.00       239\n",
      "\n"
     ]
    }
   ],
   "source": [
    "Accuracy=(TP+TN)/float(TP+TN+FP+FN)\n",
    "Miss_classification_rate=(FP+FN)/float(TP+TN+FP+FN)\n",
    "TPR=TP/float(TP+FN)\n",
    "TNR=TN/float(TN+FP)\n",
    "FPR=FP/float(TN+FP)\n",
    "FNR=FN/float(TP+FN)\n",
    "Precision=TP/float(TP+FP)\n",
    "print(\"TP: \",TP ,\"TN: \",TN ,\"FP: \",FP ,\"FN: \",FN)\n",
    "print(\"Accuracy: \", Accuracy*100,\"vs\",acc*100)\n",
    "print(\"Miss-classification Rate: \", Miss_classification_rate*100)\n",
    "print(\"TPR: \",TPR*100)\n",
    "print(\"TNR: \",TNR*100)\n",
    "print(\"FPR: \",FPR*100)\n",
    "print(\"FNR: \",FNR*100)\n",
    "print(\"Precision: \", Precision)\n",
    "\n",
    "print(classification_report(y_test, y_pred, target_names=['class 0', 'Class 1'] ))"
   ]
  },
  {
   "cell_type": "code",
   "execution_count": 39,
   "metadata": {
    "collapsed": true
   },
   "outputs": [],
   "source": [
    "import pandas as pd\n",
    "import numpy as np\n",
    "from sklearn import preprocessing\n",
    "import matplotlib.pyplot as plt \n",
    "plt.rc(\"font\", size=14)\n",
    "from sklearn.linear_model import LogisticRegression\n",
    "from sklearn.cross_validation import train_test_split\n",
    "import seaborn as sns\n",
    "sns.set(style=\"white\")\n",
    "sns.set(style=\"whitegrid\", color_codes=True)"
   ]
  },
  {
   "cell_type": "code",
   "execution_count": 40,
   "metadata": {},
   "outputs": [
    {
     "name": "stdout",
     "output_type": "stream",
     "text": [
      "(1193, 12)\n",
      "['YEAR', 'QUARTER', 'MONTH', 'DAY_OF_MONTH', 'DAY_OF_WEEK', 'AIRLINE_ID', 'FL_NUM', 'ORIGIN_AIRPORT_ID', 'DEST_AIRPORT_ID', 'SCHED_DEP_TIME', 'SCHED_ARR_TIME', 'DELAY']\n"
     ]
    }
   ],
   "source": [
    "print(clean_data.shape)\n",
    "print(list(clean_data.columns))"
   ]
  },
  {
   "cell_type": "code",
   "execution_count": 41,
   "metadata": {
    "scrolled": true
   },
   "outputs": [
    {
     "data": {
      "image/png": "[encoded data removed]",
      "text/plain": [
       "<matplotlib.figure.Figure at 0x104ba2780>"
      ]
     },
     "metadata": {},
     "output_type": "display_data"
    }
   ],
   "source": [
    "sns.countplot(y=\"ORIGIN_AIRPORT_ID\", data=clean_data)\n",
    "plt.show()"
   ]
  },
  {
   "cell_type": "markdown",
   "metadata": {},
   "source": [
    "# K-Nearest Neighbour "
   ]
  },
  {
   "cell_type": "code",
   "execution_count": 42,
   "metadata": {
    "scrolled": true
   },
   "outputs": [
    {
     "name": "stdout",
     "output_type": "stream",
     "text": [
      "             precision    recall  f1-score   support\n",
      "\n",
      "    class 0       0.78      0.96      0.86       185\n",
      "    Class 1       0.38      0.09      0.15        54\n",
      "\n",
      "avg / total       0.69      0.76      0.70       239\n",
      "\n",
      "[[177   8]\n",
      " [ 49   5]]\n",
      "accuracy is 0.761506276151\n"
     ]
    }
   ],
   "source": [
    "from sklearn import metrics\n",
    "from sklearn.metrics import confusion_matrix\n",
    "from sklearn.metrics import classification_report\n",
    "from sklearn.neighbors import KNeighborsClassifier\n",
    "from sklearn.metrics import accuracy_score\n",
    "\n",
    "\n",
    "classifier = KNeighborsClassifier(n_neighbors=8)\n",
    "classifier.fit(x_train, y_train)\n",
    "\n",
    "# Test the classfier\n",
    "y_pred = classifier.predict(x_test)\n",
    "\n",
    "# Summary of the predictions made by the classifier\n",
    "print(classification_report(y_test, y_pred,target_names=['class 0', 'Class 1']))\n",
    "print(confusion_matrix(y_test, y_pred))\n",
    "\n",
    "# Accuracy score\n",
    "print('accuracy is',accuracy_score(y_pred,y_test))"
   ]
  },
  {
   "cell_type": "markdown",
   "metadata": {},
   "source": [
    "#RANDOM FOREST CLASSIFIER"
   ]
  },
  {
   "cell_type": "code",
   "execution_count": 218,
   "metadata": {},
   "outputs": [
    {
     "name": "stdout",
     "output_type": "stream",
     "text": [
      "(775, 20)\n",
      "(418, 20)\n",
      "(775,)\n",
      "(418,)\n"
     ]
    }
   ],
   "source": [
    "# Setting the train set and test set\n",
    "x = dummy_data[['YEAR', 'QUARTER', 'MONTH', 'DAY_OF_MONTH','DAY_OF_WEEK', 'FL_NUM', 'SCHED_DEP_TIME','SCHED_ARR_TIME', 'AIRLINE_ID_19790', 'AIRLINE_ID_19805', 'AIRLINE_ID_20304', 'AIRLINE_ID_21171','ORIGIN_AIRPORT_ID_11292', 'ORIGIN_AIRPORT_ID_12892', 'ORIGIN_AIRPORT_ID_13930' , 'ORIGIN_AIRPORT_ID_14771', 'DEST_AIRPORT_ID_11292', 'DEST_AIRPORT_ID_12892', 'DEST_AIRPORT_ID_13930', 'DEST_AIRPORT_ID_14771']]\n",
    "y= dummy_data['DELAY']\n",
    "\n",
    "\n",
    "x_train,x_test,y_train,y_test = train_test_split(x,y,test_size=.35)\n",
    "\n",
    "\n",
    "print(x_train.shape)\n",
    "print(x_test.shape)\n",
    "print(y_train.shape)\n",
    "print(y_test.shape)"
   ]
  },
  {
   "cell_type": "code",
   "execution_count": 219,
   "metadata": {},
   "outputs": [
    {
     "name": "stdout",
     "output_type": "stream",
     "text": [
      "confusion metrix: [[329   0]\n",
      " [ 89   0]]\n",
      "accuracy score: 0.787081339713\n"
     ]
    }
   ],
   "source": [
    "from sklearn.ensemble import RandomForestClassifier\n",
    "\n",
    "classifier = RandomForestClassifier(n_estimators = 1000, criterion='gini', max_depth=None, min_samples_split = 2, min_samples_leaf = 50, min_weight_fraction_leaf=0.0, max_features='sqrt', max_leaf_nodes=None,bootstrap=True, oob_score=True, n_jobs=-1, random_state=50, verbose=0, warm_start=False,class_weight=None)\n",
    "calssifier=classifier.fit(x_train,y_train)\n",
    "\n",
    "predictions = calssifier.predict(x_test)\n",
    "\n",
    "# Accuracy score\n",
    "print('confusion metrix:', sklearn.metrics.confusion_matrix(y_test,predictions))\n",
    "print('accuracy score:', sklearn.metrics.accuracy_score(y_test,predictions))"
   ]
  },
  {
   "cell_type": "code",
   "execution_count": 223,
   "metadata": {},
   "outputs": [
    {
     "name": "stdout",
     "output_type": "stream",
     "text": [
      "[ 0.          0.02080367  0.03732291  0.24882437  0.1863552   0.11191681\n",
      "  0.12138106  0.11310038  0.03851915  0.06272713  0.05904931]\n"
     ]
    }
   ],
   "source": [
    "from sklearn.datasets import make_classification\n",
    "from sklearn.ensemble import ExtraTreesClassifier\n",
    "model = ExtraTreesClassifier()\n",
    "model.fit(pred_train,tar_train)\n",
    "print(model.feature_importances_)"
   ]
  },
  {
   "cell_type": "code",
   "execution_count": 224,
   "metadata": {},
   "outputs": [
    {
     "name": "stdout",
     "output_type": "stream",
     "text": [
      "0.71129707113\n",
      "0.742677824268\n",
      "0.740585774059\n",
      "0.778242677824\n",
      "0.761506276151\n",
      "0.746861924686\n",
      "0.765690376569\n",
      "0.76359832636\n",
      "0.76359832636\n",
      "0.765690376569\n",
      "0.759414225941\n",
      "0.76359832636\n",
      "0.76359832636\n",
      "0.755230125523\n",
      "0.761506276151\n",
      "0.778242677824\n",
      "0.761506276151\n",
      "0.755230125523\n",
      "0.761506276151\n",
      "0.759414225941\n",
      "0.759414225941\n",
      "0.774058577406\n",
      "0.753138075314\n",
      "0.76359832636\n",
      "0.76359832636\n",
      "0.759414225941\n",
      "0.761506276151\n",
      "0.757322175732\n",
      "0.778242677824\n",
      "0.759414225941\n",
      "0.757322175732\n",
      "0.765690376569\n",
      "0.759414225941\n",
      "0.778242677824\n",
      "0.765690376569\n",
      "0.76359832636\n",
      "0.76359832636\n",
      "0.776150627615\n",
      "0.755230125523\n",
      "0.761506276151\n",
      "0.751046025105\n",
      "0.759414225941\n",
      "0.771966527197\n",
      "0.746861924686\n",
      "0.753138075314\n"
     ]
    }
   ],
   "source": [
    "trees=range(45)\n",
    "accuracy=np.zeros(45)\n",
    "\n",
    "for idx in range(len(trees)):\n",
    "    classifier=RandomForestClassifier(n_estimators = idx + 1)\n",
    "    calssifier=classifier.fit(pred_train,tar_train)\n",
    "    predictions=calssifier.predict(pred_test)\n",
    "    accuracy[idx]=sklearn.metrics.accuracy_score(tar_test,predictions)\n",
    "    \n",
    "    print (accuracy[idx])"
   ]
  },
  {
   "cell_type": "code",
   "execution_count": null,
   "metadata": {
    "collapsed": true
   },
   "outputs": [],
   "source": []
  }
 ],
 "metadata": {
  "kernelspec": {
   "display_name": "Python 3",
   "language": "python",
   "name": "python3"
  },
  "language_info": {
   "codemirror_mode": {
    "name": "ipython",
    "version": 3
   },
   "file_extension": ".py",
   "mimetype": "text/x-python",
   "name": "python",
   "nbconvert_exporter": "python",
   "pygments_lexer": "ipython3",
   "version": "3.6.3"
  }
 },
 "nbformat": 4,
 "nbformat_minor": 2
}
