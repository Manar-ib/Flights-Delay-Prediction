{
 "cells": [
  {
   "cell_type": "code",
   "execution_count": 92,
   "metadata": {},
   "outputs": [
    {
     "name": "stdout",
     "output_type": "stream",
     "text": [
      "The number of rows in the data set is 450017.\n",
      "The number of features is 12.\n"
     ]
    },
    {
     "data": {
      "text/html": [
       "<div>\n",
       "<style>\n",
       "    .dataframe thead tr:only-child th {\n",
       "        text-align: right;\n",
       "    }\n",
       "\n",
       "    .dataframe thead th {\n",
       "        text-align: left;\n",
       "    }\n",
       "\n",
       "    .dataframe tbody tr th {\n",
       "        vertical-align: top;\n",
       "    }\n",
       "</style>\n",
       "<table border=\"1\" class=\"dataframe\">\n",
       "  <thead>\n",
       "    <tr style=\"text-align: right;\">\n",
       "      <th></th>\n",
       "      <th>YEAR</th>\n",
       "      <th>QUARTER</th>\n",
       "      <th>MONTH</th>\n",
       "      <th>DAY_OF_MONTH</th>\n",
       "      <th>DAY_OF_WEEK</th>\n",
       "      <th>AIRLINE_ID</th>\n",
       "      <th>FL_NUM</th>\n",
       "      <th>ORIGIN_AIRPORT_ID</th>\n",
       "      <th>DEST_AIRPORT_ID</th>\n",
       "      <th>SCHED_DEP_TIME</th>\n",
       "      <th>SCHED_ARR_TIME</th>\n",
       "      <th>DELAY</th>\n",
       "    </tr>\n",
       "  </thead>\n",
       "  <tbody>\n",
       "    <tr>\n",
       "      <th>0</th>\n",
       "      <td>2017</td>\n",
       "      <td>1</td>\n",
       "      <td>1</td>\n",
       "      <td>7</td>\n",
       "      <td>6</td>\n",
       "      <td>19805</td>\n",
       "      <td>1766</td>\n",
       "      <td>11298</td>\n",
       "      <td>12889</td>\n",
       "      <td>1055</td>\n",
       "      <td>1154</td>\n",
       "      <td>0.0</td>\n",
       "    </tr>\n",
       "    <tr>\n",
       "      <th>1</th>\n",
       "      <td>2017</td>\n",
       "      <td>1</td>\n",
       "      <td>1</td>\n",
       "      <td>8</td>\n",
       "      <td>7</td>\n",
       "      <td>19805</td>\n",
       "      <td>1766</td>\n",
       "      <td>11298</td>\n",
       "      <td>12889</td>\n",
       "      <td>1055</td>\n",
       "      <td>1154</td>\n",
       "      <td>0.0</td>\n",
       "    </tr>\n",
       "    <tr>\n",
       "      <th>2</th>\n",
       "      <td>2017</td>\n",
       "      <td>1</td>\n",
       "      <td>1</td>\n",
       "      <td>1</td>\n",
       "      <td>7</td>\n",
       "      <td>19805</td>\n",
       "      <td>1766</td>\n",
       "      <td>13930</td>\n",
       "      <td>11298</td>\n",
       "      <td>710</td>\n",
       "      <td>948</td>\n",
       "      <td>0.0</td>\n",
       "    </tr>\n",
       "    <tr>\n",
       "      <th>3</th>\n",
       "      <td>2017</td>\n",
       "      <td>1</td>\n",
       "      <td>1</td>\n",
       "      <td>2</td>\n",
       "      <td>1</td>\n",
       "      <td>19805</td>\n",
       "      <td>1766</td>\n",
       "      <td>13930</td>\n",
       "      <td>11298</td>\n",
       "      <td>710</td>\n",
       "      <td>948</td>\n",
       "      <td>0.0</td>\n",
       "    </tr>\n",
       "    <tr>\n",
       "      <th>4</th>\n",
       "      <td>2017</td>\n",
       "      <td>1</td>\n",
       "      <td>1</td>\n",
       "      <td>3</td>\n",
       "      <td>2</td>\n",
       "      <td>19805</td>\n",
       "      <td>1766</td>\n",
       "      <td>13930</td>\n",
       "      <td>11298</td>\n",
       "      <td>710</td>\n",
       "      <td>948</td>\n",
       "      <td>0.0</td>\n",
       "    </tr>\n",
       "  </tbody>\n",
       "</table>\n",
       "</div>"
      ],
      "text/plain": [
       "   YEAR  QUARTER  MONTH  DAY_OF_MONTH  DAY_OF_WEEK  AIRLINE_ID  FL_NUM  \\\n",
       "0  2017        1      1             7            6       19805    1766   \n",
       "1  2017        1      1             8            7       19805    1766   \n",
       "2  2017        1      1             1            7       19805    1766   \n",
       "3  2017        1      1             2            1       19805    1766   \n",
       "4  2017        1      1             3            2       19805    1766   \n",
       "\n",
       "   ORIGIN_AIRPORT_ID  DEST_AIRPORT_ID  SCHED_DEP_TIME  SCHED_ARR_TIME  DELAY  \n",
       "0              11298            12889            1055            1154    0.0  \n",
       "1              11298            12889            1055            1154    0.0  \n",
       "2              13930            11298             710             948    0.0  \n",
       "3              13930            11298             710             948    0.0  \n",
       "4              13930            11298             710             948    0.0  "
      ]
     },
     "execution_count": 92,
     "metadata": {},
     "output_type": "execute_result"
    }
   ],
   "source": [
    "from sys import stdin\n",
    "import numpy as np # linear algebra\n",
    "import pandas as pd\n",
    "from sklearn.linear_model import LinearRegression\n",
    "import matplotlib.pyplot as plt\n",
    "from sklearn.cross_validation import train_test_split\n",
    "from sklearn import metrics\n",
    "\n",
    "# Load the data\n",
    "data = pd.read_csv(\"FlightDelays.csv\")\n",
    "\n",
    "print(\"The number of rows in the data set is {}.\".format(len(data)))\n",
    "print(\"The number of features is {}.\".format(len(data.columns)))\n",
    "\n",
    "data.head()"
   ]
  },
  {
   "cell_type": "code",
   "execution_count": 3,
   "metadata": {},
   "outputs": [
    {
     "data": {
      "text/plain": [
       "YEAR                    0\n",
       "QUARTER                 0\n",
       "MONTH                   0\n",
       "DAY_OF_MONTH            0\n",
       "DAY_OF_WEEK             0\n",
       "AIRLINE_ID              0\n",
       "FL_NUM                  0\n",
       "ORIGIN_AIRPORT_ID       0\n",
       "DEST_AIRPORT_ID         0\n",
       "SCHED_DEP_TIME          0\n",
       "SCHED_ARR_TIME          0\n",
       "DELAY                8541\n",
       "dtype: int64"
      ]
     },
     "execution_count": 3,
     "metadata": {},
     "output_type": "execute_result"
    }
   ],
   "source": [
    "# Finding Null Values\n",
    "data.isnull().sum()"
   ]
  },
  {
   "cell_type": "code",
   "execution_count": 93,
   "metadata": {},
   "outputs": [
    {
     "data": {
      "text/plain": [
       "YEAR                 0\n",
       "QUARTER              0\n",
       "MONTH                0\n",
       "DAY_OF_MONTH         0\n",
       "DAY_OF_WEEK          0\n",
       "AIRLINE_ID           0\n",
       "FL_NUM               0\n",
       "ORIGIN_AIRPORT_ID    0\n",
       "DEST_AIRPORT_ID      0\n",
       "SCHED_DEP_TIME       0\n",
       "SCHED_ARR_TIME       0\n",
       "DELAY                0\n",
       "dtype: int64"
      ]
     },
     "execution_count": 93,
     "metadata": {},
     "output_type": "execute_result"
    }
   ],
   "source": [
    "new_data = data.dropna(axis=0)#Delete the rows containing missing data\n",
    "new_data.isnull().sum() #Check to make sure there are no more NaNs"
   ]
  },
  {
   "cell_type": "code",
   "execution_count": 154,
   "metadata": {},
   "outputs": [
    {
     "name": "stdout",
     "output_type": "stream",
     "text": [
      "The number of rows in the new data set is 441476.\n"
     ]
    }
   ],
   "source": [
    "data = new_data\n",
    "print(\"The number of rows in the new data set is {}.\".format(len(data)))"
   ]
  },
  {
   "cell_type": "code",
   "execution_count": 155,
   "metadata": {},
   "outputs": [
    {
     "data": {
      "text/plain": [
       "1209.5232876712328"
      ]
     },
     "execution_count": 155,
     "metadata": {},
     "output_type": "execute_result"
    }
   ],
   "source": [
    "#Average number of flights per day\n",
    "len(data[data['YEAR']==2017].index)/365"
   ]
  },
  {
   "cell_type": "code",
   "execution_count": 170,
   "metadata": {},
   "outputs": [
    {
     "data": {
      "text/html": [
       "<div>\n",
       "<style>\n",
       "    .dataframe thead tr:only-child th {\n",
       "        text-align: right;\n",
       "    }\n",
       "\n",
       "    .dataframe thead th {\n",
       "        text-align: left;\n",
       "    }\n",
       "\n",
       "    .dataframe tbody tr th {\n",
       "        vertical-align: top;\n",
       "    }\n",
       "</style>\n",
       "<table border=\"1\" class=\"dataframe\">\n",
       "  <thead>\n",
       "    <tr style=\"text-align: right;\">\n",
       "      <th></th>\n",
       "      <th>count</th>\n",
       "      <th>mean</th>\n",
       "    </tr>\n",
       "    <tr>\n",
       "      <th>AIRLINE_ID</th>\n",
       "      <th></th>\n",
       "      <th></th>\n",
       "    </tr>\n",
       "  </thead>\n",
       "  <tbody>\n",
       "    <tr>\n",
       "      <th>21171</th>\n",
       "      <td>5648.0</td>\n",
       "      <td>0.296742</td>\n",
       "    </tr>\n",
       "    <tr>\n",
       "      <th>19690</th>\n",
       "      <td>6258.0</td>\n",
       "      <td>0.097795</td>\n",
       "    </tr>\n",
       "    <tr>\n",
       "      <th>20436</th>\n",
       "      <td>7603.0</td>\n",
       "      <td>0.269630</td>\n",
       "    </tr>\n",
       "    <tr>\n",
       "      <th>20416</th>\n",
       "      <td>12140.0</td>\n",
       "      <td>0.222323</td>\n",
       "    </tr>\n",
       "    <tr>\n",
       "      <th>19930</th>\n",
       "      <td>14469.0</td>\n",
       "      <td>0.165112</td>\n",
       "    </tr>\n",
       "    <tr>\n",
       "      <th>20409</th>\n",
       "      <td>24088.0</td>\n",
       "      <td>0.256020</td>\n",
       "    </tr>\n",
       "    <tr>\n",
       "      <th>20366</th>\n",
       "      <td>33917.0</td>\n",
       "      <td>0.235369</td>\n",
       "    </tr>\n",
       "    <tr>\n",
       "      <th>19977</th>\n",
       "      <td>42192.0</td>\n",
       "      <td>0.218217</td>\n",
       "    </tr>\n",
       "    <tr>\n",
       "      <th>20304</th>\n",
       "      <td>48366.0</td>\n",
       "      <td>0.223070</td>\n",
       "    </tr>\n",
       "    <tr>\n",
       "      <th>19790</th>\n",
       "      <td>69078.0</td>\n",
       "      <td>0.192695</td>\n",
       "    </tr>\n",
       "    <tr>\n",
       "      <th>19805</th>\n",
       "      <td>72214.0</td>\n",
       "      <td>0.160911</td>\n",
       "    </tr>\n",
       "    <tr>\n",
       "      <th>19393</th>\n",
       "      <td>105503.0</td>\n",
       "      <td>0.232875</td>\n",
       "    </tr>\n",
       "  </tbody>\n",
       "</table>\n",
       "</div>"
      ],
      "text/plain": [
       "               count      mean\n",
       "AIRLINE_ID                    \n",
       "21171         5648.0  0.296742\n",
       "19690         6258.0  0.097795\n",
       "20436         7603.0  0.269630\n",
       "20416        12140.0  0.222323\n",
       "19930        14469.0  0.165112\n",
       "20409        24088.0  0.256020\n",
       "20366        33917.0  0.235369\n",
       "19977        42192.0  0.218217\n",
       "20304        48366.0  0.223070\n",
       "19790        69078.0  0.192695\n",
       "19805        72214.0  0.160911\n",
       "19393       105503.0  0.232875"
      ]
     },
     "execution_count": 170,
     "metadata": {},
     "output_type": "execute_result"
    }
   ],
   "source": [
    "# function that extract statistical parameters from a grouby objet:\n",
    "def get_stats(group):\n",
    "    return {'count': group.count(), 'mean': group.mean()}\n",
    "\n",
    "# Creation of a dataframe with statitical infos on each airline:\n",
    "global_stats = data['DELAY'].groupby(data['AIRLINE_ID']).apply(get_stats).unstack()\n",
    "global_stats = global_stats.sort_values('count')\n",
    "global_stats"
   ]
  },
  {
   "cell_type": "code",
   "execution_count": 158,
   "metadata": {
    "scrolled": false
   },
   "outputs": [
    {
     "name": "stdout",
     "output_type": "stream",
     "text": [
      "The number of delayed flights in the data set is 93072.\n"
     ]
    }
   ],
   "source": [
    "#subset the flight that delayed\n",
    "delay_flight=new_data[new_data.DELAY==1]\n",
    "print(\"The number of delayed flights in the data set is {}.\".format(len(delay_flight)))"
   ]
  },
  {
   "cell_type": "code",
   "execution_count": 215,
   "metadata": {
    "scrolled": false
   },
   "outputs": [
    {
     "data": {
      "image/png": "[encoded data removed]",
      "text/plain": [
       "<matplotlib.figure.Figure at 0x1a10c064a8>"
      ]
     },
     "metadata": {},
     "output_type": "display_data"
    },
    {
     "name": "stdout",
     "output_type": "stream",
     "text": [
      "This figure represents the proportion of on time flights (0) and delayed flights (1) of all data set.\n"
     ]
    }
   ],
   "source": [
    "#Plotting the proportion of on time flights (0) and delayed flights (1) of all data set.\n",
    "\n",
    "import seaborn as sns\n",
    "\n",
    "f,axes = plt.subplots(1,1,figsize=(15,6))\n",
    "sns.countplot('DELAY',order = data['DELAY'].value_counts().index, data=data,axes=axes)\n",
    "plt.show()\n",
    "\n",
    "print('This figure represents the proportion of on time flights (0) and delayed flights (1) of all data set.')"
   ]
  },
  {
   "cell_type": "code",
   "execution_count": 162,
   "metadata": {},
   "outputs": [
    {
     "name": "stdout",
     "output_type": "stream",
     "text": [
      "ORIGIN_AIRPORT_ID\n",
      "10397    6176.0\n",
      "12892    5453.0\n",
      "13930    4202.0\n",
      "11292    4179.0\n",
      "14771    3831.0\n",
      "Name: DELAY, dtype: float64\n",
      "DEST_AIRPORT_ID\n",
      "10397    5289.0\n",
      "12892    4341.0\n",
      "14771    4083.0\n",
      "11292    3563.0\n",
      "13930    3536.0\n",
      "Name: DELAY, dtype: float64\n"
     ]
    }
   ],
   "source": [
    "#exploring most five origin airport delay \n",
    "most5origin_Airport_delay=delay_flight.groupby('ORIGIN_AIRPORT_ID').DELAY.sum().nlargest(5)\n",
    "print(most5origin_Airport_delay)\n",
    "\n",
    "#exploring most five destenation airport delay \n",
    "most5dest_Airport_delay=delay_flight.groupby('DEST_AIRPORT_ID').DELAY.sum().nlargest(5)\n",
    "print(most5dest_Airport_delay)\n"
   ]
  },
  {
   "cell_type": "code",
   "execution_count": 164,
   "metadata": {
    "scrolled": false
   },
   "outputs": [
    {
     "name": "stdout",
     "output_type": "stream",
     "text": [
      "The number of rows keeping only most five airport delay is 94627.\n"
     ]
    }
   ],
   "source": [
    "#cleaning data keeping only most five origin airport delay \n",
    "data_5most_airport=new_data.loc[new_data['ORIGIN_AIRPORT_ID'].isin(['10397', '12892', '13930','11292','14771'])] \n",
    "print(\"The number of rows keeping only most five origin airport delay is {}.\".format(len(data_5most_airport)))"
   ]
  },
  {
   "cell_type": "code",
   "execution_count": 166,
   "metadata": {
    "scrolled": false
   },
   "outputs": [
    {
     "name": "stdout",
     "output_type": "stream",
     "text": [
      "The number of rows keeping only most five dest airport delay is 11381.\n"
     ]
    }
   ],
   "source": [
    "#cleaning data keeping the most five dest airport delay \n",
    "most5Dest_airport=most5Origin_airport.loc[new_data['DEST_AIRPORT_ID'].isin(['10397', '12892', '13930','11292','14771'])] \n",
    "print(\"The number of rows keeping only most five dest airport delay is {}.\".format(len(most5Dest_airport)))"
   ]
  },
  {
   "cell_type": "code",
   "execution_count": 168,
   "metadata": {
    "scrolled": true
   },
   "outputs": [
    {
     "data": {
      "image/png": "[encoded data removed]",
      "text/plain": [
       "<matplotlib.figure.Figure at 0x1a0ef47908>"
      ]
     },
     "metadata": {},
     "output_type": "display_data"
    }
   ],
   "source": [
    "data[['DAY_OF_MONTH','DELAY']].groupby(['DAY_OF_MONTH']).count().plot()\n",
    "plt.show()"
   ]
  },
  {
   "cell_type": "code",
   "execution_count": 169,
   "metadata": {},
   "outputs": [
    {
     "data": {
      "image/png": "[encoded data removed]",
      "text/plain": [
       "<matplotlib.figure.Figure at 0x1a0fb09748>"
      ]
     },
     "metadata": {},
     "output_type": "display_data"
    }
   ],
   "source": [
    "data[['DAY_OF_WEEK','DELAY']].groupby(['DAY_OF_WEEK']).count().plot()\n",
    "plt.show()"
   ]
  },
  {
   "cell_type": "code",
   "execution_count": 73,
   "metadata": {},
   "outputs": [
    {
     "ename": "ValueError",
     "evalue": "to assemble mappings requires at least that [year, month, day] be specified: [day] is missing",
     "output_type": "error",
     "traceback": [
      "\u001b[0;31m---------------------------------------------------------------------------\u001b[0m",
      "\u001b[0;31mValueError\u001b[0m                                Traceback (most recent call last)",
      "\u001b[0;32m<ipython-input-73-be4c5863a883>\u001b[0m in \u001b[0;36m<module>\u001b[0;34m()\u001b[0m\n\u001b[0;32m----> 1\u001b[0;31m \u001b[0mdata\u001b[0m\u001b[0;34m[\u001b[0m\u001b[0;34m'DATE'\u001b[0m\u001b[0;34m]\u001b[0m \u001b[0;34m=\u001b[0m \u001b[0mpd\u001b[0m\u001b[0;34m.\u001b[0m\u001b[0mto_datetime\u001b[0m\u001b[0;34m(\u001b[0m\u001b[0mdata\u001b[0m\u001b[0;34m[\u001b[0m\u001b[0;34m[\u001b[0m\u001b[0;34m'YEAR'\u001b[0m\u001b[0;34m,\u001b[0m\u001b[0;34m'MONTH'\u001b[0m\u001b[0;34m,\u001b[0m \u001b[0;34m'DAY_OF_MONTH'\u001b[0m\u001b[0;34m]\u001b[0m\u001b[0;34m]\u001b[0m\u001b[0;34m)\u001b[0m\u001b[0;34m\u001b[0m\u001b[0m\n\u001b[0m",
      "\u001b[0;32m~/anaconda3/lib/python3.6/site-packages/pandas/core/tools/datetimes.py\u001b[0m in \u001b[0;36mto_datetime\u001b[0;34m(arg, errors, dayfirst, yearfirst, utc, box, format, exact, unit, infer_datetime_format, origin)\u001b[0m\n\u001b[1;32m    510\u001b[0m         \u001b[0mresult\u001b[0m \u001b[0;34m=\u001b[0m \u001b[0mSeries\u001b[0m\u001b[0;34m(\u001b[0m\u001b[0mvalues\u001b[0m\u001b[0;34m,\u001b[0m \u001b[0mindex\u001b[0m\u001b[0;34m=\u001b[0m\u001b[0marg\u001b[0m\u001b[0;34m.\u001b[0m\u001b[0mindex\u001b[0m\u001b[0;34m,\u001b[0m \u001b[0mname\u001b[0m\u001b[0;34m=\u001b[0m\u001b[0marg\u001b[0m\u001b[0;34m.\u001b[0m\u001b[0mname\u001b[0m\u001b[0;34m)\u001b[0m\u001b[0;34m\u001b[0m\u001b[0m\n\u001b[1;32m    511\u001b[0m     \u001b[0;32melif\u001b[0m \u001b[0misinstance\u001b[0m\u001b[0;34m(\u001b[0m\u001b[0marg\u001b[0m\u001b[0;34m,\u001b[0m \u001b[0;34m(\u001b[0m\u001b[0mABCDataFrame\u001b[0m\u001b[0;34m,\u001b[0m \u001b[0mMutableMapping\u001b[0m\u001b[0;34m)\u001b[0m\u001b[0;34m)\u001b[0m\u001b[0;34m:\u001b[0m\u001b[0;34m\u001b[0m\u001b[0m\n\u001b[0;32m--> 512\u001b[0;31m         \u001b[0mresult\u001b[0m \u001b[0;34m=\u001b[0m \u001b[0m_assemble_from_unit_mappings\u001b[0m\u001b[0;34m(\u001b[0m\u001b[0marg\u001b[0m\u001b[0;34m,\u001b[0m \u001b[0merrors\u001b[0m\u001b[0;34m=\u001b[0m\u001b[0merrors\u001b[0m\u001b[0;34m)\u001b[0m\u001b[0;34m\u001b[0m\u001b[0m\n\u001b[0m\u001b[1;32m    513\u001b[0m     \u001b[0;32melif\u001b[0m \u001b[0misinstance\u001b[0m\u001b[0;34m(\u001b[0m\u001b[0marg\u001b[0m\u001b[0;34m,\u001b[0m \u001b[0mABCIndexClass\u001b[0m\u001b[0;34m)\u001b[0m\u001b[0;34m:\u001b[0m\u001b[0;34m\u001b[0m\u001b[0m\n\u001b[1;32m    514\u001b[0m         \u001b[0mresult\u001b[0m \u001b[0;34m=\u001b[0m \u001b[0m_convert_listlike\u001b[0m\u001b[0;34m(\u001b[0m\u001b[0marg\u001b[0m\u001b[0;34m,\u001b[0m \u001b[0mbox\u001b[0m\u001b[0;34m,\u001b[0m \u001b[0mformat\u001b[0m\u001b[0;34m,\u001b[0m \u001b[0mname\u001b[0m\u001b[0;34m=\u001b[0m\u001b[0marg\u001b[0m\u001b[0;34m.\u001b[0m\u001b[0mname\u001b[0m\u001b[0;34m)\u001b[0m\u001b[0;34m\u001b[0m\u001b[0m\n",
      "\u001b[0;32m~/anaconda3/lib/python3.6/site-packages/pandas/core/tools/datetimes.py\u001b[0m in \u001b[0;36m_assemble_from_unit_mappings\u001b[0;34m(arg, errors)\u001b[0m\n\u001b[1;32m    589\u001b[0m         raise ValueError(\"to assemble mappings requires at \"\n\u001b[1;32m    590\u001b[0m                          \u001b[0;34m\"least that [year, month, day] be specified: \"\u001b[0m\u001b[0;34m\u001b[0m\u001b[0m\n\u001b[0;32m--> 591\u001b[0;31m                          \"[{0}] is missing\".format(','.join(req)))\n\u001b[0m\u001b[1;32m    592\u001b[0m \u001b[0;34m\u001b[0m\u001b[0m\n\u001b[1;32m    593\u001b[0m     \u001b[0;31m# keys we don't recognize\u001b[0m\u001b[0;34m\u001b[0m\u001b[0;34m\u001b[0m\u001b[0m\n",
      "\u001b[0;31mValueError\u001b[0m: to assemble mappings requires at least that [year, month, day] be specified: [day] is missing"
     ]
    }
   ],
   "source": [
    "#In the dataset, dates are coded according to 4 variables: YEAR, QUARTER, DAY_OF_MONTH, and DAY_OF_WEEK. \n",
    "#Python offers datetime format which is really convenient to work with dates and times\n",
    "\n",
    "data['DATE'] = pd.to_datetime(data[['YEAR','MONTH', 'DAY_OF_MONTH']])"
   ]
  },
  {
   "cell_type": "code",
   "execution_count": 205,
   "metadata": {},
   "outputs": [
    {
     "data": {
      "text/html": [
       "<div>\n",
       "<style>\n",
       "    .dataframe thead tr:only-child th {\n",
       "        text-align: right;\n",
       "    }\n",
       "\n",
       "    .dataframe thead th {\n",
       "        text-align: left;\n",
       "    }\n",
       "\n",
       "    .dataframe tbody tr th {\n",
       "        vertical-align: top;\n",
       "    }\n",
       "</style>\n",
       "<table border=\"1\" class=\"dataframe\">\n",
       "  <thead>\n",
       "    <tr style=\"text-align: right;\">\n",
       "      <th></th>\n",
       "      <th>Code</th>\n",
       "      <th>Description</th>\n",
       "    </tr>\n",
       "  </thead>\n",
       "  <tbody>\n",
       "    <tr>\n",
       "      <th>0</th>\n",
       "      <td>19031</td>\n",
       "      <td>Mackey International Inc.: MAC</td>\n",
       "    </tr>\n",
       "    <tr>\n",
       "      <th>1</th>\n",
       "      <td>19032</td>\n",
       "      <td>Munz Northern Airlines Inc.: XY</td>\n",
       "    </tr>\n",
       "    <tr>\n",
       "      <th>2</th>\n",
       "      <td>19033</td>\n",
       "      <td>Cochise Airlines Inc.: COC</td>\n",
       "    </tr>\n",
       "    <tr>\n",
       "      <th>3</th>\n",
       "      <td>19034</td>\n",
       "      <td>Golden Gate Airlines Inc.: GSA</td>\n",
       "    </tr>\n",
       "    <tr>\n",
       "      <th>4</th>\n",
       "      <td>19035</td>\n",
       "      <td>Aeromech Inc.: RZZ</td>\n",
       "    </tr>\n",
       "  </tbody>\n",
       "</table>\n",
       "</div>"
      ],
      "text/plain": [
       "    Code                      Description\n",
       "0  19031   Mackey International Inc.: MAC\n",
       "1  19032  Munz Northern Airlines Inc.: XY\n",
       "2  19033       Cochise Airlines Inc.: COC\n",
       "3  19034   Golden Gate Airlines Inc.: GSA\n",
       "4  19035               Aeromech Inc.: RZZ"
      ]
     },
     "execution_count": 205,
     "metadata": {},
     "output_type": "execute_result"
    }
   ],
   "source": [
    "#Read the Airline Code Description CSV file for full names of the Airlines\n",
    "Airline_key = pd.read_csv('Airlines.csv')\n",
    "Airline_key.head()"
   ]
  },
  {
   "cell_type": "code",
   "execution_count": 204,
   "metadata": {},
   "outputs": [
    {
     "data": {
      "text/html": [
       "<div>\n",
       "<style>\n",
       "    .dataframe thead tr:only-child th {\n",
       "        text-align: right;\n",
       "    }\n",
       "\n",
       "    .dataframe thead th {\n",
       "        text-align: left;\n",
       "    }\n",
       "\n",
       "    .dataframe tbody tr th {\n",
       "        vertical-align: top;\n",
       "    }\n",
       "</style>\n",
       "<table border=\"1\" class=\"dataframe\">\n",
       "  <thead>\n",
       "    <tr style=\"text-align: right;\">\n",
       "      <th></th>\n",
       "      <th>AIRLINE_ID</th>\n",
       "      <th>Description</th>\n",
       "    </tr>\n",
       "  </thead>\n",
       "  <tbody>\n",
       "    <tr>\n",
       "      <th>0</th>\n",
       "      <td>19031</td>\n",
       "      <td>Mackey International Inc.: MAC</td>\n",
       "    </tr>\n",
       "    <tr>\n",
       "      <th>1</th>\n",
       "      <td>19032</td>\n",
       "      <td>Munz Northern Airlines Inc.: XY</td>\n",
       "    </tr>\n",
       "    <tr>\n",
       "      <th>2</th>\n",
       "      <td>19033</td>\n",
       "      <td>Cochise Airlines Inc.: COC</td>\n",
       "    </tr>\n",
       "    <tr>\n",
       "      <th>3</th>\n",
       "      <td>19034</td>\n",
       "      <td>Golden Gate Airlines Inc.: GSA</td>\n",
       "    </tr>\n",
       "    <tr>\n",
       "      <th>4</th>\n",
       "      <td>19035</td>\n",
       "      <td>Aeromech Inc.: RZZ</td>\n",
       "    </tr>\n",
       "  </tbody>\n",
       "</table>\n",
       "</div>"
      ],
      "text/plain": [
       "   AIRLINE_ID                      Description\n",
       "0       19031   Mackey International Inc.: MAC\n",
       "1       19032  Munz Northern Airlines Inc.: XY\n",
       "2       19033       Cochise Airlines Inc.: COC\n",
       "3       19034   Golden Gate Airlines Inc.: GSA\n",
       "4       19035               Aeromech Inc.: RZZ"
      ]
     },
     "execution_count": 204,
     "metadata": {},
     "output_type": "execute_result"
    }
   ],
   "source": [
    "Airline_key.rename(columns={'Code': 'AIRLINE_ID'}, inplace=True)\n",
    "Airline_key.head()"
   ]
  },
  {
   "cell_type": "code",
   "execution_count": 184,
   "metadata": {
    "scrolled": true
   },
   "outputs": [
    {
     "data": {
      "text/html": [
       "<div>\n",
       "<style>\n",
       "    .dataframe thead tr:only-child th {\n",
       "        text-align: right;\n",
       "    }\n",
       "\n",
       "    .dataframe thead th {\n",
       "        text-align: left;\n",
       "    }\n",
       "\n",
       "    .dataframe tbody tr th {\n",
       "        vertical-align: top;\n",
       "    }\n",
       "</style>\n",
       "<table border=\"1\" class=\"dataframe\">\n",
       "  <thead>\n",
       "    <tr style=\"text-align: right;\">\n",
       "      <th></th>\n",
       "      <th>YEAR</th>\n",
       "      <th>QUARTER</th>\n",
       "      <th>MONTH</th>\n",
       "      <th>DAY_OF_MONTH</th>\n",
       "      <th>DAY_OF_WEEK</th>\n",
       "      <th>FL_NUM</th>\n",
       "      <th>ORIGIN_AIRPORT_ID</th>\n",
       "      <th>DEST_AIRPORT_ID</th>\n",
       "      <th>SCHED_DEP_TIME</th>\n",
       "      <th>SCHED_ARR_TIME</th>\n",
       "      <th>DELAY</th>\n",
       "      <th>Description</th>\n",
       "    </tr>\n",
       "    <tr>\n",
       "      <th>AIRLINE_ID</th>\n",
       "      <th></th>\n",
       "      <th></th>\n",
       "      <th></th>\n",
       "      <th></th>\n",
       "      <th></th>\n",
       "      <th></th>\n",
       "      <th></th>\n",
       "      <th></th>\n",
       "      <th></th>\n",
       "      <th></th>\n",
       "      <th></th>\n",
       "      <th></th>\n",
       "    </tr>\n",
       "  </thead>\n",
       "  <tbody>\n",
       "    <tr>\n",
       "      <th>19805</th>\n",
       "      <td>2017</td>\n",
       "      <td>1</td>\n",
       "      <td>1</td>\n",
       "      <td>7</td>\n",
       "      <td>6</td>\n",
       "      <td>1766</td>\n",
       "      <td>11298</td>\n",
       "      <td>12889</td>\n",
       "      <td>1055</td>\n",
       "      <td>1154</td>\n",
       "      <td>0.0</td>\n",
       "      <td>American Airlines Inc.: AA</td>\n",
       "    </tr>\n",
       "    <tr>\n",
       "      <th>19805</th>\n",
       "      <td>2017</td>\n",
       "      <td>1</td>\n",
       "      <td>1</td>\n",
       "      <td>8</td>\n",
       "      <td>7</td>\n",
       "      <td>1766</td>\n",
       "      <td>11298</td>\n",
       "      <td>12889</td>\n",
       "      <td>1055</td>\n",
       "      <td>1154</td>\n",
       "      <td>0.0</td>\n",
       "      <td>American Airlines Inc.: AA</td>\n",
       "    </tr>\n",
       "    <tr>\n",
       "      <th>19805</th>\n",
       "      <td>2017</td>\n",
       "      <td>1</td>\n",
       "      <td>1</td>\n",
       "      <td>1</td>\n",
       "      <td>7</td>\n",
       "      <td>1766</td>\n",
       "      <td>13930</td>\n",
       "      <td>11298</td>\n",
       "      <td>710</td>\n",
       "      <td>948</td>\n",
       "      <td>0.0</td>\n",
       "      <td>American Airlines Inc.: AA</td>\n",
       "    </tr>\n",
       "    <tr>\n",
       "      <th>19805</th>\n",
       "      <td>2017</td>\n",
       "      <td>1</td>\n",
       "      <td>1</td>\n",
       "      <td>2</td>\n",
       "      <td>1</td>\n",
       "      <td>1766</td>\n",
       "      <td>13930</td>\n",
       "      <td>11298</td>\n",
       "      <td>710</td>\n",
       "      <td>948</td>\n",
       "      <td>0.0</td>\n",
       "      <td>American Airlines Inc.: AA</td>\n",
       "    </tr>\n",
       "    <tr>\n",
       "      <th>19805</th>\n",
       "      <td>2017</td>\n",
       "      <td>1</td>\n",
       "      <td>1</td>\n",
       "      <td>3</td>\n",
       "      <td>2</td>\n",
       "      <td>1766</td>\n",
       "      <td>13930</td>\n",
       "      <td>11298</td>\n",
       "      <td>710</td>\n",
       "      <td>948</td>\n",
       "      <td>0.0</td>\n",
       "      <td>American Airlines Inc.: AA</td>\n",
       "    </tr>\n",
       "  </tbody>\n",
       "</table>\n",
       "</div>"
      ],
      "text/plain": [
       "            YEAR  QUARTER  MONTH  DAY_OF_MONTH  DAY_OF_WEEK  FL_NUM  \\\n",
       "AIRLINE_ID                                                            \n",
       "19805       2017        1      1             7            6    1766   \n",
       "19805       2017        1      1             8            7    1766   \n",
       "19805       2017        1      1             1            7    1766   \n",
       "19805       2017        1      1             2            1    1766   \n",
       "19805       2017        1      1             3            2    1766   \n",
       "\n",
       "            ORIGIN_AIRPORT_ID  DEST_AIRPORT_ID  SCHED_DEP_TIME  \\\n",
       "AIRLINE_ID                                                       \n",
       "19805                   11298            12889            1055   \n",
       "19805                   11298            12889            1055   \n",
       "19805                   13930            11298             710   \n",
       "19805                   13930            11298             710   \n",
       "19805                   13930            11298             710   \n",
       "\n",
       "            SCHED_ARR_TIME  DELAY                 Description  \n",
       "AIRLINE_ID                                                     \n",
       "19805                 1154    0.0  American Airlines Inc.: AA  \n",
       "19805                 1154    0.0  American Airlines Inc.: AA  \n",
       "19805                  948    0.0  American Airlines Inc.: AA  \n",
       "19805                  948    0.0  American Airlines Inc.: AA  \n",
       "19805                  948    0.0  American Airlines Inc.: AA  "
      ]
     },
     "execution_count": 184,
     "metadata": {},
     "output_type": "execute_result"
    }
   ],
   "source": [
    "merged = pd.merge (data, Airline_key, on ='AIRLINE_ID', how = 'inner')\n",
    "merged.set_index ('AIRLINE_ID', inplace=True)\n",
    "merged.head()"
   ]
  },
  {
   "cell_type": "code",
   "execution_count": 200,
   "metadata": {
    "scrolled": false
   },
   "outputs": [
    {
     "data": {
      "image/png": "[encoded data removed]",
      "text/plain": [
       "<matplotlib.figure.Figure at 0x1a0facb978>"
      ]
     },
     "metadata": {},
     "output_type": "display_data"
    }
   ],
   "source": [
    "#Create the plot in seaborn, Delays are clubbed to show the data at the same scale\n",
    "plt.figure(figsize=(15, 2))\n",
    "g = sns.violinplot(x=\"Description\", y=\"DELAY\", data=merged,palette=\"coolwarm\")\n",
    "g.set_ylabel('Delay')\n",
    "g.set_xlabel('')\n",
    "label = g.set_xticklabels(g.get_xticklabels(), rotation=90)\n",
    "plt.show()"
   ]
  },
  {
   "cell_type": "code",
   "execution_count": null,
   "metadata": {
    "collapsed": true
   },
   "outputs": [],
   "source": []
  },
  {
   "cell_type": "code",
   "execution_count": null,
   "metadata": {
    "collapsed": true
   },
   "outputs": [],
   "source": []
  }
 ],
 "metadata": {
  "kernelspec": {
   "display_name": "Python 3",
   "language": "python",
   "name": "python3"
  },
  "language_info": {
   "codemirror_mode": {
    "name": "ipython",
    "version": 3
   },
   "file_extension": ".py",
   "mimetype": "text/x-python",
   "name": "python",
   "nbconvert_exporter": "python",
   "pygments_lexer": "ipython3",
   "version": "3.6.3"
  }
 },
 "nbformat": 4,
 "nbformat_minor": 2
}
